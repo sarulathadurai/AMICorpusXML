{
  "nbformat": 4,
  "nbformat_minor": 0,
  "metadata": {
    "accelerator": "GPU",
    "colab": {
      "name": "NewPre.ipynb",
      "provenance": [],
      "collapsed_sections": [],
      "authorship_tag": "ABX9TyOmzrlyisEhKtS5O/AG/5DF",
      "include_colab_link": true
    },
    "kernelspec": {
      "display_name": "Python 3",
      "name": "python3"
    },
    "language_info": {
      "name": "python"
    }
  },
  "cells": [
    {
      "cell_type": "markdown",
      "metadata": {
        "id": "view-in-github",
        "colab_type": "text"
      },
      "source": [
        "<a href=\"https://colab.research.google.com/github/sarulathadurai/AMICorpusXML/blob/master/NewPre.ipynb\" target=\"_parent\"><img src=\"https://colab.research.google.com/assets/colab-badge.svg\" alt=\"Open In Colab\"/></a>"
      ]
    },
    {
      "cell_type": "code",
      "metadata": {
        "colab": {
          "base_uri": "https://localhost:8080/"
        },
        "id": "B-EESxpFT1-D",
        "outputId": "fdf1f7d2-fdbb-4883-831f-88860a643c22"
      },
      "source": [
        "!git clone https://github.com/nlpyang/PreSumm.git"
      ],
      "execution_count": 1,
      "outputs": [
        {
          "output_type": "stream",
          "text": [
            "Cloning into 'PreSumm'...\n",
            "remote: Enumerating objects: 417, done.\u001b[K\n",
            "remote: Total 417 (delta 0), reused 0 (delta 0), pack-reused 417\u001b[K\n",
            "Receiving objects: 100% (417/417), 13.00 MiB | 9.37 MiB/s, done.\n",
            "Resolving deltas: 100% (280/280), done.\n"
          ],
          "name": "stdout"
        }
      ]
    },
    {
      "cell_type": "code",
      "metadata": {
        "colab": {
          "base_uri": "https://localhost:8080/"
        },
        "id": "78ccU_j3UK2B",
        "outputId": "5a942269-e7d9-4171-c35f-bc70ae06d612"
      },
      "source": [
        "!pip install torch==1.1.0 pytorch_transformers tensorboardX multiprocess pyrouge"
      ],
      "execution_count": 3,
      "outputs": [
        {
          "output_type": "stream",
          "text": [
            "Collecting torch==1.1.0\n",
            "\u001b[?25l  Downloading https://files.pythonhosted.org/packages/ac/23/a4b5c189dd624411ec84613b717594a00480282b949e3448d189c4aa4e47/torch-1.1.0-cp37-cp37m-manylinux1_x86_64.whl (676.9MB)\n",
            "\u001b[K     |████████████████████████████████| 676.9MB 26kB/s \n",
            "\u001b[?25hCollecting pytorch_transformers\n",
            "\u001b[?25l  Downloading https://files.pythonhosted.org/packages/a3/b7/d3d18008a67e0b968d1ab93ad444fc05699403fa662f634b2f2c318a508b/pytorch_transformers-1.2.0-py3-none-any.whl (176kB)\n",
            "\u001b[K     |████████████████████████████████| 184kB 37.2MB/s \n",
            "\u001b[?25hCollecting tensorboardX\n",
            "\u001b[?25l  Downloading https://files.pythonhosted.org/packages/af/0c/4f41bcd45db376e6fe5c619c01100e9b7531c55791b7244815bac6eac32c/tensorboardX-2.1-py2.py3-none-any.whl (308kB)\n",
            "\u001b[K     |████████████████████████████████| 317kB 37.0MB/s \n",
            "\u001b[?25hRequirement already satisfied: multiprocess in /usr/local/lib/python3.7/dist-packages (0.70.11.1)\n",
            "Collecting pyrouge\n",
            "\u001b[?25l  Downloading https://files.pythonhosted.org/packages/11/85/e522dd6b36880ca19dcf7f262b22365748f56edc6f455e7b6a37d0382c32/pyrouge-0.1.3.tar.gz (60kB)\n",
            "\u001b[K     |████████████████████████████████| 61kB 7.2MB/s \n",
            "\u001b[?25hRequirement already satisfied: numpy in /usr/local/lib/python3.7/dist-packages (from torch==1.1.0) (1.19.5)\n",
            "Requirement already satisfied: requests in /usr/local/lib/python3.7/dist-packages (from pytorch_transformers) (2.23.0)\n",
            "Collecting boto3\n",
            "\u001b[?25l  Downloading https://files.pythonhosted.org/packages/30/6d/1c43d87bfff9e7afb5130629dfb7d57617245eeb4a474bf77f45d637c3a6/boto3-1.17.33-py2.py3-none-any.whl (131kB)\n",
            "\u001b[K     |████████████████████████████████| 133kB 39.0MB/s \n",
            "\u001b[?25hCollecting sacremoses\n",
            "\u001b[?25l  Downloading https://files.pythonhosted.org/packages/7d/34/09d19aff26edcc8eb2a01bed8e98f13a1537005d31e95233fd48216eed10/sacremoses-0.0.43.tar.gz (883kB)\n",
            "\u001b[K     |████████████████████████████████| 890kB 38.1MB/s \n",
            "\u001b[?25hRequirement already satisfied: regex in /usr/local/lib/python3.7/dist-packages (from pytorch_transformers) (2019.12.20)\n",
            "Collecting sentencepiece\n",
            "\u001b[?25l  Downloading https://files.pythonhosted.org/packages/f5/99/e0808cb947ba10f575839c43e8fafc9cc44e4a7a2c8f79c60db48220a577/sentencepiece-0.1.95-cp37-cp37m-manylinux2014_x86_64.whl (1.2MB)\n",
            "\u001b[K     |████████████████████████████████| 1.2MB 23.1MB/s \n",
            "\u001b[?25hRequirement already satisfied: tqdm in /usr/local/lib/python3.7/dist-packages (from pytorch_transformers) (4.41.1)\n",
            "Requirement already satisfied: six in /usr/local/lib/python3.7/dist-packages (from tensorboardX) (1.15.0)\n",
            "Requirement already satisfied: protobuf>=3.8.0 in /usr/local/lib/python3.7/dist-packages (from tensorboardX) (3.12.4)\n",
            "Requirement already satisfied: dill>=0.3.3 in /usr/local/lib/python3.7/dist-packages (from multiprocess) (0.3.3)\n",
            "Requirement already satisfied: chardet<4,>=3.0.2 in /usr/local/lib/python3.7/dist-packages (from requests->pytorch_transformers) (3.0.4)\n",
            "Requirement already satisfied: certifi>=2017.4.17 in /usr/local/lib/python3.7/dist-packages (from requests->pytorch_transformers) (2020.12.5)\n",
            "Requirement already satisfied: urllib3!=1.25.0,!=1.25.1,<1.26,>=1.21.1 in /usr/local/lib/python3.7/dist-packages (from requests->pytorch_transformers) (1.24.3)\n",
            "Requirement already satisfied: idna<3,>=2.5 in /usr/local/lib/python3.7/dist-packages (from requests->pytorch_transformers) (2.10)\n",
            "Collecting jmespath<1.0.0,>=0.7.1\n",
            "  Downloading https://files.pythonhosted.org/packages/07/cb/5f001272b6faeb23c1c9e0acc04d48eaaf5c862c17709d20e3469c6e0139/jmespath-0.10.0-py2.py3-none-any.whl\n",
            "Collecting botocore<1.21.0,>=1.20.33\n",
            "\u001b[?25l  Downloading https://files.pythonhosted.org/packages/dd/1c/f922d7fa47cdd6a18c7470252e86f7c4d24e85cb3cdff09486675df3769c/botocore-1.20.33-py2.py3-none-any.whl (7.3MB)\n",
            "\u001b[K     |████████████████████████████████| 7.3MB 8.5MB/s \n",
            "\u001b[?25hCollecting s3transfer<0.4.0,>=0.3.0\n",
            "\u001b[?25l  Downloading https://files.pythonhosted.org/packages/98/14/0b4be62b65c52d6d1c442f24e02d2a9889a73d3c352002e14c70f84a679f/s3transfer-0.3.6-py2.py3-none-any.whl (73kB)\n",
            "\u001b[K     |████████████████████████████████| 81kB 8.7MB/s \n",
            "\u001b[?25hRequirement already satisfied: click in /usr/local/lib/python3.7/dist-packages (from sacremoses->pytorch_transformers) (7.1.2)\n",
            "Requirement already satisfied: joblib in /usr/local/lib/python3.7/dist-packages (from sacremoses->pytorch_transformers) (1.0.1)\n",
            "Requirement already satisfied: setuptools in /usr/local/lib/python3.7/dist-packages (from protobuf>=3.8.0->tensorboardX) (54.1.2)\n",
            "Requirement already satisfied: python-dateutil<3.0.0,>=2.1 in /usr/local/lib/python3.7/dist-packages (from botocore<1.21.0,>=1.20.33->boto3->pytorch_transformers) (2.8.1)\n",
            "Building wheels for collected packages: pyrouge, sacremoses\n",
            "  Building wheel for pyrouge (setup.py) ... \u001b[?25l\u001b[?25hdone\n",
            "  Created wheel for pyrouge: filename=pyrouge-0.1.3-cp37-none-any.whl size=191613 sha256=9bb5b7b84b22aa46be4d7fc2c5e290dce67696ab08b6ed9011fa6bd8b2e2f4a4\n",
            "  Stored in directory: /root/.cache/pip/wheels/75/d3/0c/e5b04e15b6b87c42e980de3931d2686e14d36e045058983599\n",
            "  Building wheel for sacremoses (setup.py) ... \u001b[?25l\u001b[?25hdone\n",
            "  Created wheel for sacremoses: filename=sacremoses-0.0.43-cp37-none-any.whl size=893262 sha256=fcf63d54fd6dd4b4892dd97b78f69066c95276c9d141c9c180ee81458d2a926f\n",
            "  Stored in directory: /root/.cache/pip/wheels/29/3c/fd/7ce5c3f0666dab31a50123635e6fb5e19ceb42ce38d4e58f45\n",
            "Successfully built pyrouge sacremoses\n",
            "\u001b[31mERROR: torchvision 0.9.0+cu101 has requirement torch==1.8.0, but you'll have torch 1.1.0 which is incompatible.\u001b[0m\n",
            "\u001b[31mERROR: torchtext 0.9.0 has requirement torch==1.8.0, but you'll have torch 1.1.0 which is incompatible.\u001b[0m\n",
            "\u001b[31mERROR: botocore 1.20.33 has requirement urllib3<1.27,>=1.25.4, but you'll have urllib3 1.24.3 which is incompatible.\u001b[0m\n",
            "Installing collected packages: torch, jmespath, botocore, s3transfer, boto3, sacremoses, sentencepiece, pytorch-transformers, tensorboardX, pyrouge\n",
            "  Found existing installation: torch 1.8.0+cu101\n",
            "    Uninstalling torch-1.8.0+cu101:\n",
            "      Successfully uninstalled torch-1.8.0+cu101\n",
            "Successfully installed boto3-1.17.33 botocore-1.20.33 jmespath-0.10.0 pyrouge-0.1.3 pytorch-transformers-1.2.0 s3transfer-0.3.6 sacremoses-0.0.43 sentencepiece-0.1.95 tensorboardX-2.1 torch-1.1.0\n"
          ],
          "name": "stdout"
        }
      ]
    },
    {
      "cell_type": "code",
      "metadata": {
        "colab": {
          "base_uri": "https://localhost:8080/"
        },
        "id": "Ej7msGsMUqp3",
        "outputId": "dfe9f60e-c262-4975-b579-5e0fd8c3e0c1"
      },
      "source": [
        "%cd /content/PreSumm/models\n",
        "\n",
        "#CNN/DM Extractive bertext_cnndm_transformer.pt\n",
        "!gdown https://drive.google.com/uc?id=1kKWoV0QCbeIuFt85beQgJ4v0lujaXobJ&export=download\n"
      ],
      "execution_count": 4,
      "outputs": [
        {
          "output_type": "stream",
          "text": [
            "/content/PreSumm/models\n",
            "Downloading...\n",
            "From: https://drive.google.com/uc?id=1kKWoV0QCbeIuFt85beQgJ4v0lujaXobJ\n",
            "To: /content/PreSumm/models/bertext_cnndm_transformer.zip\n",
            "1.32GB [00:39, 33.3MB/s]\n"
          ],
          "name": "stdout"
        }
      ]
    },
    {
      "cell_type": "code",
      "metadata": {
        "colab": {
          "base_uri": "https://localhost:8080/"
        },
        "id": "dWJNMO2fVGk9",
        "outputId": "e0d2dc49-7ac6-40cf-bce7-f9d2319d4cc6"
      },
      "source": [
        "!unzip /content/PreSumm/models/bertext_cnndm_transformer.zip"
      ],
      "execution_count": 6,
      "outputs": [
        {
          "output_type": "stream",
          "text": [
            "Archive:  /content/PreSumm/models/bertext_cnndm_transformer.zip\n",
            "  inflating: bertext_cnndm_transformer.pt  \n"
          ],
          "name": "stdout"
        }
      ]
    },
    {
      "cell_type": "code",
      "metadata": {
        "id": "DF0-MbMTVPhb"
      },
      "source": [
        "\n",
        "!mv /content/PreSumm/models/bertext_cnndm_transformer.pt /content/PreSumm/models/CNN_DailyMail_Extractive\n"
      ],
      "execution_count": 7,
      "outputs": []
    },
    {
      "cell_type": "code",
      "metadata": {
        "colab": {
          "base_uri": "https://localhost:8080/"
        },
        "id": "i68XYb9DV8UW",
        "outputId": "31f6e9c6-8f1e-41fd-e947-06ff8e4118f3"
      },
      "source": [
        "!mkdir /content/PreSumm/bert_data_test/\n",
        "!mkdir /content/PreSumm/bert_data/cnndm\n",
        "\n",
        "%cd /content/PreSumm/bert_data/cnndm"
      ],
      "execution_count": 8,
      "outputs": [
        {
          "output_type": "stream",
          "text": [
            "/content/PreSumm/bert_data/cnndm\n"
          ],
          "name": "stdout"
        }
      ]
    },
    {
      "cell_type": "code",
      "metadata": {
        "id": "duajb_fgDq8L"
      },
      "source": [
        "!mkdir /content/PreSumm/raw_stories/"
      ],
      "execution_count": 9,
      "outputs": []
    },
    {
      "cell_type": "code",
      "metadata": {
        "colab": {
          "base_uri": "https://localhost:8080/"
        },
        "id": "5N2LV2oSFBj3",
        "outputId": "a3bac091-9083-4ea5-da37-895965f98596"
      },
      "source": [
        "%cd /content/PreSumm/raw_stories/"
      ],
      "execution_count": 10,
      "outputs": [
        {
          "output_type": "stream",
          "text": [
            "/content/PreSumm/raw_stories\n"
          ],
          "name": "stdout"
        }
      ]
    },
    {
      "cell_type": "code",
      "metadata": {
        "colab": {
          "base_uri": "https://localhost:8080/"
        },
        "id": "mIf7nOGCFFCh",
        "outputId": "6dcac74c-2fe8-4044-e5af-a5ff37237cd4"
      },
      "source": [
        "#custom data\n",
        "!gdown https://drive.google.com/uc?id=1omBqwHl8OornQTuLKqfYZJT7RDMHeFaa\n",
        "  "
      ],
      "execution_count": 11,
      "outputs": [
        {
          "output_type": "stream",
          "text": [
            "Downloading...\n",
            "From: https://drive.google.com/uc?id=1omBqwHl8OornQTuLKqfYZJT7RDMHeFaa\n",
            "To: /content/PreSumm/raw_stories/extractive.zip\n",
            "\r  0% 0.00/1.44M [00:00<?, ?B/s]\r100% 1.44M/1.44M [00:00<00:00, 46.9MB/s]\n"
          ],
          "name": "stdout"
        }
      ]
    },
    {
      "cell_type": "code",
      "metadata": {
        "colab": {
          "base_uri": "https://localhost:8080/"
        },
        "id": "F1BcPtz5Fn_X",
        "outputId": "53cf0387-42de-4a7b-a8af-9b7b12896650"
      },
      "source": [
        "!unzip /content/PreSumm/raw_stories/extractive.zip"
      ],
      "execution_count": 12,
      "outputs": [
        {
          "output_type": "stream",
          "text": [
            "Archive:  /content/PreSumm/raw_stories/extractive.zip\n",
            "   creating: extractive/\n",
            "  inflating: extractive/ES2002a.story  \n",
            "  inflating: extractive/ES2002b.story  \n",
            "  inflating: extractive/ES2002c.story  \n",
            "  inflating: extractive/ES2002d.story  \n",
            "  inflating: extractive/ES2003a.story  \n",
            "  inflating: extractive/ES2003b.story  \n",
            "  inflating: extractive/ES2003c.story  \n",
            "  inflating: extractive/ES2003d.story  \n",
            "  inflating: extractive/ES2004a.story  \n",
            "  inflating: extractive/ES2004b.story  \n",
            "  inflating: extractive/ES2004c.story  \n",
            "  inflating: extractive/ES2004d.story  \n",
            "  inflating: extractive/ES2005a.story  \n",
            "  inflating: extractive/ES2005b.story  \n",
            "  inflating: extractive/ES2005c.story  \n",
            "  inflating: extractive/ES2005d.story  \n",
            "  inflating: extractive/ES2006a.story  \n",
            "  inflating: extractive/ES2006b.story  \n",
            "  inflating: extractive/ES2006c.story  \n",
            "  inflating: extractive/ES2006d.story  \n",
            "  inflating: extractive/ES2007a.story  \n",
            "  inflating: extractive/ES2007b.story  \n",
            "  inflating: extractive/ES2007c.story  \n",
            "  inflating: extractive/ES2007d.story  \n",
            "  inflating: extractive/ES2008a.story  \n",
            "  inflating: extractive/ES2008b.story  \n",
            "  inflating: extractive/ES2008c.story  \n",
            "  inflating: extractive/ES2008d.story  \n",
            "  inflating: extractive/ES2009a.story  \n",
            "  inflating: extractive/ES2009b.story  \n",
            "  inflating: extractive/ES2009c.story  \n",
            "  inflating: extractive/ES2009d.story  \n",
            "  inflating: extractive/ES2010a.story  \n",
            "  inflating: extractive/ES2010b.story  \n",
            "  inflating: extractive/ES2010c.story  \n",
            "  inflating: extractive/ES2010d.story  \n",
            "  inflating: extractive/ES2011a.story  \n",
            "  inflating: extractive/ES2011b.story  \n",
            "  inflating: extractive/ES2011c.story  \n",
            "  inflating: extractive/ES2011d.story  \n",
            "  inflating: extractive/ES2012a.story  \n",
            "  inflating: extractive/ES2012b.story  \n",
            "  inflating: extractive/ES2012c.story  \n",
            "  inflating: extractive/ES2012d.story  \n",
            "  inflating: extractive/ES2013a.story  \n",
            "  inflating: extractive/ES2013b.story  \n",
            "  inflating: extractive/ES2013c.story  \n",
            "  inflating: extractive/ES2013d.story  \n",
            "  inflating: extractive/ES2014a.story  \n",
            "  inflating: extractive/ES2014b.story  \n",
            "  inflating: extractive/ES2014c.story  \n",
            "  inflating: extractive/ES2014d.story  \n",
            "  inflating: extractive/ES2015a.story  \n",
            "  inflating: extractive/ES2015b.story  \n",
            "  inflating: extractive/ES2015c.story  \n",
            "  inflating: extractive/ES2015d.story  \n",
            "  inflating: extractive/ES2016a.story  \n",
            "  inflating: extractive/ES2016b.story  \n",
            "  inflating: extractive/ES2016c.story  \n",
            "  inflating: extractive/ES2016d.story  \n",
            "  inflating: extractive/IS1000a.story  \n",
            "  inflating: extractive/IS1000b.story  \n",
            "  inflating: extractive/IS1000c.story  \n",
            "  inflating: extractive/IS1000d.story  \n",
            "  inflating: extractive/IS1001a.story  \n",
            "  inflating: extractive/IS1001b.story  \n",
            "  inflating: extractive/IS1001c.story  \n",
            "  inflating: extractive/IS1001d.story  \n",
            "  inflating: extractive/IS1002b.story  \n",
            "  inflating: extractive/IS1002c.story  \n",
            "  inflating: extractive/IS1002d.story  \n",
            "  inflating: extractive/IS1003a.story  \n",
            "  inflating: extractive/IS1003b.story  \n",
            "  inflating: extractive/IS1003c.story  \n",
            "  inflating: extractive/IS1003d.story  \n",
            "  inflating: extractive/IS1004a.story  \n",
            "  inflating: extractive/IS1004b.story  \n",
            "  inflating: extractive/IS1004c.story  \n",
            "  inflating: extractive/IS1004d.story  \n",
            "  inflating: extractive/IS1005a.story  \n",
            "  inflating: extractive/IS1005b.story  \n",
            "  inflating: extractive/IS1005c.story  \n",
            "  inflating: extractive/IS1006a.story  \n",
            "  inflating: extractive/IS1006b.story  \n",
            "  inflating: extractive/IS1006c.story  \n",
            "  inflating: extractive/IS1006d.story  \n",
            "  inflating: extractive/IS1007a.story  \n",
            "  inflating: extractive/IS1007b.story  \n",
            "  inflating: extractive/IS1007c.story  \n",
            "  inflating: extractive/IS1007d.story  \n",
            "  inflating: extractive/IS1008a.story  \n",
            "  inflating: extractive/IS1008b.story  \n",
            "  inflating: extractive/IS1008c.story  \n",
            "  inflating: extractive/IS1008d.story  \n",
            "  inflating: extractive/IS1009a.story  \n",
            "  inflating: extractive/IS1009b.story  \n",
            "  inflating: extractive/IS1009c.story  \n",
            "  inflating: extractive/IS1009d.story  \n",
            "  inflating: extractive/TS3003a.story  \n",
            "  inflating: extractive/TS3003b.story  \n",
            "  inflating: extractive/TS3003c.story  \n",
            "  inflating: extractive/TS3003d.story  \n",
            "  inflating: extractive/TS3004a.story  \n",
            "  inflating: extractive/TS3004b.story  \n",
            "  inflating: extractive/TS3004c.story  \n",
            "  inflating: extractive/TS3004d.story  \n",
            "  inflating: extractive/TS3005a.story  \n",
            "  inflating: extractive/TS3005b.story  \n",
            "  inflating: extractive/TS3005c.story  \n",
            "  inflating: extractive/TS3005d.story  \n",
            "  inflating: extractive/TS3006a.story  \n",
            "  inflating: extractive/TS3006b.story  \n",
            "  inflating: extractive/TS3006c.story  \n",
            "  inflating: extractive/TS3006d.story  \n",
            "  inflating: extractive/TS3007a.story  \n",
            "  inflating: extractive/TS3007b.story  \n",
            "  inflating: extractive/TS3007c.story  \n",
            "  inflating: extractive/TS3007d.story  \n",
            "  inflating: extractive/TS3008a.story  \n",
            "  inflating: extractive/TS3008b.story  \n",
            "  inflating: extractive/TS3008c.story  \n",
            "  inflating: extractive/TS3008d.story  \n",
            "  inflating: extractive/TS3009a.story  \n",
            "  inflating: extractive/TS3009b.story  \n",
            "  inflating: extractive/TS3009c.story  \n",
            "  inflating: extractive/TS3009d.story  \n",
            "  inflating: extractive/TS3010a.story  \n",
            "  inflating: extractive/TS3010b.story  \n",
            "  inflating: extractive/TS3010c.story  \n",
            "  inflating: extractive/TS3010d.story  \n",
            "  inflating: extractive/TS3011a.story  \n",
            "  inflating: extractive/TS3011b.story  \n",
            "  inflating: extractive/TS3011c.story  \n",
            "  inflating: extractive/TS3011d.story  \n",
            "  inflating: extractive/TS3012a.story  \n",
            "  inflating: extractive/TS3012b.story  \n",
            "  inflating: extractive/TS3012d.story  \n"
          ],
          "name": "stdout"
        }
      ]
    },
    {
      "cell_type": "code",
      "metadata": {
        "colab": {
          "base_uri": "https://localhost:8080/"
        },
        "id": "-l7UTbBjI29g",
        "outputId": "c90ab65b-003f-406a-d2f2-01cf0405259b"
      },
      "source": [
        "import os       #importing os to set environment variable\n",
        "def install_java():\n",
        "  !apt-get install -y openjdk-8-jdk-headless -qq > /dev/null      #install openjdk\n",
        "  os.environ[\"JAVA_HOME\"] = \"/usr/lib/jvm/java-8-openjdk-amd64\"     #set environment variable\n",
        "  !java -version       #check java version\n",
        "install_java()"
      ],
      "execution_count": 13,
      "outputs": [
        {
          "output_type": "stream",
          "text": [
            "openjdk version \"11.0.10\" 2021-01-19\n",
            "OpenJDK Runtime Environment (build 11.0.10+9-Ubuntu-0ubuntu1.18.04)\n",
            "OpenJDK 64-Bit Server VM (build 11.0.10+9-Ubuntu-0ubuntu1.18.04, mixed mode, sharing)\n"
          ],
          "name": "stdout"
        }
      ]
    },
    {
      "cell_type": "code",
      "metadata": {
        "colab": {
          "base_uri": "https://localhost:8080/"
        },
        "id": "TZupr49k3w60",
        "outputId": "6781ac7a-02d4-4dde-a411-c74d8998a122"
      },
      "source": [
        "!pip install stanza\n",
        "\n",
        "import stanza"
      ],
      "execution_count": 14,
      "outputs": [
        {
          "output_type": "stream",
          "text": [
            "Collecting stanza\n",
            "\u001b[?25l  Downloading https://files.pythonhosted.org/packages/50/ae/a70a58ce6b4e2daad538688806ee0f238dbe601954582a74ea57cde6c532/stanza-1.2-py3-none-any.whl (282kB)\n",
            "\u001b[K     |████████████████████████████████| 286kB 3.8MB/s \n",
            "\u001b[?25hCollecting torch>=1.3.0\n",
            "\u001b[?25l  Downloading https://files.pythonhosted.org/packages/94/99/5861239a6e1ffe66e120f114a4d67e96e5c4b17c1a785dfc6ca6769585fc/torch-1.8.0-cp37-cp37m-manylinux1_x86_64.whl (735.5MB)\n",
            "\u001b[K     |████████████████████████████████| 735.5MB 25kB/s \n",
            "\u001b[?25hRequirement already satisfied: tqdm in /usr/local/lib/python3.7/dist-packages (from stanza) (4.41.1)\n",
            "Requirement already satisfied: protobuf in /usr/local/lib/python3.7/dist-packages (from stanza) (3.12.4)\n",
            "Requirement already satisfied: requests in /usr/local/lib/python3.7/dist-packages (from stanza) (2.23.0)\n",
            "Requirement already satisfied: numpy in /usr/local/lib/python3.7/dist-packages (from stanza) (1.19.5)\n",
            "Requirement already satisfied: typing-extensions in /usr/local/lib/python3.7/dist-packages (from torch>=1.3.0->stanza) (3.7.4.3)\n",
            "Requirement already satisfied: six>=1.9 in /usr/local/lib/python3.7/dist-packages (from protobuf->stanza) (1.15.0)\n",
            "Requirement already satisfied: setuptools in /usr/local/lib/python3.7/dist-packages (from protobuf->stanza) (54.1.2)\n",
            "Requirement already satisfied: certifi>=2017.4.17 in /usr/local/lib/python3.7/dist-packages (from requests->stanza) (2020.12.5)\n",
            "Requirement already satisfied: idna<3,>=2.5 in /usr/local/lib/python3.7/dist-packages (from requests->stanza) (2.10)\n",
            "Requirement already satisfied: chardet<4,>=3.0.2 in /usr/local/lib/python3.7/dist-packages (from requests->stanza) (3.0.4)\n",
            "Requirement already satisfied: urllib3!=1.25.0,!=1.25.1,<1.26,>=1.21.1 in /usr/local/lib/python3.7/dist-packages (from requests->stanza) (1.24.3)\n",
            "Installing collected packages: torch, stanza\n",
            "  Found existing installation: torch 1.1.0\n",
            "    Uninstalling torch-1.1.0:\n",
            "      Successfully uninstalled torch-1.1.0\n",
            "Successfully installed stanza-1.2 torch-1.8.0\n"
          ],
          "name": "stdout"
        }
      ]
    },
    {
      "cell_type": "code",
      "metadata": {
        "id": "S3kqKGAp4tr-"
      },
      "source": [
        "# Download the Stanford CoreNLP package with Stanza's installation command\n",
        "# This'll take several minutes, depending on the network speed\n",
        "corenlp_dir = '/content/PreSumm/src/corenlp'\n",
        "\n",
        "\n",
        "# Set the CORENLP_HOME environment variable to point to the installation location\n",
        "import os\n",
        "os.environ[\"CORENLP_HOME\"] = corenlp_dir"
      ],
      "execution_count": 27,
      "outputs": []
    },
    {
      "cell_type": "code",
      "metadata": {
        "id": "wkhb446t6RVN"
      },
      "source": [
        "!mv /content/PreSumm/raw_stories/corenlp /content/PreSumm/src"
      ],
      "execution_count": 18,
      "outputs": []
    },
    {
      "cell_type": "code",
      "metadata": {
        "id": "fRWjnxvHHT29"
      },
      "source": [
        ""
      ],
      "execution_count": null,
      "outputs": []
    },
    {
      "cell_type": "code",
      "metadata": {
        "id": "xSyAnRLh-STO"
      },
      "source": [
        "!mv /content/PreSumm/raw_stories/extractive /content/PreSumm/src"
      ],
      "execution_count": 16,
      "outputs": []
    },
    {
      "cell_type": "code",
      "metadata": {
        "colab": {
          "base_uri": "https://localhost:8080/"
        },
        "id": "rPrN9YqJO717",
        "outputId": "e8e396ec-7d4d-4b04-85a1-13667244c9ae"
      },
      "source": [
        "%cd /content/PreSumm/src/corenlp/\n",
        "!java -cp \"*\" edu.stanford.nlp.pipeline.StanfordCoreNLP -file input.txt"
      ],
      "execution_count": 34,
      "outputs": [
        {
          "output_type": "stream",
          "text": [
            "/content/PreSumm/src/corenlp\n",
            "[main] INFO edu.stanford.nlp.pipeline.StanfordCoreNLP - Searching for resource: StanfordCoreNLP.properties ... found.\n",
            "[main] INFO edu.stanford.nlp.pipeline.StanfordCoreNLP - Adding annotator tokenize\n",
            "[main] INFO edu.stanford.nlp.pipeline.StanfordCoreNLP - Adding annotator ssplit\n",
            "[main] INFO edu.stanford.nlp.pipeline.StanfordCoreNLP - Adding annotator pos\n",
            "[main] INFO edu.stanford.nlp.tagger.maxent.MaxentTagger - Loading POS tagger from edu/stanford/nlp/models/pos-tagger/english-left3words-distsim.tagger ... done [1.8 sec].\n",
            "[main] INFO edu.stanford.nlp.pipeline.StanfordCoreNLP - Adding annotator lemma\n",
            "[main] INFO edu.stanford.nlp.pipeline.StanfordCoreNLP - Adding annotator ner\n",
            "[main] INFO edu.stanford.nlp.ie.AbstractSequenceClassifier - Loading classifier from edu/stanford/nlp/models/ner/english.all.3class.distsim.crf.ser.gz ... done [2.6 sec].\n",
            "[main] INFO edu.stanford.nlp.ie.AbstractSequenceClassifier - Loading classifier from edu/stanford/nlp/models/ner/english.muc.7class.distsim.crf.ser.gz ... done [1.0 sec].\n",
            "[main] INFO edu.stanford.nlp.ie.AbstractSequenceClassifier - Loading classifier from edu/stanford/nlp/models/ner/english.conll.4class.distsim.crf.ser.gz ... done [1.0 sec].\n",
            "[main] INFO edu.stanford.nlp.time.JollyDayHolidays - Initializing JollyDayHoliday for SUTime from classpath edu/stanford/nlp/models/sutime/jollyday/Holidays_sutime.xml as sutime.binder.1.\n",
            "[main] INFO edu.stanford.nlp.time.TimeExpressionExtractorImpl - Using following SUTime rules: edu/stanford/nlp/models/sutime/defs.sutime.txt,edu/stanford/nlp/models/sutime/english.sutime.txt,edu/stanford/nlp/models/sutime/english.holidays.sutime.txt\n",
            "[main] INFO edu.stanford.nlp.pipeline.TokensRegexNERAnnotator - ner.fine.regexner: Read 580705 unique entries out of 581864 from edu/stanford/nlp/models/kbp/english/gazetteers/regexner_caseless.tab, 0 TokensRegex patterns.\n",
            "[main] INFO edu.stanford.nlp.pipeline.TokensRegexNERAnnotator - ner.fine.regexner: Read 4867 unique entries out of 4867 from edu/stanford/nlp/models/kbp/english/gazetteers/regexner_cased.tab, 0 TokensRegex patterns.\n",
            "[main] INFO edu.stanford.nlp.pipeline.TokensRegexNERAnnotator - ner.fine.regexner: Read 585572 unique entries from 2 files\n",
            "[main] INFO edu.stanford.nlp.pipeline.NERCombinerAnnotator - numeric classifiers: true; SUTime: true [no docDate]; fine grained: true\n",
            "[main] INFO edu.stanford.nlp.pipeline.StanfordCoreNLP - Adding annotator depparse\n",
            "[main] INFO edu.stanford.nlp.parser.nndep.DependencyParser - Loading depparse model: edu/stanford/nlp/models/parser/nndep/english_UD.gz ... Time elapsed: 1.8 sec\n",
            "[main] INFO edu.stanford.nlp.parser.nndep.Classifier - PreComputed 20000 vectors, elapsed Time: 1.773 sec\n",
            "[main] INFO edu.stanford.nlp.parser.nndep.DependencyParser - Initializing dependency parser ... done [3.6 sec].\n",
            "[main] INFO edu.stanford.nlp.pipeline.StanfordCoreNLP - Adding annotator coref\n",
            "[main] INFO edu.stanford.nlp.coref.statistical.SimpleLinearClassifier - Loading coref model edu/stanford/nlp/models/coref/statistical/ranking_model.ser.gz ... done [1.6 sec].\n",
            "[main] INFO edu.stanford.nlp.pipeline.CorefMentionAnnotator - Using mention detector type: dependency\n",
            "[main] INFO edu.stanford.nlp.pipeline.StanfordCoreNLP - Adding annotator kbp\n",
            "[main] INFO edu.stanford.nlp.pipeline.KBPAnnotator - Loading KBP classifier from: edu/stanford/nlp/models/kbp/english/tac-re-lr.ser.gz\n",
            "\n",
            "Processing file /content/PreSumm/src/corenlp/input.txt ... writing to /content/PreSumm/src/corenlp/input.txt.out\n",
            "Annotating file /content/PreSumm/src/corenlp/input.txt ... done [1.2 sec].\n",
            "\n",
            "Annotation pipeline timing information:\n",
            "TokenizerAnnotator: 0.1 sec.\n",
            "WordsToSentencesAnnotator: 0.0 sec.\n",
            "POSTaggerAnnotator: 0.0 sec.\n",
            "MorphaAnnotator: 0.1 sec.\n",
            "NERCombinerAnnotator: 0.5 sec.\n",
            "DependencyParseAnnotator: 0.2 sec.\n",
            "CorefAnnotator: 0.1 sec.\n",
            "KBPAnnotator: 0.2 sec.\n",
            "TOTAL: 1.2 sec. for 17 tokens at 14.6 tokens/sec.\n",
            "Pipeline setup: 49.3 sec.\n",
            "Total time for StanfordCoreNLP pipeline: 50.5 sec.\n"
          ],
          "name": "stdout"
        }
      ]
    },
    {
      "cell_type": "code",
      "metadata": {
        "colab": {
          "base_uri": "https://localhost:8080/"
        },
        "id": "d0-R-UKGEnrU",
        "outputId": "1c14e6c9-c17a-427e-f047-b1c2eca99dcb"
      },
      "source": [
        "!java -cp \"/content/PreSumm/src/corenlp/*\" edu.stanford.nlp.pipeline.StanfordCoreNLP -file /content/PreSumm/src/extractive"
      ],
      "execution_count": 42,
      "outputs": [
        {
          "output_type": "stream",
          "text": [
            "[main] INFO edu.stanford.nlp.pipeline.StanfordCoreNLP - Searching for resource: StanfordCoreNLP.properties ... found.\n",
            "[main] INFO edu.stanford.nlp.pipeline.StanfordCoreNLP - Adding annotator tokenize\n",
            "[main] INFO edu.stanford.nlp.pipeline.StanfordCoreNLP - Adding annotator ssplit\n",
            "[main] INFO edu.stanford.nlp.pipeline.StanfordCoreNLP - Adding annotator pos\n",
            "[main] INFO edu.stanford.nlp.tagger.maxent.MaxentTagger - Loading POS tagger from edu/stanford/nlp/models/pos-tagger/english-left3words-distsim.tagger ... done [1.8 sec].\n",
            "[main] INFO edu.stanford.nlp.pipeline.StanfordCoreNLP - Adding annotator lemma\n",
            "[main] INFO edu.stanford.nlp.pipeline.StanfordCoreNLP - Adding annotator ner\n",
            "[main] INFO edu.stanford.nlp.ie.AbstractSequenceClassifier - Loading classifier from edu/stanford/nlp/models/ner/english.all.3class.distsim.crf.ser.gz ... done [2.5 sec].\n",
            "[main] INFO edu.stanford.nlp.ie.AbstractSequenceClassifier - Loading classifier from edu/stanford/nlp/models/ner/english.muc.7class.distsim.crf.ser.gz ... done [0.8 sec].\n",
            "[main] INFO edu.stanford.nlp.ie.AbstractSequenceClassifier - Loading classifier from edu/stanford/nlp/models/ner/english.conll.4class.distsim.crf.ser.gz ... done [1.0 sec].\n",
            "[main] INFO edu.stanford.nlp.time.JollyDayHolidays - Initializing JollyDayHoliday for SUTime from classpath edu/stanford/nlp/models/sutime/jollyday/Holidays_sutime.xml as sutime.binder.1.\n",
            "[main] INFO edu.stanford.nlp.time.TimeExpressionExtractorImpl - Using following SUTime rules: edu/stanford/nlp/models/sutime/defs.sutime.txt,edu/stanford/nlp/models/sutime/english.sutime.txt,edu/stanford/nlp/models/sutime/english.holidays.sutime.txt\n",
            "[main] INFO edu.stanford.nlp.pipeline.TokensRegexNERAnnotator - ner.fine.regexner: Read 580705 unique entries out of 581864 from edu/stanford/nlp/models/kbp/english/gazetteers/regexner_caseless.tab, 0 TokensRegex patterns.\n",
            "[main] INFO edu.stanford.nlp.pipeline.TokensRegexNERAnnotator - ner.fine.regexner: Read 4867 unique entries out of 4867 from edu/stanford/nlp/models/kbp/english/gazetteers/regexner_cased.tab, 0 TokensRegex patterns.\n",
            "[main] INFO edu.stanford.nlp.pipeline.TokensRegexNERAnnotator - ner.fine.regexner: Read 585572 unique entries from 2 files\n",
            "[main] INFO edu.stanford.nlp.pipeline.NERCombinerAnnotator - numeric classifiers: true; SUTime: true [no docDate]; fine grained: true\n",
            "[main] INFO edu.stanford.nlp.pipeline.StanfordCoreNLP - Adding annotator depparse\n",
            "[main] INFO edu.stanford.nlp.parser.nndep.DependencyParser - Loading depparse model: edu/stanford/nlp/models/parser/nndep/english_UD.gz ... Time elapsed: 2.0 sec\n",
            "[main] INFO edu.stanford.nlp.parser.nndep.Classifier - PreComputed 20000 vectors, elapsed Time: 1.693 sec\n",
            "[main] INFO edu.stanford.nlp.parser.nndep.DependencyParser - Initializing dependency parser ... done [3.7 sec].\n",
            "[main] INFO edu.stanford.nlp.pipeline.StanfordCoreNLP - Adding annotator coref\n",
            "[main] INFO edu.stanford.nlp.coref.statistical.SimpleLinearClassifier - Loading coref model edu/stanford/nlp/models/coref/statistical/ranking_model.ser.gz ... done [1.5 sec].\n",
            "[main] INFO edu.stanford.nlp.pipeline.CorefMentionAnnotator - Using mention detector type: dependency\n",
            "[main] INFO edu.stanford.nlp.pipeline.StanfordCoreNLP - Adding annotator kbp\n",
            "[main] INFO edu.stanford.nlp.pipeline.KBPAnnotator - Loading KBP classifier from: edu/stanford/nlp/models/kbp/english/tac-re-lr.ser.gz\n",
            "\n",
            "Processing file /content/PreSumm/src/extractive/ES2010b.story ... writing to /content/PreSumm/src/ES2010b.story.out\n",
            "Annotating file /content/PreSumm/src/extractive/ES2010b.story ... done [95.6 sec].\n",
            "Processing file /content/PreSumm/src/extractive/TS3011a.story ... writing to /content/PreSumm/src/TS3011a.story.out\n",
            "Annotating file /content/PreSumm/src/extractive/TS3011a.story ... done [61.7 sec].\n",
            "Processing file /content/PreSumm/src/extractive/IS1008c.story ... writing to /content/PreSumm/src/IS1008c.story.out\n",
            "Annotating file /content/PreSumm/src/extractive/IS1008c.story ... done [77.3 sec].\n",
            "Processing file /content/PreSumm/src/extractive/TS3006b.story ... writing to /content/PreSumm/src/TS3006b.story.out\n",
            "Annotating file /content/PreSumm/src/extractive/TS3006b.story ... done [104.3 sec].\n",
            "Processing file /content/PreSumm/src/extractive/ES2015d.story ... writing to /content/PreSumm/src/ES2015d.story.out\n",
            "Annotating file /content/PreSumm/src/extractive/ES2015d.story ... done [89.3 sec].\n",
            "Processing file /content/PreSumm/src/extractive/IS1004c.story ... writing to /content/PreSumm/src/IS1004c.story.out\n",
            "Annotating file /content/PreSumm/src/extractive/IS1004c.story ... done [106.0 sec].\n",
            "Processing file /content/PreSumm/src/extractive/IS1006c.story ... writing to /content/PreSumm/src/IS1006c.story.out\n",
            "Annotating file /content/PreSumm/src/extractive/IS1006c.story ... done [83.5 sec].\n",
            "Processing file /content/PreSumm/src/extractive/TS3012a.story ... writing to /content/PreSumm/src/TS3012a.story.out\n",
            "Annotating file /content/PreSumm/src/extractive/TS3012a.story ... done [28.6 sec].\n",
            "Processing file /content/PreSumm/src/extractive/ES2003c.story ... writing to /content/PreSumm/src/ES2003c.story.out\n",
            "Annotating file /content/PreSumm/src/extractive/ES2003c.story ... done [96.6 sec].\n",
            "Processing file /content/PreSumm/src/extractive/TS3010d.story ... writing to /content/PreSumm/src/TS3010d.story.out\n",
            "Annotating file /content/PreSumm/src/extractive/TS3010d.story ... done [57.2 sec].\n",
            "Processing file /content/PreSumm/src/extractive/IS1001d.story ... writing to /content/PreSumm/src/IS1001d.story.out\n",
            "Annotating file /content/PreSumm/src/extractive/IS1001d.story ... done [29.6 sec].\n",
            "Processing file /content/PreSumm/src/extractive/ES2016c.story ... writing to /content/PreSumm/src/ES2016c.story.out\n",
            "Annotating file /content/PreSumm/src/extractive/ES2016c.story ... done [70.7 sec].\n",
            "Processing file /content/PreSumm/src/extractive/IS1005c.story ... writing to /content/PreSumm/src/IS1005c.story.out\n",
            "Annotating file /content/PreSumm/src/extractive/IS1005c.story ... done [71.0 sec].\n",
            "Processing file /content/PreSumm/src/extractive/IS1004a.story ... writing to /content/PreSumm/src/IS1004a.story.out\n",
            "Annotating file /content/PreSumm/src/extractive/IS1004a.story ... done [23.2 sec].\n",
            "Processing file /content/PreSumm/src/extractive/TS3006c.story ... writing to /content/PreSumm/src/TS3006c.story.out\n",
            "Annotating file /content/PreSumm/src/extractive/TS3006c.story ... done [103.8 sec].\n",
            "Processing file /content/PreSumm/src/extractive/TS3010c.story ... writing to /content/PreSumm/src/TS3010c.story.out\n",
            "Annotating file /content/PreSumm/src/extractive/TS3010c.story ... done [74.2 sec].\n",
            "Processing file /content/PreSumm/src/extractive/TS3007b.story ... writing to /content/PreSumm/src/TS3007b.story.out\n",
            "Annotating file /content/PreSumm/src/extractive/TS3007b.story ... done [112.0 sec].\n",
            "Processing file /content/PreSumm/src/extractive/TS3004c.story ... writing to /content/PreSumm/src/TS3004c.story.out\n",
            "Annotating file /content/PreSumm/src/extractive/TS3004c.story ... done [118.4 sec].\n",
            "Processing file /content/PreSumm/src/extractive/IS1000b.story ... writing to /content/PreSumm/src/IS1000b.story.out\n",
            "Annotating file /content/PreSumm/src/extractive/IS1000b.story ... done [106.9 sec].\n",
            "Processing file /content/PreSumm/src/extractive/ES2013b.story ... writing to /content/PreSumm/src/ES2013b.story.out\n",
            "Annotating file /content/PreSumm/src/extractive/ES2013b.story ... done [93.0 sec].\n",
            "Processing file /content/PreSumm/src/extractive/IS1008a.story ... writing to /content/PreSumm/src/IS1008a.story.out\n",
            "Annotating file /content/PreSumm/src/extractive/IS1008a.story ... done [52.3 sec].\n",
            "Processing file /content/PreSumm/src/extractive/TS3007c.story ... writing to /content/PreSumm/src/TS3007c.story.out\n",
            "Annotating file /content/PreSumm/src/extractive/TS3007c.story ... done [103.1 sec].\n",
            "Processing file /content/PreSumm/src/extractive/ES2012b.story ... writing to /content/PreSumm/src/ES2012b.story.out\n",
            "Annotating file /content/PreSumm/src/extractive/ES2012b.story ... done [97.0 sec].\n",
            "Processing file /content/PreSumm/src/extractive/ES2008b.story ... writing to /content/PreSumm/src/ES2008b.story.out\n",
            "Annotating file /content/PreSumm/src/extractive/ES2008b.story ... done [101.0 sec].\n",
            "Processing file /content/PreSumm/src/extractive/IS1002c.story ... writing to /content/PreSumm/src/IS1002c.story.out\n",
            "Annotating file /content/PreSumm/src/extractive/IS1002c.story ... done [115.1 sec].\n",
            "Processing file /content/PreSumm/src/extractive/TS3005b.story ... writing to /content/PreSumm/src/TS3005b.story.out\n",
            "Annotating file /content/PreSumm/src/extractive/TS3005b.story ... done [124.2 sec].\n",
            "Processing file /content/PreSumm/src/extractive/ES2010d.story ... writing to /content/PreSumm/src/ES2010d.story.out\n",
            "Annotating file /content/PreSumm/src/extractive/ES2010d.story ... done [44.3 sec].\n",
            "Processing file /content/PreSumm/src/extractive/TS3008a.story ... writing to /content/PreSumm/src/TS3008a.story.out\n",
            "Annotating file /content/PreSumm/src/extractive/TS3008a.story ... done [40.5 sec].\n",
            "Processing file /content/PreSumm/src/extractive/ES2007c.story ... writing to /content/PreSumm/src/ES2007c.story.out\n",
            "Annotating file /content/PreSumm/src/extractive/ES2007c.story ... done [91.1 sec].\n",
            "Processing file /content/PreSumm/src/extractive/IS1000a.story ... writing to /content/PreSumm/src/IS1000a.story.out\n",
            "Annotating file /content/PreSumm/src/extractive/IS1000a.story ... done [49.2 sec].\n",
            "Processing file /content/PreSumm/src/extractive/ES2011d.story ... writing to /content/PreSumm/src/ES2011d.story.out\n",
            "Annotating file /content/PreSumm/src/extractive/ES2011d.story ... done [64.0 sec].\n",
            "Processing file /content/PreSumm/src/extractive/TS3009b.story ... writing to /content/PreSumm/src/TS3009b.story.out\n",
            "Annotating file /content/PreSumm/src/extractive/TS3009b.story ... done [114.8 sec].\n",
            "Processing file /content/PreSumm/src/extractive/TS3012b.story ... writing to /content/PreSumm/src/TS3012b.story.out\n",
            "Annotating file /content/PreSumm/src/extractive/TS3012b.story ... done [122.9 sec].\n",
            "Processing file /content/PreSumm/src/extractive/TS3005d.story ... writing to /content/PreSumm/src/TS3005d.story.out\n",
            "Annotating file /content/PreSumm/src/extractive/TS3005d.story ... done [149.9 sec].\n",
            "Processing file /content/PreSumm/src/extractive/ES2005b.story ... writing to /content/PreSumm/src/ES2005b.story.out\n",
            "Annotating file /content/PreSumm/src/extractive/ES2005b.story ... done [90.7 sec].\n",
            "Processing file /content/PreSumm/src/extractive/ES2015b.story ... writing to /content/PreSumm/src/ES2015b.story.out\n",
            "Annotating file /content/PreSumm/src/extractive/ES2015b.story ... done [101.0 sec].\n",
            "Processing file /content/PreSumm/src/extractive/TS3004b.story ... writing to /content/PreSumm/src/TS3004b.story.out\n",
            "Annotating file /content/PreSumm/src/extractive/TS3004b.story ... done [115.4 sec].\n",
            "Processing file /content/PreSumm/src/extractive/ES2006c.story ... writing to /content/PreSumm/src/ES2006c.story.out\n",
            "Annotating file /content/PreSumm/src/extractive/ES2006c.story ... done [113.5 sec].\n",
            "Processing file /content/PreSumm/src/extractive/IS1002d.story ... writing to /content/PreSumm/src/IS1002d.story.out\n",
            "Annotating file /content/PreSumm/src/extractive/IS1002d.story ... done [53.3 sec].\n",
            "Processing file /content/PreSumm/src/extractive/TS3008b.story ... writing to /content/PreSumm/src/TS3008b.story.out\n",
            "Annotating file /content/PreSumm/src/extractive/TS3008b.story ... done [100.6 sec].\n",
            "Processing file /content/PreSumm/src/extractive/IS1007d.story ... writing to /content/PreSumm/src/IS1007d.story.out\n",
            "Annotating file /content/PreSumm/src/extractive/IS1007d.story ... done [99.7 sec].\n",
            "Processing file /content/PreSumm/src/extractive/TS3009a.story ... writing to /content/PreSumm/src/TS3009a.story.out\n",
            "Annotating file /content/PreSumm/src/extractive/TS3009a.story ... done [70.7 sec].\n",
            "Processing file /content/PreSumm/src/extractive/ES2003b.story ... writing to /content/PreSumm/src/ES2003b.story.out\n",
            "Annotating file /content/PreSumm/src/extractive/ES2003b.story ... done [95.2 sec].\n",
            "Processing file /content/PreSumm/src/extractive/ES2015a.story ... writing to /content/PreSumm/src/ES2015a.story.out\n",
            "Annotating file /content/PreSumm/src/extractive/ES2015a.story ... done [38.9 sec].\n",
            "Processing file /content/PreSumm/src/extractive/IS1008d.story ... writing to /content/PreSumm/src/IS1008d.story.out\n",
            "Annotating file /content/PreSumm/src/extractive/IS1008d.story ... done [74.5 sec].\n",
            "Processing file /content/PreSumm/src/extractive/ES2004c.story ... writing to /content/PreSumm/src/ES2004c.story.out\n",
            "Annotating file /content/PreSumm/src/extractive/ES2004c.story ... done [104.5 sec].\n",
            "Processing file /content/PreSumm/src/extractive/ES2016d.story ... writing to /content/PreSumm/src/ES2016d.story.out\n",
            "Annotating file /content/PreSumm/src/extractive/ES2016d.story ... done [52.3 sec].\n",
            "Processing file /content/PreSumm/src/extractive/TS3005a.story ... writing to /content/PreSumm/src/TS3005a.story.out\n",
            "Annotating file /content/PreSumm/src/extractive/TS3005a.story ... done [46.5 sec].\n",
            "Processing file /content/PreSumm/src/extractive/IS1009d.story ... writing to /content/PreSumm/src/IS1009d.story.out\n",
            "Annotating file /content/PreSumm/src/extractive/IS1009d.story ... done [65.8 sec].\n",
            "Processing file /content/PreSumm/src/extractive/IS1006d.story ... writing to /content/PreSumm/src/IS1006d.story.out\n",
            "Annotating file /content/PreSumm/src/extractive/IS1006d.story ... done [68.3 sec].\n",
            "Processing file /content/PreSumm/src/extractive/IS1008b.story ... writing to /content/PreSumm/src/IS1008b.story.out\n",
            "Annotating file /content/PreSumm/src/extractive/IS1008b.story ... done [77.5 sec].\n",
            "Processing file /content/PreSumm/src/extractive/TS3011c.story ... writing to /content/PreSumm/src/TS3011c.story.out\n",
            "Annotating file /content/PreSumm/src/extractive/TS3011c.story ... done [86.9 sec].\n",
            "Processing file /content/PreSumm/src/extractive/ES2004b.story ... writing to /content/PreSumm/src/ES2004b.story.out\n",
            "Annotating file /content/PreSumm/src/extractive/ES2004b.story ... done [111.0 sec].\n",
            "Processing file /content/PreSumm/src/extractive/IS1003c.story ... writing to /content/PreSumm/src/IS1003c.story.out\n",
            "Annotating file /content/PreSumm/src/extractive/IS1003c.story ... done [88.8 sec].\n",
            "Processing file /content/PreSumm/src/extractive/TS3004d.story ... writing to /content/PreSumm/src/TS3004d.story.out\n",
            "Annotating file /content/PreSumm/src/extractive/TS3004d.story ... done [91.9 sec].\n",
            "Processing file /content/PreSumm/src/extractive/ES2015c.story ... writing to /content/PreSumm/src/ES2015c.story.out\n",
            "Annotating file /content/PreSumm/src/extractive/ES2015c.story ... done [90.9 sec].\n",
            "Processing file /content/PreSumm/src/extractive/ES2011c.story ... writing to /content/PreSumm/src/ES2011c.story.out\n",
            "Annotating file /content/PreSumm/src/extractive/ES2011c.story ... done [70.4 sec].\n",
            "Processing file /content/PreSumm/src/extractive/IS1004d.story ... writing to /content/PreSumm/src/IS1004d.story.out\n",
            "Annotating file /content/PreSumm/src/extractive/IS1004d.story ... done [81.2 sec].\n",
            "Processing file /content/PreSumm/src/extractive/ES2016b.story ... writing to /content/PreSumm/src/ES2016b.story.out\n",
            "Annotating file /content/PreSumm/src/extractive/ES2016b.story ... done [89.0 sec].\n",
            "Processing file /content/PreSumm/src/extractive/ES2009d.story ... writing to /content/PreSumm/src/ES2009d.story.out\n",
            "Annotating file /content/PreSumm/src/extractive/ES2009d.story ... done [107.4 sec].\n",
            "Processing file /content/PreSumm/src/extractive/ES2010a.story ... writing to /content/PreSumm/src/ES2010a.story.out\n",
            "Annotating file /content/PreSumm/src/extractive/ES2010a.story ... done [21.8 sec].\n",
            "Processing file /content/PreSumm/src/extractive/ES2013d.story ... writing to /content/PreSumm/src/ES2013d.story.out\n",
            "Annotating file /content/PreSumm/src/extractive/ES2013d.story ... done [74.2 sec].\n",
            "Processing file /content/PreSumm/src/extractive/IS1009a.story ... writing to /content/PreSumm/src/IS1009a.story.out\n",
            "Annotating file /content/PreSumm/src/extractive/IS1009a.story ... done [28.7 sec].\n",
            "Processing file /content/PreSumm/src/extractive/IS1003d.story ... writing to /content/PreSumm/src/IS1003d.story.out\n",
            "Annotating file /content/PreSumm/src/extractive/IS1003d.story ... done [91.2 sec].\n",
            "Processing file /content/PreSumm/src/extractive/TS3012d.story ... writing to /content/PreSumm/src/TS3012d.story.out\n",
            "Annotating file /content/PreSumm/src/extractive/TS3012d.story ... done [95.1 sec].\n",
            "Processing file /content/PreSumm/src/extractive/TS3003c.story ... writing to /content/PreSumm/src/TS3003c.story.out\n",
            "Annotating file /content/PreSumm/src/extractive/TS3003c.story ... done [81.3 sec].\n",
            "Processing file /content/PreSumm/src/extractive/TS3006d.story ... writing to /content/PreSumm/src/TS3006d.story.out\n",
            "Annotating file /content/PreSumm/src/extractive/TS3006d.story ... done [121.3 sec].\n",
            "Processing file /content/PreSumm/src/extractive/TS3005c.story ... writing to /content/PreSumm/src/TS3005c.story.out\n",
            "Annotating file /content/PreSumm/src/extractive/TS3005c.story ... done [112.3 sec].\n",
            "Processing file /content/PreSumm/src/extractive/ES2011b.story ... writing to /content/PreSumm/src/ES2011b.story.out\n",
            "Annotating file /content/PreSumm/src/extractive/ES2011b.story ... done [70.8 sec].\n",
            "Processing file /content/PreSumm/src/extractive/TS3010a.story ... writing to /content/PreSumm/src/TS3010a.story.out\n",
            "Annotating file /content/PreSumm/src/extractive/TS3010a.story ... done [19.5 sec].\n",
            "Processing file /content/PreSumm/src/extractive/IS1007a.story ... writing to /content/PreSumm/src/IS1007a.story.out\n",
            "Annotating file /content/PreSumm/src/extractive/IS1007a.story ... done [36.1 sec].\n",
            "Processing file /content/PreSumm/src/extractive/ES2004a.story ... writing to /content/PreSumm/src/ES2004a.story.out\n",
            "Annotating file /content/PreSumm/src/extractive/ES2004a.story ... done [42.4 sec].\n",
            "Processing file /content/PreSumm/src/extractive/ES2003d.story ... writing to /content/PreSumm/src/ES2003d.story.out\n",
            "Annotating file /content/PreSumm/src/extractive/ES2003d.story ... done [100.9 sec].\n",
            "Processing file /content/PreSumm/src/extractive/ES2014c.story ... writing to /content/PreSumm/src/ES2014c.story.out\n",
            "Annotating file /content/PreSumm/src/extractive/ES2014c.story ... done [100.7 sec].\n",
            "Processing file /content/PreSumm/src/extractive/ES2007a.story ... writing to /content/PreSumm/src/ES2007a.story.out\n",
            "Annotating file /content/PreSumm/src/extractive/ES2007a.story ... done [40.5 sec].\n",
            "Processing file /content/PreSumm/src/extractive/IS1000d.story ... writing to /content/PreSumm/src/IS1000d.story.out\n",
            "Annotating file /content/PreSumm/src/extractive/IS1000d.story ... done [132.5 sec].\n",
            "Processing file /content/PreSumm/src/extractive/IS1007b.story ... writing to /content/PreSumm/src/IS1007b.story.out\n",
            "Annotating file /content/PreSumm/src/extractive/IS1007b.story ... done [59.5 sec].\n",
            "Processing file /content/PreSumm/src/extractive/ES2008d.story ... writing to /content/PreSumm/src/ES2008d.story.out\n",
            "Annotating file /content/PreSumm/src/extractive/ES2008d.story ... done [131.5 sec].\n",
            "Processing file /content/PreSumm/src/extractive/ES2005a.story ... writing to /content/PreSumm/src/ES2005a.story.out\n",
            "Annotating file /content/PreSumm/src/extractive/ES2005a.story ... done [11.1 sec].\n",
            "Processing file /content/PreSumm/src/extractive/IS1002b.story ... writing to /content/PreSumm/src/IS1002b.story.out\n",
            "Annotating file /content/PreSumm/src/extractive/IS1002b.story ... done [139.5 sec].\n",
            "Processing file /content/PreSumm/src/extractive/ES2006d.story ... writing to /content/PreSumm/src/ES2006d.story.out\n",
            "Annotating file /content/PreSumm/src/extractive/ES2006d.story ... done [101.2 sec].\n",
            "Processing file /content/PreSumm/src/extractive/TS3009d.story ... writing to /content/PreSumm/src/TS3009d.story.out\n",
            "Annotating file /content/PreSumm/src/extractive/TS3009d.story ... done [96.7 sec].\n",
            "Processing file /content/PreSumm/src/extractive/ES2005d.story ... writing to /content/PreSumm/src/ES2005d.story.out\n",
            "Annotating file /content/PreSumm/src/extractive/ES2005d.story ... done [58.6 sec].\n",
            "Processing file /content/PreSumm/src/extractive/ES2013a.story ... writing to /content/PreSumm/src/ES2013a.story.out\n",
            "Annotating file /content/PreSumm/src/extractive/ES2013a.story ... done [28.9 sec].\n",
            "Processing file /content/PreSumm/src/extractive/ES2011a.story ... writing to /content/PreSumm/src/ES2011a.story.out\n",
            "Annotating file /content/PreSumm/src/extractive/ES2011a.story ... done [33.9 sec].\n",
            "Processing file /content/PreSumm/src/extractive/ES2012d.story ... writing to /content/PreSumm/src/ES2012d.story.out\n",
            "Annotating file /content/PreSumm/src/extractive/ES2012d.story ... done [40.5 sec].\n",
            "Processing file /content/PreSumm/src/extractive/ES2013c.story ... writing to /content/PreSumm/src/ES2013c.story.out\n",
            "Annotating file /content/PreSumm/src/extractive/ES2013c.story ... done [103.5 sec].\n",
            "Processing file /content/PreSumm/src/extractive/IS1004b.story ... writing to /content/PreSumm/src/IS1004b.story.out\n",
            "Annotating file /content/PreSumm/src/extractive/IS1004b.story ... done [91.7 sec].\n",
            "Processing file /content/PreSumm/src/extractive/IS1005a.story ... writing to /content/PreSumm/src/IS1005a.story.out\n",
            "Annotating file /content/PreSumm/src/extractive/IS1005a.story ... done [25.7 sec].\n",
            "Processing file /content/PreSumm/src/extractive/TS3003d.story ... writing to /content/PreSumm/src/TS3003d.story.out\n",
            "Annotating file /content/PreSumm/src/extractive/TS3003d.story ... done [89.7 sec].\n",
            "Processing file /content/PreSumm/src/extractive/IS1006a.story ... writing to /content/PreSumm/src/IS1006a.story.out\n",
            "Annotating file /content/PreSumm/src/extractive/IS1006a.story ... done [27.9 sec].\n",
            "Processing file /content/PreSumm/src/extractive/IS1009b.story ... writing to /content/PreSumm/src/IS1009b.story.out\n",
            "Annotating file /content/PreSumm/src/extractive/IS1009b.story ... done [92.8 sec].\n",
            "Processing file /content/PreSumm/src/extractive/ES2014d.story ... writing to /content/PreSumm/src/ES2014d.story.out\n",
            "Annotating file /content/PreSumm/src/extractive/ES2014d.story ... done [129.7 sec].\n",
            "Processing file /content/PreSumm/src/extractive/TS3011d.story ... writing to /content/PreSumm/src/TS3011d.story.out\n",
            "Annotating file /content/PreSumm/src/extractive/TS3011d.story ... done [66.6 sec].\n",
            "Processing file /content/PreSumm/src/extractive/IS1001c.story ... writing to /content/PreSumm/src/IS1001c.story.out\n",
            "Annotating file /content/PreSumm/src/extractive/IS1001c.story ... done [49.3 sec].\n",
            "Processing file /content/PreSumm/src/extractive/ES2016a.story ... writing to /content/PreSumm/src/ES2016a.story.out\n",
            "Annotating file /content/PreSumm/src/extractive/ES2016a.story ... done [46.9 sec].\n",
            "Processing file /content/PreSumm/src/extractive/TS3003b.story ... writing to /content/PreSumm/src/TS3003b.story.out\n",
            "Annotating file /content/PreSumm/src/extractive/TS3003b.story ... done [82.9 sec].\n",
            "Processing file /content/PreSumm/src/extractive/TS3011b.story ... writing to /content/PreSumm/src/TS3011b.story.out\n",
            "Annotating file /content/PreSumm/src/extractive/TS3011b.story ... done [88.6 sec].\n",
            "Processing file /content/PreSumm/src/extractive/TS3007a.story ... writing to /content/PreSumm/src/TS3007a.story.out\n",
            "Annotating file /content/PreSumm/src/extractive/TS3007a.story ... done [52.8 sec].\n",
            "Processing file /content/PreSumm/src/extractive/IS1007c.story ... writing to /content/PreSumm/src/IS1007c.story.out\n",
            "Annotating file /content/PreSumm/src/extractive/IS1007c.story ... done [104.4 sec].\n",
            "Processing file /content/PreSumm/src/extractive/TS3007d.story ... writing to /content/PreSumm/src/TS3007d.story.out\n",
            "Annotating file /content/PreSumm/src/extractive/TS3007d.story ... done [123.0 sec].\n",
            "Processing file /content/PreSumm/src/extractive/ES2007b.story ... writing to /content/PreSumm/src/ES2007b.story.out\n",
            "Annotating file /content/PreSumm/src/extractive/ES2007b.story ... done [63.9 sec].\n",
            "Processing file /content/PreSumm/src/extractive/ES2002b.story ... writing to /content/PreSumm/src/ES2002b.story.out\n",
            "Annotating file /content/PreSumm/src/extractive/ES2002b.story ... done [120.0 sec].\n",
            "Processing file /content/PreSumm/src/extractive/TS3004a.story ... writing to /content/PreSumm/src/TS3004a.story.out\n",
            "Annotating file /content/PreSumm/src/extractive/TS3004a.story ... done [54.8 sec].\n",
            "Processing file /content/PreSumm/src/extractive/ES2002d.story ... writing to /content/PreSumm/src/ES2002d.story.out\n",
            "Annotating file /content/PreSumm/src/extractive/ES2002d.story ... done [119.9 sec].\n",
            "Processing file /content/PreSumm/src/extractive/IS1003a.story ... writing to /content/PreSumm/src/IS1003a.story.out\n",
            "Annotating file /content/PreSumm/src/extractive/IS1003a.story ... done [23.3 sec].\n",
            "Processing file /content/PreSumm/src/extractive/ES2010c.story ... writing to /content/PreSumm/src/ES2010c.story.out\n",
            "Annotating file /content/PreSumm/src/extractive/ES2010c.story ... done [77.7 sec].\n",
            "Processing file /content/PreSumm/src/extractive/ES2006a.story ... writing to /content/PreSumm/src/ES2006a.story.out\n",
            "Annotating file /content/PreSumm/src/extractive/ES2006a.story ... done [44.9 sec].\n",
            "Processing file /content/PreSumm/src/extractive/ES2003a.story ... writing to /content/PreSumm/src/ES2003a.story.out\n",
            "Annotating file /content/PreSumm/src/extractive/ES2003a.story ... done [32.2 sec].\n",
            "Processing file /content/PreSumm/src/extractive/ES2005c.story ... writing to /content/PreSumm/src/ES2005c.story.out\n",
            "Annotating file /content/PreSumm/src/extractive/ES2005c.story ... done [100.3 sec].\n",
            "Processing file /content/PreSumm/src/extractive/IS1001b.story ... writing to /content/PreSumm/src/IS1001b.story.out\n",
            "Annotating file /content/PreSumm/src/extractive/IS1001b.story ... done [71.5 sec].\n",
            "Processing file /content/PreSumm/src/extractive/ES2002c.story ... writing to /content/PreSumm/src/ES2002c.story.out\n",
            "Annotating file /content/PreSumm/src/extractive/ES2002c.story ... done [119.0 sec].\n",
            "Processing file /content/PreSumm/src/extractive/TS3006a.story ... writing to /content/PreSumm/src/TS3006a.story.out\n",
            "Annotating file /content/PreSumm/src/extractive/TS3006a.story ... done [47.9 sec].\n",
            "Processing file /content/PreSumm/src/extractive/IS1006b.story ... writing to /content/PreSumm/src/IS1006b.story.out\n",
            "Annotating file /content/PreSumm/src/extractive/IS1006b.story ... done [94.6 sec].\n",
            "Processing file /content/PreSumm/src/extractive/TS3008d.story ... writing to /content/PreSumm/src/TS3008d.story.out\n",
            "Annotating file /content/PreSumm/src/extractive/TS3008d.story ... done [138.0 sec].\n",
            "Processing file /content/PreSumm/src/extractive/ES2014a.story ... writing to /content/PreSumm/src/ES2014a.story.out\n",
            "Annotating file /content/PreSumm/src/extractive/ES2014a.story ... done [34.4 sec].\n",
            "Processing file /content/PreSumm/src/extractive/ES2014b.story ... writing to /content/PreSumm/src/ES2014b.story.out\n",
            "Annotating file /content/PreSumm/src/extractive/ES2014b.story ... done [99.5 sec].\n",
            "Processing file /content/PreSumm/src/extractive/ES2008c.story ... writing to /content/PreSumm/src/ES2008c.story.out\n",
            "Annotating file /content/PreSumm/src/extractive/ES2008c.story ... done [102.0 sec].\n",
            "Processing file /content/PreSumm/src/extractive/ES2004d.story ... writing to /content/PreSumm/src/ES2004d.story.out\n",
            "Annotating file /content/PreSumm/src/extractive/ES2004d.story ... done [108.0 sec].\n",
            "Processing file /content/PreSumm/src/extractive/TS3010b.story ... writing to /content/PreSumm/src/TS3010b.story.out\n",
            "Annotating file /content/PreSumm/src/extractive/TS3010b.story ... done [69.7 sec].\n",
            "Processing file /content/PreSumm/src/extractive/TS3003a.story ... writing to /content/PreSumm/src/TS3003a.story.out\n",
            "Annotating file /content/PreSumm/src/extractive/TS3003a.story ... done [44.1 sec].\n",
            "Processing file /content/PreSumm/src/extractive/IS1005b.story ... writing to /content/PreSumm/src/IS1005b.story.out\n",
            "Annotating file /content/PreSumm/src/extractive/IS1005b.story ... done [78.6 sec].\n",
            "Processing file /content/PreSumm/src/extractive/ES2008a.story ... writing to /content/PreSumm/src/ES2008a.story.out\n",
            "Annotating file /content/PreSumm/src/extractive/ES2008a.story ... done [42.1 sec].\n",
            "Processing file /content/PreSumm/src/extractive/ES2009c.story ... writing to /content/PreSumm/src/ES2009c.story.out\n",
            "Annotating file /content/PreSumm/src/extractive/ES2009c.story ... done [102.2 sec].\n",
            "Processing file /content/PreSumm/src/extractive/IS1009c.story ... writing to /content/PreSumm/src/IS1009c.story.out\n",
            "Annotating file /content/PreSumm/src/extractive/IS1009c.story ... done [68.0 sec].\n",
            "Processing file /content/PreSumm/src/extractive/IS1003b.story ... writing to /content/PreSumm/src/IS1003b.story.out\n",
            "Annotating file /content/PreSumm/src/extractive/IS1003b.story ... done [64.0 sec].\n",
            "Processing file /content/PreSumm/src/extractive/ES2012a.story ... writing to /content/PreSumm/src/ES2012a.story.out\n",
            "Annotating file /content/PreSumm/src/extractive/ES2012a.story ... done [48.3 sec].\n",
            "Processing file /content/PreSumm/src/extractive/TS3009c.story ... writing to /content/PreSumm/src/TS3009c.story.out\n",
            "Annotating file /content/PreSumm/src/extractive/TS3009c.story ... done [94.7 sec].\n",
            "Processing file /content/PreSumm/src/extractive/ES2009b.story ... writing to /content/PreSumm/src/ES2009b.story.out\n",
            "Annotating file /content/PreSumm/src/extractive/ES2009b.story ... done [73.8 sec].\n",
            "Processing file /content/PreSumm/src/extractive/IS1001a.story ... writing to /content/PreSumm/src/IS1001a.story.out\n",
            "Annotating file /content/PreSumm/src/extractive/IS1001a.story ... done [27.8 sec].\n",
            "Processing file /content/PreSumm/src/extractive/ES2006b.story ... writing to /content/PreSumm/src/ES2006b.story.out\n",
            "Annotating file /content/PreSumm/src/extractive/ES2006b.story ... done [106.3 sec].\n",
            "Processing file /content/PreSumm/src/extractive/ES2009a.story ... writing to /content/PreSumm/src/ES2009a.story.out\n",
            "Annotating file /content/PreSumm/src/extractive/ES2009a.story ... done [64.2 sec].\n",
            "Processing file /content/PreSumm/src/extractive/IS1000c.story ... writing to /content/PreSumm/src/IS1000c.story.out\n",
            "Annotating file /content/PreSumm/src/extractive/IS1000c.story ... done [98.0 sec].\n",
            "Processing file /content/PreSumm/src/extractive/ES2002a.story ... writing to /content/PreSumm/src/ES2002a.story.out\n",
            "Annotating file /content/PreSumm/src/extractive/ES2002a.story ... done [38.4 sec].\n",
            "Processing file /content/PreSumm/src/extractive/ES2007d.story ... writing to /content/PreSumm/src/ES2007d.story.out\n",
            "Annotating file /content/PreSumm/src/extractive/ES2007d.story ... done [52.6 sec].\n",
            "Processing file /content/PreSumm/src/extractive/ES2012c.story ... writing to /content/PreSumm/src/ES2012c.story.out\n",
            "Annotating file /content/PreSumm/src/extractive/ES2012c.story ... done [108.6 sec].\n",
            "Processing file /content/PreSumm/src/extractive/TS3008c.story ... writing to /content/PreSumm/src/TS3008c.story.out\n",
            "Annotating file /content/PreSumm/src/extractive/TS3008c.story ... done [105.4 sec].\n",
            "\n",
            "Annotation pipeline timing information:\n",
            "TokenizerAnnotator: 4.1 sec.\n",
            "WordsToSentencesAnnotator: 1.3 sec.\n",
            "POSTaggerAnnotator: 113.0 sec.\n",
            "MorphaAnnotator: 5.0 sec.\n",
            "NERCombinerAnnotator: 4280.9 sec.\n",
            "DependencyParseAnnotator: 715.9 sec.\n",
            "CorefAnnotator: 5647.6 sec.\n",
            "KBPAnnotator: 74.4 sec.\n",
            "TOTAL: 10842.2 sec. for 1113166 tokens at 102.7 tokens/sec.\n",
            "Pipeline setup: 49.9 sec.\n",
            "Total time for StanfordCoreNLP pipeline: 10904.6 sec.\n"
          ],
          "name": "stdout"
        }
      ]
    }
  ]
}