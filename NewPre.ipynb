{
  "nbformat": 4,
  "nbformat_minor": 0,
  "metadata": {
    "accelerator": "GPU",
    "colab": {
      "name": "NewPre.ipynb",
      "provenance": [],
      "collapsed_sections": [],
      "mount_file_id": "https://github.com/sarulathadurai/AMICorpusXML/blob/master/NewPre.ipynb",
      "authorship_tag": "ABX9TyPJZUdmbYZTfnQyW6lIxXss",
      "include_colab_link": true
    },
    "kernelspec": {
      "display_name": "Python 3",
      "name": "python3"
    },
    "language_info": {
      "name": "python"
    },
    "widgets": {
      "application/vnd.jupyter.widget-state+json": {
        "8ce4b71331e1463590de4bfb18ac98ec": {
          "model_module": "@jupyter-widgets/controls",
          "model_name": "HBoxModel",
          "state": {
            "_view_name": "HBoxView",
            "_dom_classes": [],
            "_model_name": "HBoxModel",
            "_view_module": "@jupyter-widgets/controls",
            "_model_module_version": "1.5.0",
            "_view_count": null,
            "_view_module_version": "1.5.0",
            "box_style": "",
            "layout": "IPY_MODEL_0bbed81f6812402a84656ee191d0adc0",
            "_model_module": "@jupyter-widgets/controls",
            "children": [
              "IPY_MODEL_377c01d60f884a728d311bc699431378",
              "IPY_MODEL_2b5ecf05f1d74be7ae4f3944aa2fbf42"
            ]
          }
        },
        "0bbed81f6812402a84656ee191d0adc0": {
          "model_module": "@jupyter-widgets/base",
          "model_name": "LayoutModel",
          "state": {
            "_view_name": "LayoutView",
            "grid_template_rows": null,
            "right": null,
            "justify_content": null,
            "_view_module": "@jupyter-widgets/base",
            "overflow": null,
            "_model_module_version": "1.2.0",
            "_view_count": null,
            "flex_flow": null,
            "width": null,
            "min_width": null,
            "border": null,
            "align_items": null,
            "bottom": null,
            "_model_module": "@jupyter-widgets/base",
            "top": null,
            "grid_column": null,
            "overflow_y": null,
            "overflow_x": null,
            "grid_auto_flow": null,
            "grid_area": null,
            "grid_template_columns": null,
            "flex": null,
            "_model_name": "LayoutModel",
            "justify_items": null,
            "grid_row": null,
            "max_height": null,
            "align_content": null,
            "visibility": null,
            "align_self": null,
            "height": null,
            "min_height": null,
            "padding": null,
            "grid_auto_rows": null,
            "grid_gap": null,
            "max_width": null,
            "order": null,
            "_view_module_version": "1.2.0",
            "grid_template_areas": null,
            "object_position": null,
            "object_fit": null,
            "grid_auto_columns": null,
            "margin": null,
            "display": null,
            "left": null
          }
        },
        "377c01d60f884a728d311bc699431378": {
          "model_module": "@jupyter-widgets/controls",
          "model_name": "FloatProgressModel",
          "state": {
            "_view_name": "ProgressView",
            "style": "IPY_MODEL_88be25528aa64ce2ac02b5f23fbbe02d",
            "_dom_classes": [],
            "description": "Downloading: 100%",
            "_model_name": "FloatProgressModel",
            "bar_style": "success",
            "max": 442,
            "_view_module": "@jupyter-widgets/controls",
            "_model_module_version": "1.5.0",
            "value": 442,
            "_view_count": null,
            "_view_module_version": "1.5.0",
            "orientation": "horizontal",
            "min": 0,
            "description_tooltip": null,
            "_model_module": "@jupyter-widgets/controls",
            "layout": "IPY_MODEL_ae772626dca74b1e9582fea894d553b7"
          }
        },
        "2b5ecf05f1d74be7ae4f3944aa2fbf42": {
          "model_module": "@jupyter-widgets/controls",
          "model_name": "HTMLModel",
          "state": {
            "_view_name": "HTMLView",
            "style": "IPY_MODEL_859b282f913543179e58ddf70d78c77d",
            "_dom_classes": [],
            "description": "",
            "_model_name": "HTMLModel",
            "placeholder": "​",
            "_view_module": "@jupyter-widgets/controls",
            "_model_module_version": "1.5.0",
            "value": " 442/442 [00:00&lt;00:00, 5.25kB/s]",
            "_view_count": null,
            "_view_module_version": "1.5.0",
            "description_tooltip": null,
            "_model_module": "@jupyter-widgets/controls",
            "layout": "IPY_MODEL_ea1171a2aa4b4b69bc1806604b9fcc00"
          }
        },
        "88be25528aa64ce2ac02b5f23fbbe02d": {
          "model_module": "@jupyter-widgets/controls",
          "model_name": "ProgressStyleModel",
          "state": {
            "_view_name": "StyleView",
            "_model_name": "ProgressStyleModel",
            "description_width": "initial",
            "_view_module": "@jupyter-widgets/base",
            "_model_module_version": "1.5.0",
            "_view_count": null,
            "_view_module_version": "1.2.0",
            "bar_color": null,
            "_model_module": "@jupyter-widgets/controls"
          }
        },
        "ae772626dca74b1e9582fea894d553b7": {
          "model_module": "@jupyter-widgets/base",
          "model_name": "LayoutModel",
          "state": {
            "_view_name": "LayoutView",
            "grid_template_rows": null,
            "right": null,
            "justify_content": null,
            "_view_module": "@jupyter-widgets/base",
            "overflow": null,
            "_model_module_version": "1.2.0",
            "_view_count": null,
            "flex_flow": null,
            "width": null,
            "min_width": null,
            "border": null,
            "align_items": null,
            "bottom": null,
            "_model_module": "@jupyter-widgets/base",
            "top": null,
            "grid_column": null,
            "overflow_y": null,
            "overflow_x": null,
            "grid_auto_flow": null,
            "grid_area": null,
            "grid_template_columns": null,
            "flex": null,
            "_model_name": "LayoutModel",
            "justify_items": null,
            "grid_row": null,
            "max_height": null,
            "align_content": null,
            "visibility": null,
            "align_self": null,
            "height": null,
            "min_height": null,
            "padding": null,
            "grid_auto_rows": null,
            "grid_gap": null,
            "max_width": null,
            "order": null,
            "_view_module_version": "1.2.0",
            "grid_template_areas": null,
            "object_position": null,
            "object_fit": null,
            "grid_auto_columns": null,
            "margin": null,
            "display": null,
            "left": null
          }
        },
        "859b282f913543179e58ddf70d78c77d": {
          "model_module": "@jupyter-widgets/controls",
          "model_name": "DescriptionStyleModel",
          "state": {
            "_view_name": "StyleView",
            "_model_name": "DescriptionStyleModel",
            "description_width": "",
            "_view_module": "@jupyter-widgets/base",
            "_model_module_version": "1.5.0",
            "_view_count": null,
            "_view_module_version": "1.2.0",
            "_model_module": "@jupyter-widgets/controls"
          }
        },
        "ea1171a2aa4b4b69bc1806604b9fcc00": {
          "model_module": "@jupyter-widgets/base",
          "model_name": "LayoutModel",
          "state": {
            "_view_name": "LayoutView",
            "grid_template_rows": null,
            "right": null,
            "justify_content": null,
            "_view_module": "@jupyter-widgets/base",
            "overflow": null,
            "_model_module_version": "1.2.0",
            "_view_count": null,
            "flex_flow": null,
            "width": null,
            "min_width": null,
            "border": null,
            "align_items": null,
            "bottom": null,
            "_model_module": "@jupyter-widgets/base",
            "top": null,
            "grid_column": null,
            "overflow_y": null,
            "overflow_x": null,
            "grid_auto_flow": null,
            "grid_area": null,
            "grid_template_columns": null,
            "flex": null,
            "_model_name": "LayoutModel",
            "justify_items": null,
            "grid_row": null,
            "max_height": null,
            "align_content": null,
            "visibility": null,
            "align_self": null,
            "height": null,
            "min_height": null,
            "padding": null,
            "grid_auto_rows": null,
            "grid_gap": null,
            "max_width": null,
            "order": null,
            "_view_module_version": "1.2.0",
            "grid_template_areas": null,
            "object_position": null,
            "object_fit": null,
            "grid_auto_columns": null,
            "margin": null,
            "display": null,
            "left": null
          }
        },
        "69e3393e54a442d89fa5f5f0b5555201": {
          "model_module": "@jupyter-widgets/controls",
          "model_name": "HBoxModel",
          "state": {
            "_view_name": "HBoxView",
            "_dom_classes": [],
            "_model_name": "HBoxModel",
            "_view_module": "@jupyter-widgets/controls",
            "_model_module_version": "1.5.0",
            "_view_count": null,
            "_view_module_version": "1.5.0",
            "box_style": "",
            "layout": "IPY_MODEL_b91ea707b4d041e78ad065c160d7cb27",
            "_model_module": "@jupyter-widgets/controls",
            "children": [
              "IPY_MODEL_996dada4d2ee4ad48fb678a7b59a9880",
              "IPY_MODEL_f2cde87948874c34911d558ad9013cf6"
            ]
          }
        },
        "b91ea707b4d041e78ad065c160d7cb27": {
          "model_module": "@jupyter-widgets/base",
          "model_name": "LayoutModel",
          "state": {
            "_view_name": "LayoutView",
            "grid_template_rows": null,
            "right": null,
            "justify_content": null,
            "_view_module": "@jupyter-widgets/base",
            "overflow": null,
            "_model_module_version": "1.2.0",
            "_view_count": null,
            "flex_flow": null,
            "width": null,
            "min_width": null,
            "border": null,
            "align_items": null,
            "bottom": null,
            "_model_module": "@jupyter-widgets/base",
            "top": null,
            "grid_column": null,
            "overflow_y": null,
            "overflow_x": null,
            "grid_auto_flow": null,
            "grid_area": null,
            "grid_template_columns": null,
            "flex": null,
            "_model_name": "LayoutModel",
            "justify_items": null,
            "grid_row": null,
            "max_height": null,
            "align_content": null,
            "visibility": null,
            "align_self": null,
            "height": null,
            "min_height": null,
            "padding": null,
            "grid_auto_rows": null,
            "grid_gap": null,
            "max_width": null,
            "order": null,
            "_view_module_version": "1.2.0",
            "grid_template_areas": null,
            "object_position": null,
            "object_fit": null,
            "grid_auto_columns": null,
            "margin": null,
            "display": null,
            "left": null
          }
        },
        "996dada4d2ee4ad48fb678a7b59a9880": {
          "model_module": "@jupyter-widgets/controls",
          "model_name": "FloatProgressModel",
          "state": {
            "_view_name": "ProgressView",
            "style": "IPY_MODEL_b8ff139194464385bee00242115dbfce",
            "_dom_classes": [],
            "description": "Downloading: 100%",
            "_model_name": "FloatProgressModel",
            "bar_style": "success",
            "max": 231508,
            "_view_module": "@jupyter-widgets/controls",
            "_model_module_version": "1.5.0",
            "value": 231508,
            "_view_count": null,
            "_view_module_version": "1.5.0",
            "orientation": "horizontal",
            "min": 0,
            "description_tooltip": null,
            "_model_module": "@jupyter-widgets/controls",
            "layout": "IPY_MODEL_9b5062e4498f40b8ac95e663a43f1ea1"
          }
        },
        "f2cde87948874c34911d558ad9013cf6": {
          "model_module": "@jupyter-widgets/controls",
          "model_name": "HTMLModel",
          "state": {
            "_view_name": "HTMLView",
            "style": "IPY_MODEL_3eb8956635734eafaef21e8e9efe16d9",
            "_dom_classes": [],
            "description": "",
            "_model_name": "HTMLModel",
            "placeholder": "​",
            "_view_module": "@jupyter-widgets/controls",
            "_model_module_version": "1.5.0",
            "value": " 232k/232k [00:00&lt;00:00, 4.79MB/s]",
            "_view_count": null,
            "_view_module_version": "1.5.0",
            "description_tooltip": null,
            "_model_module": "@jupyter-widgets/controls",
            "layout": "IPY_MODEL_acf13c5daff64ed3ae7465db35f575cc"
          }
        },
        "b8ff139194464385bee00242115dbfce": {
          "model_module": "@jupyter-widgets/controls",
          "model_name": "ProgressStyleModel",
          "state": {
            "_view_name": "StyleView",
            "_model_name": "ProgressStyleModel",
            "description_width": "initial",
            "_view_module": "@jupyter-widgets/base",
            "_model_module_version": "1.5.0",
            "_view_count": null,
            "_view_module_version": "1.2.0",
            "bar_color": null,
            "_model_module": "@jupyter-widgets/controls"
          }
        },
        "9b5062e4498f40b8ac95e663a43f1ea1": {
          "model_module": "@jupyter-widgets/base",
          "model_name": "LayoutModel",
          "state": {
            "_view_name": "LayoutView",
            "grid_template_rows": null,
            "right": null,
            "justify_content": null,
            "_view_module": "@jupyter-widgets/base",
            "overflow": null,
            "_model_module_version": "1.2.0",
            "_view_count": null,
            "flex_flow": null,
            "width": null,
            "min_width": null,
            "border": null,
            "align_items": null,
            "bottom": null,
            "_model_module": "@jupyter-widgets/base",
            "top": null,
            "grid_column": null,
            "overflow_y": null,
            "overflow_x": null,
            "grid_auto_flow": null,
            "grid_area": null,
            "grid_template_columns": null,
            "flex": null,
            "_model_name": "LayoutModel",
            "justify_items": null,
            "grid_row": null,
            "max_height": null,
            "align_content": null,
            "visibility": null,
            "align_self": null,
            "height": null,
            "min_height": null,
            "padding": null,
            "grid_auto_rows": null,
            "grid_gap": null,
            "max_width": null,
            "order": null,
            "_view_module_version": "1.2.0",
            "grid_template_areas": null,
            "object_position": null,
            "object_fit": null,
            "grid_auto_columns": null,
            "margin": null,
            "display": null,
            "left": null
          }
        },
        "3eb8956635734eafaef21e8e9efe16d9": {
          "model_module": "@jupyter-widgets/controls",
          "model_name": "DescriptionStyleModel",
          "state": {
            "_view_name": "StyleView",
            "_model_name": "DescriptionStyleModel",
            "description_width": "",
            "_view_module": "@jupyter-widgets/base",
            "_model_module_version": "1.5.0",
            "_view_count": null,
            "_view_module_version": "1.2.0",
            "_model_module": "@jupyter-widgets/controls"
          }
        },
        "acf13c5daff64ed3ae7465db35f575cc": {
          "model_module": "@jupyter-widgets/base",
          "model_name": "LayoutModel",
          "state": {
            "_view_name": "LayoutView",
            "grid_template_rows": null,
            "right": null,
            "justify_content": null,
            "_view_module": "@jupyter-widgets/base",
            "overflow": null,
            "_model_module_version": "1.2.0",
            "_view_count": null,
            "flex_flow": null,
            "width": null,
            "min_width": null,
            "border": null,
            "align_items": null,
            "bottom": null,
            "_model_module": "@jupyter-widgets/base",
            "top": null,
            "grid_column": null,
            "overflow_y": null,
            "overflow_x": null,
            "grid_auto_flow": null,
            "grid_area": null,
            "grid_template_columns": null,
            "flex": null,
            "_model_name": "LayoutModel",
            "justify_items": null,
            "grid_row": null,
            "max_height": null,
            "align_content": null,
            "visibility": null,
            "align_self": null,
            "height": null,
            "min_height": null,
            "padding": null,
            "grid_auto_rows": null,
            "grid_gap": null,
            "max_width": null,
            "order": null,
            "_view_module_version": "1.2.0",
            "grid_template_areas": null,
            "object_position": null,
            "object_fit": null,
            "grid_auto_columns": null,
            "margin": null,
            "display": null,
            "left": null
          }
        },
        "4bc866e3cdb646f58d0ba4f65baec89a": {
          "model_module": "@jupyter-widgets/controls",
          "model_name": "HBoxModel",
          "state": {
            "_view_name": "HBoxView",
            "_dom_classes": [],
            "_model_name": "HBoxModel",
            "_view_module": "@jupyter-widgets/controls",
            "_model_module_version": "1.5.0",
            "_view_count": null,
            "_view_module_version": "1.5.0",
            "box_style": "",
            "layout": "IPY_MODEL_86d30377ae714403b3f5fca287e09711",
            "_model_module": "@jupyter-widgets/controls",
            "children": [
              "IPY_MODEL_c8383b88647f4fa581beb179c604715f",
              "IPY_MODEL_be979d369773431093de84b2aafd190a"
            ]
          }
        },
        "86d30377ae714403b3f5fca287e09711": {
          "model_module": "@jupyter-widgets/base",
          "model_name": "LayoutModel",
          "state": {
            "_view_name": "LayoutView",
            "grid_template_rows": null,
            "right": null,
            "justify_content": null,
            "_view_module": "@jupyter-widgets/base",
            "overflow": null,
            "_model_module_version": "1.2.0",
            "_view_count": null,
            "flex_flow": null,
            "width": null,
            "min_width": null,
            "border": null,
            "align_items": null,
            "bottom": null,
            "_model_module": "@jupyter-widgets/base",
            "top": null,
            "grid_column": null,
            "overflow_y": null,
            "overflow_x": null,
            "grid_auto_flow": null,
            "grid_area": null,
            "grid_template_columns": null,
            "flex": null,
            "_model_name": "LayoutModel",
            "justify_items": null,
            "grid_row": null,
            "max_height": null,
            "align_content": null,
            "visibility": null,
            "align_self": null,
            "height": null,
            "min_height": null,
            "padding": null,
            "grid_auto_rows": null,
            "grid_gap": null,
            "max_width": null,
            "order": null,
            "_view_module_version": "1.2.0",
            "grid_template_areas": null,
            "object_position": null,
            "object_fit": null,
            "grid_auto_columns": null,
            "margin": null,
            "display": null,
            "left": null
          }
        },
        "c8383b88647f4fa581beb179c604715f": {
          "model_module": "@jupyter-widgets/controls",
          "model_name": "FloatProgressModel",
          "state": {
            "_view_name": "ProgressView",
            "style": "IPY_MODEL_7d2ffabc880340d1ab494b020c014c96",
            "_dom_classes": [],
            "description": "Downloading: 100%",
            "_model_name": "FloatProgressModel",
            "bar_style": "success",
            "max": 466062,
            "_view_module": "@jupyter-widgets/controls",
            "_model_module_version": "1.5.0",
            "value": 466062,
            "_view_count": null,
            "_view_module_version": "1.5.0",
            "orientation": "horizontal",
            "min": 0,
            "description_tooltip": null,
            "_model_module": "@jupyter-widgets/controls",
            "layout": "IPY_MODEL_64d2bd83a2854374ad3fc6fdf207f4d5"
          }
        },
        "be979d369773431093de84b2aafd190a": {
          "model_module": "@jupyter-widgets/controls",
          "model_name": "HTMLModel",
          "state": {
            "_view_name": "HTMLView",
            "style": "IPY_MODEL_cb0a589e35844404aaf1d25d240d65aa",
            "_dom_classes": [],
            "description": "",
            "_model_name": "HTMLModel",
            "placeholder": "​",
            "_view_module": "@jupyter-widgets/controls",
            "_model_module_version": "1.5.0",
            "value": " 466k/466k [01:41&lt;00:00, 4.60kB/s]",
            "_view_count": null,
            "_view_module_version": "1.5.0",
            "description_tooltip": null,
            "_model_module": "@jupyter-widgets/controls",
            "layout": "IPY_MODEL_8281ee9e90a749168dcb92c5781192b8"
          }
        },
        "7d2ffabc880340d1ab494b020c014c96": {
          "model_module": "@jupyter-widgets/controls",
          "model_name": "ProgressStyleModel",
          "state": {
            "_view_name": "StyleView",
            "_model_name": "ProgressStyleModel",
            "description_width": "initial",
            "_view_module": "@jupyter-widgets/base",
            "_model_module_version": "1.5.0",
            "_view_count": null,
            "_view_module_version": "1.2.0",
            "bar_color": null,
            "_model_module": "@jupyter-widgets/controls"
          }
        },
        "64d2bd83a2854374ad3fc6fdf207f4d5": {
          "model_module": "@jupyter-widgets/base",
          "model_name": "LayoutModel",
          "state": {
            "_view_name": "LayoutView",
            "grid_template_rows": null,
            "right": null,
            "justify_content": null,
            "_view_module": "@jupyter-widgets/base",
            "overflow": null,
            "_model_module_version": "1.2.0",
            "_view_count": null,
            "flex_flow": null,
            "width": null,
            "min_width": null,
            "border": null,
            "align_items": null,
            "bottom": null,
            "_model_module": "@jupyter-widgets/base",
            "top": null,
            "grid_column": null,
            "overflow_y": null,
            "overflow_x": null,
            "grid_auto_flow": null,
            "grid_area": null,
            "grid_template_columns": null,
            "flex": null,
            "_model_name": "LayoutModel",
            "justify_items": null,
            "grid_row": null,
            "max_height": null,
            "align_content": null,
            "visibility": null,
            "align_self": null,
            "height": null,
            "min_height": null,
            "padding": null,
            "grid_auto_rows": null,
            "grid_gap": null,
            "max_width": null,
            "order": null,
            "_view_module_version": "1.2.0",
            "grid_template_areas": null,
            "object_position": null,
            "object_fit": null,
            "grid_auto_columns": null,
            "margin": null,
            "display": null,
            "left": null
          }
        },
        "cb0a589e35844404aaf1d25d240d65aa": {
          "model_module": "@jupyter-widgets/controls",
          "model_name": "DescriptionStyleModel",
          "state": {
            "_view_name": "StyleView",
            "_model_name": "DescriptionStyleModel",
            "description_width": "",
            "_view_module": "@jupyter-widgets/base",
            "_model_module_version": "1.5.0",
            "_view_count": null,
            "_view_module_version": "1.2.0",
            "_model_module": "@jupyter-widgets/controls"
          }
        },
        "8281ee9e90a749168dcb92c5781192b8": {
          "model_module": "@jupyter-widgets/base",
          "model_name": "LayoutModel",
          "state": {
            "_view_name": "LayoutView",
            "grid_template_rows": null,
            "right": null,
            "justify_content": null,
            "_view_module": "@jupyter-widgets/base",
            "overflow": null,
            "_model_module_version": "1.2.0",
            "_view_count": null,
            "flex_flow": null,
            "width": null,
            "min_width": null,
            "border": null,
            "align_items": null,
            "bottom": null,
            "_model_module": "@jupyter-widgets/base",
            "top": null,
            "grid_column": null,
            "overflow_y": null,
            "overflow_x": null,
            "grid_auto_flow": null,
            "grid_area": null,
            "grid_template_columns": null,
            "flex": null,
            "_model_name": "LayoutModel",
            "justify_items": null,
            "grid_row": null,
            "max_height": null,
            "align_content": null,
            "visibility": null,
            "align_self": null,
            "height": null,
            "min_height": null,
            "padding": null,
            "grid_auto_rows": null,
            "grid_gap": null,
            "max_width": null,
            "order": null,
            "_view_module_version": "1.2.0",
            "grid_template_areas": null,
            "object_position": null,
            "object_fit": null,
            "grid_auto_columns": null,
            "margin": null,
            "display": null,
            "left": null
          }
        },
        "f1d79cb0c8b042a2a2e40fcdb344801f": {
          "model_module": "@jupyter-widgets/controls",
          "model_name": "HBoxModel",
          "state": {
            "_view_name": "HBoxView",
            "_dom_classes": [],
            "_model_name": "HBoxModel",
            "_view_module": "@jupyter-widgets/controls",
            "_model_module_version": "1.5.0",
            "_view_count": null,
            "_view_module_version": "1.5.0",
            "box_style": "",
            "layout": "IPY_MODEL_cf6c51ad6dee46bdba17b40d046acdc6",
            "_model_module": "@jupyter-widgets/controls",
            "children": [
              "IPY_MODEL_d9746ce6066b4db78722af911f6c81ef",
              "IPY_MODEL_ef10dee4ffad4ed0af7207a007567284"
            ]
          }
        },
        "cf6c51ad6dee46bdba17b40d046acdc6": {
          "model_module": "@jupyter-widgets/base",
          "model_name": "LayoutModel",
          "state": {
            "_view_name": "LayoutView",
            "grid_template_rows": null,
            "right": null,
            "justify_content": null,
            "_view_module": "@jupyter-widgets/base",
            "overflow": null,
            "_model_module_version": "1.2.0",
            "_view_count": null,
            "flex_flow": null,
            "width": null,
            "min_width": null,
            "border": null,
            "align_items": null,
            "bottom": null,
            "_model_module": "@jupyter-widgets/base",
            "top": null,
            "grid_column": null,
            "overflow_y": null,
            "overflow_x": null,
            "grid_auto_flow": null,
            "grid_area": null,
            "grid_template_columns": null,
            "flex": null,
            "_model_name": "LayoutModel",
            "justify_items": null,
            "grid_row": null,
            "max_height": null,
            "align_content": null,
            "visibility": null,
            "align_self": null,
            "height": null,
            "min_height": null,
            "padding": null,
            "grid_auto_rows": null,
            "grid_gap": null,
            "max_width": null,
            "order": null,
            "_view_module_version": "1.2.0",
            "grid_template_areas": null,
            "object_position": null,
            "object_fit": null,
            "grid_auto_columns": null,
            "margin": null,
            "display": null,
            "left": null
          }
        },
        "d9746ce6066b4db78722af911f6c81ef": {
          "model_module": "@jupyter-widgets/controls",
          "model_name": "FloatProgressModel",
          "state": {
            "_view_name": "ProgressView",
            "style": "IPY_MODEL_3692259a75d84001856546af34bdd4cf",
            "_dom_classes": [],
            "description": "Downloading: 100%",
            "_model_name": "FloatProgressModel",
            "bar_style": "success",
            "max": 28,
            "_view_module": "@jupyter-widgets/controls",
            "_model_module_version": "1.5.0",
            "value": 28,
            "_view_count": null,
            "_view_module_version": "1.5.0",
            "orientation": "horizontal",
            "min": 0,
            "description_tooltip": null,
            "_model_module": "@jupyter-widgets/controls",
            "layout": "IPY_MODEL_20b9a477352e40f4ba087197c851e235"
          }
        },
        "ef10dee4ffad4ed0af7207a007567284": {
          "model_module": "@jupyter-widgets/controls",
          "model_name": "HTMLModel",
          "state": {
            "_view_name": "HTMLView",
            "style": "IPY_MODEL_97bf3e3e85af4a44a0df12e6b2d2c306",
            "_dom_classes": [],
            "description": "",
            "_model_name": "HTMLModel",
            "placeholder": "​",
            "_view_module": "@jupyter-widgets/controls",
            "_model_module_version": "1.5.0",
            "value": " 28.0/28.0 [01:41&lt;00:00, 3.62s/B]",
            "_view_count": null,
            "_view_module_version": "1.5.0",
            "description_tooltip": null,
            "_model_module": "@jupyter-widgets/controls",
            "layout": "IPY_MODEL_e014e870e4f3424c9a63700be56257e3"
          }
        },
        "3692259a75d84001856546af34bdd4cf": {
          "model_module": "@jupyter-widgets/controls",
          "model_name": "ProgressStyleModel",
          "state": {
            "_view_name": "StyleView",
            "_model_name": "ProgressStyleModel",
            "description_width": "initial",
            "_view_module": "@jupyter-widgets/base",
            "_model_module_version": "1.5.0",
            "_view_count": null,
            "_view_module_version": "1.2.0",
            "bar_color": null,
            "_model_module": "@jupyter-widgets/controls"
          }
        },
        "20b9a477352e40f4ba087197c851e235": {
          "model_module": "@jupyter-widgets/base",
          "model_name": "LayoutModel",
          "state": {
            "_view_name": "LayoutView",
            "grid_template_rows": null,
            "right": null,
            "justify_content": null,
            "_view_module": "@jupyter-widgets/base",
            "overflow": null,
            "_model_module_version": "1.2.0",
            "_view_count": null,
            "flex_flow": null,
            "width": null,
            "min_width": null,
            "border": null,
            "align_items": null,
            "bottom": null,
            "_model_module": "@jupyter-widgets/base",
            "top": null,
            "grid_column": null,
            "overflow_y": null,
            "overflow_x": null,
            "grid_auto_flow": null,
            "grid_area": null,
            "grid_template_columns": null,
            "flex": null,
            "_model_name": "LayoutModel",
            "justify_items": null,
            "grid_row": null,
            "max_height": null,
            "align_content": null,
            "visibility": null,
            "align_self": null,
            "height": null,
            "min_height": null,
            "padding": null,
            "grid_auto_rows": null,
            "grid_gap": null,
            "max_width": null,
            "order": null,
            "_view_module_version": "1.2.0",
            "grid_template_areas": null,
            "object_position": null,
            "object_fit": null,
            "grid_auto_columns": null,
            "margin": null,
            "display": null,
            "left": null
          }
        },
        "97bf3e3e85af4a44a0df12e6b2d2c306": {
          "model_module": "@jupyter-widgets/controls",
          "model_name": "DescriptionStyleModel",
          "state": {
            "_view_name": "StyleView",
            "_model_name": "DescriptionStyleModel",
            "description_width": "",
            "_view_module": "@jupyter-widgets/base",
            "_model_module_version": "1.5.0",
            "_view_count": null,
            "_view_module_version": "1.2.0",
            "_model_module": "@jupyter-widgets/controls"
          }
        },
        "e014e870e4f3424c9a63700be56257e3": {
          "model_module": "@jupyter-widgets/base",
          "model_name": "LayoutModel",
          "state": {
            "_view_name": "LayoutView",
            "grid_template_rows": null,
            "right": null,
            "justify_content": null,
            "_view_module": "@jupyter-widgets/base",
            "overflow": null,
            "_model_module_version": "1.2.0",
            "_view_count": null,
            "flex_flow": null,
            "width": null,
            "min_width": null,
            "border": null,
            "align_items": null,
            "bottom": null,
            "_model_module": "@jupyter-widgets/base",
            "top": null,
            "grid_column": null,
            "overflow_y": null,
            "overflow_x": null,
            "grid_auto_flow": null,
            "grid_area": null,
            "grid_template_columns": null,
            "flex": null,
            "_model_name": "LayoutModel",
            "justify_items": null,
            "grid_row": null,
            "max_height": null,
            "align_content": null,
            "visibility": null,
            "align_self": null,
            "height": null,
            "min_height": null,
            "padding": null,
            "grid_auto_rows": null,
            "grid_gap": null,
            "max_width": null,
            "order": null,
            "_view_module_version": "1.2.0",
            "grid_template_areas": null,
            "object_position": null,
            "object_fit": null,
            "grid_auto_columns": null,
            "margin": null,
            "display": null,
            "left": null
          }
        }
      }
    }
  },
  "cells": [
    {
      "cell_type": "markdown",
      "metadata": {
        "id": "view-in-github",
        "colab_type": "text"
      },
      "source": [
        "<a href=\"https://colab.research.google.com/github/sarulathadurai/AMICorpusXML/blob/master/NewPre.ipynb\" target=\"_parent\"><img src=\"https://colab.research.google.com/assets/colab-badge.svg\" alt=\"Open In Colab\"/></a>"
      ]
    },
    {
      "cell_type": "code",
      "metadata": {
        "colab": {
          "base_uri": "https://localhost:8080/"
        },
        "id": "B-EESxpFT1-D",
        "outputId": "fdf1f7d2-fdbb-4883-831f-88860a643c22"
      },
      "source": [
        "!git clone https://github.com/nlpyang/PreSumm.git"
      ],
      "execution_count": null,
      "outputs": [
        {
          "output_type": "stream",
          "text": [
            "Cloning into 'PreSumm'...\n",
            "remote: Enumerating objects: 417, done.\u001b[K\n",
            "remote: Total 417 (delta 0), reused 0 (delta 0), pack-reused 417\u001b[K\n",
            "Receiving objects: 100% (417/417), 13.00 MiB | 9.37 MiB/s, done.\n",
            "Resolving deltas: 100% (280/280), done.\n"
          ],
          "name": "stdout"
        }
      ]
    },
    {
      "cell_type": "code",
      "metadata": {
        "colab": {
          "base_uri": "https://localhost:8080/"
        },
        "id": "78ccU_j3UK2B",
        "outputId": "5a942269-e7d9-4171-c35f-bc70ae06d612"
      },
      "source": [
        "!pip install torch==1.1.0 pytorch_transformers tensorboardX multiprocess pyrouge"
      ],
      "execution_count": null,
      "outputs": [
        {
          "output_type": "stream",
          "text": [
            "Collecting torch==1.1.0\n",
            "\u001b[?25l  Downloading https://files.pythonhosted.org/packages/ac/23/a4b5c189dd624411ec84613b717594a00480282b949e3448d189c4aa4e47/torch-1.1.0-cp37-cp37m-manylinux1_x86_64.whl (676.9MB)\n",
            "\u001b[K     |████████████████████████████████| 676.9MB 26kB/s \n",
            "\u001b[?25hCollecting pytorch_transformers\n",
            "\u001b[?25l  Downloading https://files.pythonhosted.org/packages/a3/b7/d3d18008a67e0b968d1ab93ad444fc05699403fa662f634b2f2c318a508b/pytorch_transformers-1.2.0-py3-none-any.whl (176kB)\n",
            "\u001b[K     |████████████████████████████████| 184kB 37.2MB/s \n",
            "\u001b[?25hCollecting tensorboardX\n",
            "\u001b[?25l  Downloading https://files.pythonhosted.org/packages/af/0c/4f41bcd45db376e6fe5c619c01100e9b7531c55791b7244815bac6eac32c/tensorboardX-2.1-py2.py3-none-any.whl (308kB)\n",
            "\u001b[K     |████████████████████████████████| 317kB 37.0MB/s \n",
            "\u001b[?25hRequirement already satisfied: multiprocess in /usr/local/lib/python3.7/dist-packages (0.70.11.1)\n",
            "Collecting pyrouge\n",
            "\u001b[?25l  Downloading https://files.pythonhosted.org/packages/11/85/e522dd6b36880ca19dcf7f262b22365748f56edc6f455e7b6a37d0382c32/pyrouge-0.1.3.tar.gz (60kB)\n",
            "\u001b[K     |████████████████████████████████| 61kB 7.2MB/s \n",
            "\u001b[?25hRequirement already satisfied: numpy in /usr/local/lib/python3.7/dist-packages (from torch==1.1.0) (1.19.5)\n",
            "Requirement already satisfied: requests in /usr/local/lib/python3.7/dist-packages (from pytorch_transformers) (2.23.0)\n",
            "Collecting boto3\n",
            "\u001b[?25l  Downloading https://files.pythonhosted.org/packages/30/6d/1c43d87bfff9e7afb5130629dfb7d57617245eeb4a474bf77f45d637c3a6/boto3-1.17.33-py2.py3-none-any.whl (131kB)\n",
            "\u001b[K     |████████████████████████████████| 133kB 39.0MB/s \n",
            "\u001b[?25hCollecting sacremoses\n",
            "\u001b[?25l  Downloading https://files.pythonhosted.org/packages/7d/34/09d19aff26edcc8eb2a01bed8e98f13a1537005d31e95233fd48216eed10/sacremoses-0.0.43.tar.gz (883kB)\n",
            "\u001b[K     |████████████████████████████████| 890kB 38.1MB/s \n",
            "\u001b[?25hRequirement already satisfied: regex in /usr/local/lib/python3.7/dist-packages (from pytorch_transformers) (2019.12.20)\n",
            "Collecting sentencepiece\n",
            "\u001b[?25l  Downloading https://files.pythonhosted.org/packages/f5/99/e0808cb947ba10f575839c43e8fafc9cc44e4a7a2c8f79c60db48220a577/sentencepiece-0.1.95-cp37-cp37m-manylinux2014_x86_64.whl (1.2MB)\n",
            "\u001b[K     |████████████████████████████████| 1.2MB 23.1MB/s \n",
            "\u001b[?25hRequirement already satisfied: tqdm in /usr/local/lib/python3.7/dist-packages (from pytorch_transformers) (4.41.1)\n",
            "Requirement already satisfied: six in /usr/local/lib/python3.7/dist-packages (from tensorboardX) (1.15.0)\n",
            "Requirement already satisfied: protobuf>=3.8.0 in /usr/local/lib/python3.7/dist-packages (from tensorboardX) (3.12.4)\n",
            "Requirement already satisfied: dill>=0.3.3 in /usr/local/lib/python3.7/dist-packages (from multiprocess) (0.3.3)\n",
            "Requirement already satisfied: chardet<4,>=3.0.2 in /usr/local/lib/python3.7/dist-packages (from requests->pytorch_transformers) (3.0.4)\n",
            "Requirement already satisfied: certifi>=2017.4.17 in /usr/local/lib/python3.7/dist-packages (from requests->pytorch_transformers) (2020.12.5)\n",
            "Requirement already satisfied: urllib3!=1.25.0,!=1.25.1,<1.26,>=1.21.1 in /usr/local/lib/python3.7/dist-packages (from requests->pytorch_transformers) (1.24.3)\n",
            "Requirement already satisfied: idna<3,>=2.5 in /usr/local/lib/python3.7/dist-packages (from requests->pytorch_transformers) (2.10)\n",
            "Collecting jmespath<1.0.0,>=0.7.1\n",
            "  Downloading https://files.pythonhosted.org/packages/07/cb/5f001272b6faeb23c1c9e0acc04d48eaaf5c862c17709d20e3469c6e0139/jmespath-0.10.0-py2.py3-none-any.whl\n",
            "Collecting botocore<1.21.0,>=1.20.33\n",
            "\u001b[?25l  Downloading https://files.pythonhosted.org/packages/dd/1c/f922d7fa47cdd6a18c7470252e86f7c4d24e85cb3cdff09486675df3769c/botocore-1.20.33-py2.py3-none-any.whl (7.3MB)\n",
            "\u001b[K     |████████████████████████████████| 7.3MB 8.5MB/s \n",
            "\u001b[?25hCollecting s3transfer<0.4.0,>=0.3.0\n",
            "\u001b[?25l  Downloading https://files.pythonhosted.org/packages/98/14/0b4be62b65c52d6d1c442f24e02d2a9889a73d3c352002e14c70f84a679f/s3transfer-0.3.6-py2.py3-none-any.whl (73kB)\n",
            "\u001b[K     |████████████████████████████████| 81kB 8.7MB/s \n",
            "\u001b[?25hRequirement already satisfied: click in /usr/local/lib/python3.7/dist-packages (from sacremoses->pytorch_transformers) (7.1.2)\n",
            "Requirement already satisfied: joblib in /usr/local/lib/python3.7/dist-packages (from sacremoses->pytorch_transformers) (1.0.1)\n",
            "Requirement already satisfied: setuptools in /usr/local/lib/python3.7/dist-packages (from protobuf>=3.8.0->tensorboardX) (54.1.2)\n",
            "Requirement already satisfied: python-dateutil<3.0.0,>=2.1 in /usr/local/lib/python3.7/dist-packages (from botocore<1.21.0,>=1.20.33->boto3->pytorch_transformers) (2.8.1)\n",
            "Building wheels for collected packages: pyrouge, sacremoses\n",
            "  Building wheel for pyrouge (setup.py) ... \u001b[?25l\u001b[?25hdone\n",
            "  Created wheel for pyrouge: filename=pyrouge-0.1.3-cp37-none-any.whl size=191613 sha256=9bb5b7b84b22aa46be4d7fc2c5e290dce67696ab08b6ed9011fa6bd8b2e2f4a4\n",
            "  Stored in directory: /root/.cache/pip/wheels/75/d3/0c/e5b04e15b6b87c42e980de3931d2686e14d36e045058983599\n",
            "  Building wheel for sacremoses (setup.py) ... \u001b[?25l\u001b[?25hdone\n",
            "  Created wheel for sacremoses: filename=sacremoses-0.0.43-cp37-none-any.whl size=893262 sha256=fcf63d54fd6dd4b4892dd97b78f69066c95276c9d141c9c180ee81458d2a926f\n",
            "  Stored in directory: /root/.cache/pip/wheels/29/3c/fd/7ce5c3f0666dab31a50123635e6fb5e19ceb42ce38d4e58f45\n",
            "Successfully built pyrouge sacremoses\n",
            "\u001b[31mERROR: torchvision 0.9.0+cu101 has requirement torch==1.8.0, but you'll have torch 1.1.0 which is incompatible.\u001b[0m\n",
            "\u001b[31mERROR: torchtext 0.9.0 has requirement torch==1.8.0, but you'll have torch 1.1.0 which is incompatible.\u001b[0m\n",
            "\u001b[31mERROR: botocore 1.20.33 has requirement urllib3<1.27,>=1.25.4, but you'll have urllib3 1.24.3 which is incompatible.\u001b[0m\n",
            "Installing collected packages: torch, jmespath, botocore, s3transfer, boto3, sacremoses, sentencepiece, pytorch-transformers, tensorboardX, pyrouge\n",
            "  Found existing installation: torch 1.8.0+cu101\n",
            "    Uninstalling torch-1.8.0+cu101:\n",
            "      Successfully uninstalled torch-1.8.0+cu101\n",
            "Successfully installed boto3-1.17.33 botocore-1.20.33 jmespath-0.10.0 pyrouge-0.1.3 pytorch-transformers-1.2.0 s3transfer-0.3.6 sacremoses-0.0.43 sentencepiece-0.1.95 tensorboardX-2.1 torch-1.1.0\n"
          ],
          "name": "stdout"
        }
      ]
    },
    {
      "cell_type": "code",
      "metadata": {
        "colab": {
          "base_uri": "https://localhost:8080/"
        },
        "id": "Ej7msGsMUqp3",
        "outputId": "dfe9f60e-c262-4975-b579-5e0fd8c3e0c1"
      },
      "source": [
        "%cd /content/PreSumm/models\n",
        "\n",
        "#CNN/DM Extractive bertext_cnndm_transformer.pt\n",
        "!gdown https://drive.google.com/uc?id=1kKWoV0QCbeIuFt85beQgJ4v0lujaXobJ&export=download\n"
      ],
      "execution_count": null,
      "outputs": [
        {
          "output_type": "stream",
          "text": [
            "/content/PreSumm/models\n",
            "Downloading...\n",
            "From: https://drive.google.com/uc?id=1kKWoV0QCbeIuFt85beQgJ4v0lujaXobJ\n",
            "To: /content/PreSumm/models/bertext_cnndm_transformer.zip\n",
            "1.32GB [00:39, 33.3MB/s]\n"
          ],
          "name": "stdout"
        }
      ]
    },
    {
      "cell_type": "code",
      "metadata": {
        "colab": {
          "base_uri": "https://localhost:8080/"
        },
        "id": "dWJNMO2fVGk9",
        "outputId": "e0d2dc49-7ac6-40cf-bce7-f9d2319d4cc6"
      },
      "source": [
        "!unzip /content/PreSumm/models/bertext_cnndm_transformer.zip"
      ],
      "execution_count": null,
      "outputs": [
        {
          "output_type": "stream",
          "text": [
            "Archive:  /content/PreSumm/models/bertext_cnndm_transformer.zip\n",
            "  inflating: bertext_cnndm_transformer.pt  \n"
          ],
          "name": "stdout"
        }
      ]
    },
    {
      "cell_type": "code",
      "metadata": {
        "id": "DF0-MbMTVPhb"
      },
      "source": [
        "\n",
        "!mv /content/PreSumm/models/bertext_cnndm_transformer.pt /content/PreSumm/models/CNN_DailyMail_Extractive\n"
      ],
      "execution_count": null,
      "outputs": []
    },
    {
      "cell_type": "code",
      "metadata": {
        "colab": {
          "base_uri": "https://localhost:8080/"
        },
        "id": "i68XYb9DV8UW",
        "outputId": "31f6e9c6-8f1e-41fd-e947-06ff8e4118f3"
      },
      "source": [
        "!mkdir /content/PreSumm/bert_data_test/\n",
        "!mkdir /content/PreSumm/bert_data/cnndm\n",
        "\n",
        "%cd /content/PreSumm/bert_data/cnndm"
      ],
      "execution_count": null,
      "outputs": [
        {
          "output_type": "stream",
          "text": [
            "/content/PreSumm/bert_data/cnndm\n"
          ],
          "name": "stdout"
        }
      ]
    },
    {
      "cell_type": "code",
      "metadata": {
        "id": "duajb_fgDq8L"
      },
      "source": [
        "!mkdir /content/PreSumm/raw_stories/"
      ],
      "execution_count": null,
      "outputs": []
    },
    {
      "cell_type": "code",
      "metadata": {
        "colab": {
          "base_uri": "https://localhost:8080/"
        },
        "id": "5N2LV2oSFBj3",
        "outputId": "a3bac091-9083-4ea5-da37-895965f98596"
      },
      "source": [
        "%cd /content/PreSumm/raw_stories/"
      ],
      "execution_count": null,
      "outputs": [
        {
          "output_type": "stream",
          "text": [
            "/content/PreSumm/raw_stories\n"
          ],
          "name": "stdout"
        }
      ]
    },
    {
      "cell_type": "code",
      "metadata": {
        "colab": {
          "base_uri": "https://localhost:8080/"
        },
        "id": "mIf7nOGCFFCh",
        "outputId": "6dcac74c-2fe8-4044-e5af-a5ff37237cd4"
      },
      "source": [
        "#custom data\n",
        "!gdown https://drive.google.com/uc?id=1omBqwHl8OornQTuLKqfYZJT7RDMHeFaa\n",
        "  "
      ],
      "execution_count": null,
      "outputs": [
        {
          "output_type": "stream",
          "text": [
            "Downloading...\n",
            "From: https://drive.google.com/uc?id=1omBqwHl8OornQTuLKqfYZJT7RDMHeFaa\n",
            "To: /content/PreSumm/raw_stories/extractive.zip\n",
            "\r  0% 0.00/1.44M [00:00<?, ?B/s]\r100% 1.44M/1.44M [00:00<00:00, 46.9MB/s]\n"
          ],
          "name": "stdout"
        }
      ]
    },
    {
      "cell_type": "code",
      "metadata": {
        "colab": {
          "base_uri": "https://localhost:8080/"
        },
        "id": "F1BcPtz5Fn_X",
        "outputId": "53cf0387-42de-4a7b-a8af-9b7b12896650"
      },
      "source": [
        "!unzip /content/PreSumm/raw_stories/extractive.zip"
      ],
      "execution_count": null,
      "outputs": [
        {
          "output_type": "stream",
          "text": [
            "Archive:  /content/PreSumm/raw_stories/extractive.zip\n",
            "   creating: extractive/\n",
            "  inflating: extractive/ES2002a.story  \n",
            "  inflating: extractive/ES2002b.story  \n",
            "  inflating: extractive/ES2002c.story  \n",
            "  inflating: extractive/ES2002d.story  \n",
            "  inflating: extractive/ES2003a.story  \n",
            "  inflating: extractive/ES2003b.story  \n",
            "  inflating: extractive/ES2003c.story  \n",
            "  inflating: extractive/ES2003d.story  \n",
            "  inflating: extractive/ES2004a.story  \n",
            "  inflating: extractive/ES2004b.story  \n",
            "  inflating: extractive/ES2004c.story  \n",
            "  inflating: extractive/ES2004d.story  \n",
            "  inflating: extractive/ES2005a.story  \n",
            "  inflating: extractive/ES2005b.story  \n",
            "  inflating: extractive/ES2005c.story  \n",
            "  inflating: extractive/ES2005d.story  \n",
            "  inflating: extractive/ES2006a.story  \n",
            "  inflating: extractive/ES2006b.story  \n",
            "  inflating: extractive/ES2006c.story  \n",
            "  inflating: extractive/ES2006d.story  \n",
            "  inflating: extractive/ES2007a.story  \n",
            "  inflating: extractive/ES2007b.story  \n",
            "  inflating: extractive/ES2007c.story  \n",
            "  inflating: extractive/ES2007d.story  \n",
            "  inflating: extractive/ES2008a.story  \n",
            "  inflating: extractive/ES2008b.story  \n",
            "  inflating: extractive/ES2008c.story  \n",
            "  inflating: extractive/ES2008d.story  \n",
            "  inflating: extractive/ES2009a.story  \n",
            "  inflating: extractive/ES2009b.story  \n",
            "  inflating: extractive/ES2009c.story  \n",
            "  inflating: extractive/ES2009d.story  \n",
            "  inflating: extractive/ES2010a.story  \n",
            "  inflating: extractive/ES2010b.story  \n",
            "  inflating: extractive/ES2010c.story  \n",
            "  inflating: extractive/ES2010d.story  \n",
            "  inflating: extractive/ES2011a.story  \n",
            "  inflating: extractive/ES2011b.story  \n",
            "  inflating: extractive/ES2011c.story  \n",
            "  inflating: extractive/ES2011d.story  \n",
            "  inflating: extractive/ES2012a.story  \n",
            "  inflating: extractive/ES2012b.story  \n",
            "  inflating: extractive/ES2012c.story  \n",
            "  inflating: extractive/ES2012d.story  \n",
            "  inflating: extractive/ES2013a.story  \n",
            "  inflating: extractive/ES2013b.story  \n",
            "  inflating: extractive/ES2013c.story  \n",
            "  inflating: extractive/ES2013d.story  \n",
            "  inflating: extractive/ES2014a.story  \n",
            "  inflating: extractive/ES2014b.story  \n",
            "  inflating: extractive/ES2014c.story  \n",
            "  inflating: extractive/ES2014d.story  \n",
            "  inflating: extractive/ES2015a.story  \n",
            "  inflating: extractive/ES2015b.story  \n",
            "  inflating: extractive/ES2015c.story  \n",
            "  inflating: extractive/ES2015d.story  \n",
            "  inflating: extractive/ES2016a.story  \n",
            "  inflating: extractive/ES2016b.story  \n",
            "  inflating: extractive/ES2016c.story  \n",
            "  inflating: extractive/ES2016d.story  \n",
            "  inflating: extractive/IS1000a.story  \n",
            "  inflating: extractive/IS1000b.story  \n",
            "  inflating: extractive/IS1000c.story  \n",
            "  inflating: extractive/IS1000d.story  \n",
            "  inflating: extractive/IS1001a.story  \n",
            "  inflating: extractive/IS1001b.story  \n",
            "  inflating: extractive/IS1001c.story  \n",
            "  inflating: extractive/IS1001d.story  \n",
            "  inflating: extractive/IS1002b.story  \n",
            "  inflating: extractive/IS1002c.story  \n",
            "  inflating: extractive/IS1002d.story  \n",
            "  inflating: extractive/IS1003a.story  \n",
            "  inflating: extractive/IS1003b.story  \n",
            "  inflating: extractive/IS1003c.story  \n",
            "  inflating: extractive/IS1003d.story  \n",
            "  inflating: extractive/IS1004a.story  \n",
            "  inflating: extractive/IS1004b.story  \n",
            "  inflating: extractive/IS1004c.story  \n",
            "  inflating: extractive/IS1004d.story  \n",
            "  inflating: extractive/IS1005a.story  \n",
            "  inflating: extractive/IS1005b.story  \n",
            "  inflating: extractive/IS1005c.story  \n",
            "  inflating: extractive/IS1006a.story  \n",
            "  inflating: extractive/IS1006b.story  \n",
            "  inflating: extractive/IS1006c.story  \n",
            "  inflating: extractive/IS1006d.story  \n",
            "  inflating: extractive/IS1007a.story  \n",
            "  inflating: extractive/IS1007b.story  \n",
            "  inflating: extractive/IS1007c.story  \n",
            "  inflating: extractive/IS1007d.story  \n",
            "  inflating: extractive/IS1008a.story  \n",
            "  inflating: extractive/IS1008b.story  \n",
            "  inflating: extractive/IS1008c.story  \n",
            "  inflating: extractive/IS1008d.story  \n",
            "  inflating: extractive/IS1009a.story  \n",
            "  inflating: extractive/IS1009b.story  \n",
            "  inflating: extractive/IS1009c.story  \n",
            "  inflating: extractive/IS1009d.story  \n",
            "  inflating: extractive/TS3003a.story  \n",
            "  inflating: extractive/TS3003b.story  \n",
            "  inflating: extractive/TS3003c.story  \n",
            "  inflating: extractive/TS3003d.story  \n",
            "  inflating: extractive/TS3004a.story  \n",
            "  inflating: extractive/TS3004b.story  \n",
            "  inflating: extractive/TS3004c.story  \n",
            "  inflating: extractive/TS3004d.story  \n",
            "  inflating: extractive/TS3005a.story  \n",
            "  inflating: extractive/TS3005b.story  \n",
            "  inflating: extractive/TS3005c.story  \n",
            "  inflating: extractive/TS3005d.story  \n",
            "  inflating: extractive/TS3006a.story  \n",
            "  inflating: extractive/TS3006b.story  \n",
            "  inflating: extractive/TS3006c.story  \n",
            "  inflating: extractive/TS3006d.story  \n",
            "  inflating: extractive/TS3007a.story  \n",
            "  inflating: extractive/TS3007b.story  \n",
            "  inflating: extractive/TS3007c.story  \n",
            "  inflating: extractive/TS3007d.story  \n",
            "  inflating: extractive/TS3008a.story  \n",
            "  inflating: extractive/TS3008b.story  \n",
            "  inflating: extractive/TS3008c.story  \n",
            "  inflating: extractive/TS3008d.story  \n",
            "  inflating: extractive/TS3009a.story  \n",
            "  inflating: extractive/TS3009b.story  \n",
            "  inflating: extractive/TS3009c.story  \n",
            "  inflating: extractive/TS3009d.story  \n",
            "  inflating: extractive/TS3010a.story  \n",
            "  inflating: extractive/TS3010b.story  \n",
            "  inflating: extractive/TS3010c.story  \n",
            "  inflating: extractive/TS3010d.story  \n",
            "  inflating: extractive/TS3011a.story  \n",
            "  inflating: extractive/TS3011b.story  \n",
            "  inflating: extractive/TS3011c.story  \n",
            "  inflating: extractive/TS3011d.story  \n",
            "  inflating: extractive/TS3012a.story  \n",
            "  inflating: extractive/TS3012b.story  \n",
            "  inflating: extractive/TS3012d.story  \n"
          ],
          "name": "stdout"
        }
      ]
    },
    {
      "cell_type": "code",
      "metadata": {
        "colab": {
          "base_uri": "https://localhost:8080/"
        },
        "id": "-l7UTbBjI29g",
        "outputId": "c90ab65b-003f-406a-d2f2-01cf0405259b"
      },
      "source": [
        "import os       #importing os to set environment variable\n",
        "def install_java():\n",
        "  !apt-get install -y openjdk-8-jdk-headless -qq > /dev/null      #install openjdk\n",
        "  os.environ[\"JAVA_HOME\"] = \"/usr/lib/jvm/java-8-openjdk-amd64\"     #set environment variable\n",
        "  !java -version       #check java version\n",
        "install_java()"
      ],
      "execution_count": null,
      "outputs": [
        {
          "output_type": "stream",
          "text": [
            "openjdk version \"11.0.10\" 2021-01-19\n",
            "OpenJDK Runtime Environment (build 11.0.10+9-Ubuntu-0ubuntu1.18.04)\n",
            "OpenJDK 64-Bit Server VM (build 11.0.10+9-Ubuntu-0ubuntu1.18.04, mixed mode, sharing)\n"
          ],
          "name": "stdout"
        }
      ]
    },
    {
      "cell_type": "code",
      "metadata": {
        "colab": {
          "base_uri": "https://localhost:8080/"
        },
        "id": "TZupr49k3w60",
        "outputId": "6781ac7a-02d4-4dde-a411-c74d8998a122"
      },
      "source": [
        "!pip install stanza\n",
        "\n",
        "import stanza"
      ],
      "execution_count": null,
      "outputs": [
        {
          "output_type": "stream",
          "text": [
            "Collecting stanza\n",
            "\u001b[?25l  Downloading https://files.pythonhosted.org/packages/50/ae/a70a58ce6b4e2daad538688806ee0f238dbe601954582a74ea57cde6c532/stanza-1.2-py3-none-any.whl (282kB)\n",
            "\u001b[K     |████████████████████████████████| 286kB 3.8MB/s \n",
            "\u001b[?25hCollecting torch>=1.3.0\n",
            "\u001b[?25l  Downloading https://files.pythonhosted.org/packages/94/99/5861239a6e1ffe66e120f114a4d67e96e5c4b17c1a785dfc6ca6769585fc/torch-1.8.0-cp37-cp37m-manylinux1_x86_64.whl (735.5MB)\n",
            "\u001b[K     |████████████████████████████████| 735.5MB 25kB/s \n",
            "\u001b[?25hRequirement already satisfied: tqdm in /usr/local/lib/python3.7/dist-packages (from stanza) (4.41.1)\n",
            "Requirement already satisfied: protobuf in /usr/local/lib/python3.7/dist-packages (from stanza) (3.12.4)\n",
            "Requirement already satisfied: requests in /usr/local/lib/python3.7/dist-packages (from stanza) (2.23.0)\n",
            "Requirement already satisfied: numpy in /usr/local/lib/python3.7/dist-packages (from stanza) (1.19.5)\n",
            "Requirement already satisfied: typing-extensions in /usr/local/lib/python3.7/dist-packages (from torch>=1.3.0->stanza) (3.7.4.3)\n",
            "Requirement already satisfied: six>=1.9 in /usr/local/lib/python3.7/dist-packages (from protobuf->stanza) (1.15.0)\n",
            "Requirement already satisfied: setuptools in /usr/local/lib/python3.7/dist-packages (from protobuf->stanza) (54.1.2)\n",
            "Requirement already satisfied: certifi>=2017.4.17 in /usr/local/lib/python3.7/dist-packages (from requests->stanza) (2020.12.5)\n",
            "Requirement already satisfied: idna<3,>=2.5 in /usr/local/lib/python3.7/dist-packages (from requests->stanza) (2.10)\n",
            "Requirement already satisfied: chardet<4,>=3.0.2 in /usr/local/lib/python3.7/dist-packages (from requests->stanza) (3.0.4)\n",
            "Requirement already satisfied: urllib3!=1.25.0,!=1.25.1,<1.26,>=1.21.1 in /usr/local/lib/python3.7/dist-packages (from requests->stanza) (1.24.3)\n",
            "Installing collected packages: torch, stanza\n",
            "  Found existing installation: torch 1.1.0\n",
            "    Uninstalling torch-1.1.0:\n",
            "      Successfully uninstalled torch-1.1.0\n",
            "Successfully installed stanza-1.2 torch-1.8.0\n"
          ],
          "name": "stdout"
        }
      ]
    },
    {
      "cell_type": "code",
      "metadata": {
        "id": "S3kqKGAp4tr-"
      },
      "source": [
        "# Download the Stanford CoreNLP package with Stanza's installation command\n",
        "# This'll take several minutes, depending on the network speed\n",
        "corenlp_dir = '/content/PreSumm/src/corenlp'\n",
        "\n",
        "\n",
        "# Set the CORENLP_HOME environment variable to point to the installation location\n",
        "import os\n",
        "os.environ[\"CORENLP_HOME\"] = corenlp_dir"
      ],
      "execution_count": null,
      "outputs": []
    },
    {
      "cell_type": "code",
      "metadata": {
        "id": "wkhb446t6RVN"
      },
      "source": [
        "!mv /content/PreSumm/raw_stories/corenlp /content/PreSumm/src"
      ],
      "execution_count": null,
      "outputs": []
    },
    {
      "cell_type": "code",
      "metadata": {
        "id": "fRWjnxvHHT29"
      },
      "source": [
        ""
      ],
      "execution_count": null,
      "outputs": []
    },
    {
      "cell_type": "code",
      "metadata": {
        "id": "xSyAnRLh-STO"
      },
      "source": [
        "!mv /content/PreSumm/raw_stories/extractive /content/PreSumm/src"
      ],
      "execution_count": null,
      "outputs": []
    },
    {
      "cell_type": "code",
      "metadata": {
        "colab": {
          "base_uri": "https://localhost:8080/"
        },
        "id": "rPrN9YqJO717",
        "outputId": "e8e396ec-7d4d-4b04-85a1-13667244c9ae"
      },
      "source": [
        "%cd /content/PreSumm/src/corenlp/\n",
        "!java -cp \"*\" edu.stanford.nlp.pipeline.StanfordCoreNLP -file input.txt"
      ],
      "execution_count": null,
      "outputs": [
        {
          "output_type": "stream",
          "text": [
            "/content/PreSumm/src/corenlp\n",
            "[main] INFO edu.stanford.nlp.pipeline.StanfordCoreNLP - Searching for resource: StanfordCoreNLP.properties ... found.\n",
            "[main] INFO edu.stanford.nlp.pipeline.StanfordCoreNLP - Adding annotator tokenize\n",
            "[main] INFO edu.stanford.nlp.pipeline.StanfordCoreNLP - Adding annotator ssplit\n",
            "[main] INFO edu.stanford.nlp.pipeline.StanfordCoreNLP - Adding annotator pos\n",
            "[main] INFO edu.stanford.nlp.tagger.maxent.MaxentTagger - Loading POS tagger from edu/stanford/nlp/models/pos-tagger/english-left3words-distsim.tagger ... done [1.8 sec].\n",
            "[main] INFO edu.stanford.nlp.pipeline.StanfordCoreNLP - Adding annotator lemma\n",
            "[main] INFO edu.stanford.nlp.pipeline.StanfordCoreNLP - Adding annotator ner\n",
            "[main] INFO edu.stanford.nlp.ie.AbstractSequenceClassifier - Loading classifier from edu/stanford/nlp/models/ner/english.all.3class.distsim.crf.ser.gz ... done [2.6 sec].\n",
            "[main] INFO edu.stanford.nlp.ie.AbstractSequenceClassifier - Loading classifier from edu/stanford/nlp/models/ner/english.muc.7class.distsim.crf.ser.gz ... done [1.0 sec].\n",
            "[main] INFO edu.stanford.nlp.ie.AbstractSequenceClassifier - Loading classifier from edu/stanford/nlp/models/ner/english.conll.4class.distsim.crf.ser.gz ... done [1.0 sec].\n",
            "[main] INFO edu.stanford.nlp.time.JollyDayHolidays - Initializing JollyDayHoliday for SUTime from classpath edu/stanford/nlp/models/sutime/jollyday/Holidays_sutime.xml as sutime.binder.1.\n",
            "[main] INFO edu.stanford.nlp.time.TimeExpressionExtractorImpl - Using following SUTime rules: edu/stanford/nlp/models/sutime/defs.sutime.txt,edu/stanford/nlp/models/sutime/english.sutime.txt,edu/stanford/nlp/models/sutime/english.holidays.sutime.txt\n",
            "[main] INFO edu.stanford.nlp.pipeline.TokensRegexNERAnnotator - ner.fine.regexner: Read 580705 unique entries out of 581864 from edu/stanford/nlp/models/kbp/english/gazetteers/regexner_caseless.tab, 0 TokensRegex patterns.\n",
            "[main] INFO edu.stanford.nlp.pipeline.TokensRegexNERAnnotator - ner.fine.regexner: Read 4867 unique entries out of 4867 from edu/stanford/nlp/models/kbp/english/gazetteers/regexner_cased.tab, 0 TokensRegex patterns.\n",
            "[main] INFO edu.stanford.nlp.pipeline.TokensRegexNERAnnotator - ner.fine.regexner: Read 585572 unique entries from 2 files\n",
            "[main] INFO edu.stanford.nlp.pipeline.NERCombinerAnnotator - numeric classifiers: true; SUTime: true [no docDate]; fine grained: true\n",
            "[main] INFO edu.stanford.nlp.pipeline.StanfordCoreNLP - Adding annotator depparse\n",
            "[main] INFO edu.stanford.nlp.parser.nndep.DependencyParser - Loading depparse model: edu/stanford/nlp/models/parser/nndep/english_UD.gz ... Time elapsed: 1.8 sec\n",
            "[main] INFO edu.stanford.nlp.parser.nndep.Classifier - PreComputed 20000 vectors, elapsed Time: 1.773 sec\n",
            "[main] INFO edu.stanford.nlp.parser.nndep.DependencyParser - Initializing dependency parser ... done [3.6 sec].\n",
            "[main] INFO edu.stanford.nlp.pipeline.StanfordCoreNLP - Adding annotator coref\n",
            "[main] INFO edu.stanford.nlp.coref.statistical.SimpleLinearClassifier - Loading coref model edu/stanford/nlp/models/coref/statistical/ranking_model.ser.gz ... done [1.6 sec].\n",
            "[main] INFO edu.stanford.nlp.pipeline.CorefMentionAnnotator - Using mention detector type: dependency\n",
            "[main] INFO edu.stanford.nlp.pipeline.StanfordCoreNLP - Adding annotator kbp\n",
            "[main] INFO edu.stanford.nlp.pipeline.KBPAnnotator - Loading KBP classifier from: edu/stanford/nlp/models/kbp/english/tac-re-lr.ser.gz\n",
            "\n",
            "Processing file /content/PreSumm/src/corenlp/input.txt ... writing to /content/PreSumm/src/corenlp/input.txt.out\n",
            "Annotating file /content/PreSumm/src/corenlp/input.txt ... done [1.2 sec].\n",
            "\n",
            "Annotation pipeline timing information:\n",
            "TokenizerAnnotator: 0.1 sec.\n",
            "WordsToSentencesAnnotator: 0.0 sec.\n",
            "POSTaggerAnnotator: 0.0 sec.\n",
            "MorphaAnnotator: 0.1 sec.\n",
            "NERCombinerAnnotator: 0.5 sec.\n",
            "DependencyParseAnnotator: 0.2 sec.\n",
            "CorefAnnotator: 0.1 sec.\n",
            "KBPAnnotator: 0.2 sec.\n",
            "TOTAL: 1.2 sec. for 17 tokens at 14.6 tokens/sec.\n",
            "Pipeline setup: 49.3 sec.\n",
            "Total time for StanfordCoreNLP pipeline: 50.5 sec.\n"
          ],
          "name": "stdout"
        }
      ]
    },
    {
      "cell_type": "code",
      "metadata": {
        "colab": {
          "base_uri": "https://localhost:8080/"
        },
        "id": "d0-R-UKGEnrU",
        "outputId": "1c14e6c9-c17a-427e-f047-b1c2eca99dcb"
      },
      "source": [
        "!java -cp \"/content/PreSumm/src/corenlp/*\" edu.stanford.nlp.pipeline.StanfordCoreNLP -file /content/PreSumm/src/extractive"
      ],
      "execution_count": null,
      "outputs": [
        {
          "output_type": "stream",
          "text": [
            "[main] INFO edu.stanford.nlp.pipeline.StanfordCoreNLP - Searching for resource: StanfordCoreNLP.properties ... found.\n",
            "[main] INFO edu.stanford.nlp.pipeline.StanfordCoreNLP - Adding annotator tokenize\n",
            "[main] INFO edu.stanford.nlp.pipeline.StanfordCoreNLP - Adding annotator ssplit\n",
            "[main] INFO edu.stanford.nlp.pipeline.StanfordCoreNLP - Adding annotator pos\n",
            "[main] INFO edu.stanford.nlp.tagger.maxent.MaxentTagger - Loading POS tagger from edu/stanford/nlp/models/pos-tagger/english-left3words-distsim.tagger ... done [1.8 sec].\n",
            "[main] INFO edu.stanford.nlp.pipeline.StanfordCoreNLP - Adding annotator lemma\n",
            "[main] INFO edu.stanford.nlp.pipeline.StanfordCoreNLP - Adding annotator ner\n",
            "[main] INFO edu.stanford.nlp.ie.AbstractSequenceClassifier - Loading classifier from edu/stanford/nlp/models/ner/english.all.3class.distsim.crf.ser.gz ... done [2.5 sec].\n",
            "[main] INFO edu.stanford.nlp.ie.AbstractSequenceClassifier - Loading classifier from edu/stanford/nlp/models/ner/english.muc.7class.distsim.crf.ser.gz ... done [0.8 sec].\n",
            "[main] INFO edu.stanford.nlp.ie.AbstractSequenceClassifier - Loading classifier from edu/stanford/nlp/models/ner/english.conll.4class.distsim.crf.ser.gz ... done [1.0 sec].\n",
            "[main] INFO edu.stanford.nlp.time.JollyDayHolidays - Initializing JollyDayHoliday for SUTime from classpath edu/stanford/nlp/models/sutime/jollyday/Holidays_sutime.xml as sutime.binder.1.\n",
            "[main] INFO edu.stanford.nlp.time.TimeExpressionExtractorImpl - Using following SUTime rules: edu/stanford/nlp/models/sutime/defs.sutime.txt,edu/stanford/nlp/models/sutime/english.sutime.txt,edu/stanford/nlp/models/sutime/english.holidays.sutime.txt\n",
            "[main] INFO edu.stanford.nlp.pipeline.TokensRegexNERAnnotator - ner.fine.regexner: Read 580705 unique entries out of 581864 from edu/stanford/nlp/models/kbp/english/gazetteers/regexner_caseless.tab, 0 TokensRegex patterns.\n",
            "[main] INFO edu.stanford.nlp.pipeline.TokensRegexNERAnnotator - ner.fine.regexner: Read 4867 unique entries out of 4867 from edu/stanford/nlp/models/kbp/english/gazetteers/regexner_cased.tab, 0 TokensRegex patterns.\n",
            "[main] INFO edu.stanford.nlp.pipeline.TokensRegexNERAnnotator - ner.fine.regexner: Read 585572 unique entries from 2 files\n",
            "[main] INFO edu.stanford.nlp.pipeline.NERCombinerAnnotator - numeric classifiers: true; SUTime: true [no docDate]; fine grained: true\n",
            "[main] INFO edu.stanford.nlp.pipeline.StanfordCoreNLP - Adding annotator depparse\n",
            "[main] INFO edu.stanford.nlp.parser.nndep.DependencyParser - Loading depparse model: edu/stanford/nlp/models/parser/nndep/english_UD.gz ... Time elapsed: 2.0 sec\n",
            "[main] INFO edu.stanford.nlp.parser.nndep.Classifier - PreComputed 20000 vectors, elapsed Time: 1.693 sec\n",
            "[main] INFO edu.stanford.nlp.parser.nndep.DependencyParser - Initializing dependency parser ... done [3.7 sec].\n",
            "[main] INFO edu.stanford.nlp.pipeline.StanfordCoreNLP - Adding annotator coref\n",
            "[main] INFO edu.stanford.nlp.coref.statistical.SimpleLinearClassifier - Loading coref model edu/stanford/nlp/models/coref/statistical/ranking_model.ser.gz ... done [1.5 sec].\n",
            "[main] INFO edu.stanford.nlp.pipeline.CorefMentionAnnotator - Using mention detector type: dependency\n",
            "[main] INFO edu.stanford.nlp.pipeline.StanfordCoreNLP - Adding annotator kbp\n",
            "[main] INFO edu.stanford.nlp.pipeline.KBPAnnotator - Loading KBP classifier from: edu/stanford/nlp/models/kbp/english/tac-re-lr.ser.gz\n",
            "\n",
            "Processing file /content/PreSumm/src/extractive/ES2010b.story ... writing to /content/PreSumm/src/ES2010b.story.out\n",
            "Annotating file /content/PreSumm/src/extractive/ES2010b.story ... done [95.6 sec].\n",
            "Processing file /content/PreSumm/src/extractive/TS3011a.story ... writing to /content/PreSumm/src/TS3011a.story.out\n",
            "Annotating file /content/PreSumm/src/extractive/TS3011a.story ... done [61.7 sec].\n",
            "Processing file /content/PreSumm/src/extractive/IS1008c.story ... writing to /content/PreSumm/src/IS1008c.story.out\n",
            "Annotating file /content/PreSumm/src/extractive/IS1008c.story ... done [77.3 sec].\n",
            "Processing file /content/PreSumm/src/extractive/TS3006b.story ... writing to /content/PreSumm/src/TS3006b.story.out\n",
            "Annotating file /content/PreSumm/src/extractive/TS3006b.story ... done [104.3 sec].\n",
            "Processing file /content/PreSumm/src/extractive/ES2015d.story ... writing to /content/PreSumm/src/ES2015d.story.out\n",
            "Annotating file /content/PreSumm/src/extractive/ES2015d.story ... done [89.3 sec].\n",
            "Processing file /content/PreSumm/src/extractive/IS1004c.story ... writing to /content/PreSumm/src/IS1004c.story.out\n",
            "Annotating file /content/PreSumm/src/extractive/IS1004c.story ... done [106.0 sec].\n",
            "Processing file /content/PreSumm/src/extractive/IS1006c.story ... writing to /content/PreSumm/src/IS1006c.story.out\n",
            "Annotating file /content/PreSumm/src/extractive/IS1006c.story ... done [83.5 sec].\n",
            "Processing file /content/PreSumm/src/extractive/TS3012a.story ... writing to /content/PreSumm/src/TS3012a.story.out\n",
            "Annotating file /content/PreSumm/src/extractive/TS3012a.story ... done [28.6 sec].\n",
            "Processing file /content/PreSumm/src/extractive/ES2003c.story ... writing to /content/PreSumm/src/ES2003c.story.out\n",
            "Annotating file /content/PreSumm/src/extractive/ES2003c.story ... done [96.6 sec].\n",
            "Processing file /content/PreSumm/src/extractive/TS3010d.story ... writing to /content/PreSumm/src/TS3010d.story.out\n",
            "Annotating file /content/PreSumm/src/extractive/TS3010d.story ... done [57.2 sec].\n",
            "Processing file /content/PreSumm/src/extractive/IS1001d.story ... writing to /content/PreSumm/src/IS1001d.story.out\n",
            "Annotating file /content/PreSumm/src/extractive/IS1001d.story ... done [29.6 sec].\n",
            "Processing file /content/PreSumm/src/extractive/ES2016c.story ... writing to /content/PreSumm/src/ES2016c.story.out\n",
            "Annotating file /content/PreSumm/src/extractive/ES2016c.story ... done [70.7 sec].\n",
            "Processing file /content/PreSumm/src/extractive/IS1005c.story ... writing to /content/PreSumm/src/IS1005c.story.out\n",
            "Annotating file /content/PreSumm/src/extractive/IS1005c.story ... done [71.0 sec].\n",
            "Processing file /content/PreSumm/src/extractive/IS1004a.story ... writing to /content/PreSumm/src/IS1004a.story.out\n",
            "Annotating file /content/PreSumm/src/extractive/IS1004a.story ... done [23.2 sec].\n",
            "Processing file /content/PreSumm/src/extractive/TS3006c.story ... writing to /content/PreSumm/src/TS3006c.story.out\n",
            "Annotating file /content/PreSumm/src/extractive/TS3006c.story ... done [103.8 sec].\n",
            "Processing file /content/PreSumm/src/extractive/TS3010c.story ... writing to /content/PreSumm/src/TS3010c.story.out\n",
            "Annotating file /content/PreSumm/src/extractive/TS3010c.story ... done [74.2 sec].\n",
            "Processing file /content/PreSumm/src/extractive/TS3007b.story ... writing to /content/PreSumm/src/TS3007b.story.out\n",
            "Annotating file /content/PreSumm/src/extractive/TS3007b.story ... done [112.0 sec].\n",
            "Processing file /content/PreSumm/src/extractive/TS3004c.story ... writing to /content/PreSumm/src/TS3004c.story.out\n",
            "Annotating file /content/PreSumm/src/extractive/TS3004c.story ... done [118.4 sec].\n",
            "Processing file /content/PreSumm/src/extractive/IS1000b.story ... writing to /content/PreSumm/src/IS1000b.story.out\n",
            "Annotating file /content/PreSumm/src/extractive/IS1000b.story ... done [106.9 sec].\n",
            "Processing file /content/PreSumm/src/extractive/ES2013b.story ... writing to /content/PreSumm/src/ES2013b.story.out\n",
            "Annotating file /content/PreSumm/src/extractive/ES2013b.story ... done [93.0 sec].\n",
            "Processing file /content/PreSumm/src/extractive/IS1008a.story ... writing to /content/PreSumm/src/IS1008a.story.out\n",
            "Annotating file /content/PreSumm/src/extractive/IS1008a.story ... done [52.3 sec].\n",
            "Processing file /content/PreSumm/src/extractive/TS3007c.story ... writing to /content/PreSumm/src/TS3007c.story.out\n",
            "Annotating file /content/PreSumm/src/extractive/TS3007c.story ... done [103.1 sec].\n",
            "Processing file /content/PreSumm/src/extractive/ES2012b.story ... writing to /content/PreSumm/src/ES2012b.story.out\n",
            "Annotating file /content/PreSumm/src/extractive/ES2012b.story ... done [97.0 sec].\n",
            "Processing file /content/PreSumm/src/extractive/ES2008b.story ... writing to /content/PreSumm/src/ES2008b.story.out\n",
            "Annotating file /content/PreSumm/src/extractive/ES2008b.story ... done [101.0 sec].\n",
            "Processing file /content/PreSumm/src/extractive/IS1002c.story ... writing to /content/PreSumm/src/IS1002c.story.out\n",
            "Annotating file /content/PreSumm/src/extractive/IS1002c.story ... done [115.1 sec].\n",
            "Processing file /content/PreSumm/src/extractive/TS3005b.story ... writing to /content/PreSumm/src/TS3005b.story.out\n",
            "Annotating file /content/PreSumm/src/extractive/TS3005b.story ... done [124.2 sec].\n",
            "Processing file /content/PreSumm/src/extractive/ES2010d.story ... writing to /content/PreSumm/src/ES2010d.story.out\n",
            "Annotating file /content/PreSumm/src/extractive/ES2010d.story ... done [44.3 sec].\n",
            "Processing file /content/PreSumm/src/extractive/TS3008a.story ... writing to /content/PreSumm/src/TS3008a.story.out\n",
            "Annotating file /content/PreSumm/src/extractive/TS3008a.story ... done [40.5 sec].\n",
            "Processing file /content/PreSumm/src/extractive/ES2007c.story ... writing to /content/PreSumm/src/ES2007c.story.out\n",
            "Annotating file /content/PreSumm/src/extractive/ES2007c.story ... done [91.1 sec].\n",
            "Processing file /content/PreSumm/src/extractive/IS1000a.story ... writing to /content/PreSumm/src/IS1000a.story.out\n",
            "Annotating file /content/PreSumm/src/extractive/IS1000a.story ... done [49.2 sec].\n",
            "Processing file /content/PreSumm/src/extractive/ES2011d.story ... writing to /content/PreSumm/src/ES2011d.story.out\n",
            "Annotating file /content/PreSumm/src/extractive/ES2011d.story ... done [64.0 sec].\n",
            "Processing file /content/PreSumm/src/extractive/TS3009b.story ... writing to /content/PreSumm/src/TS3009b.story.out\n",
            "Annotating file /content/PreSumm/src/extractive/TS3009b.story ... done [114.8 sec].\n",
            "Processing file /content/PreSumm/src/extractive/TS3012b.story ... writing to /content/PreSumm/src/TS3012b.story.out\n",
            "Annotating file /content/PreSumm/src/extractive/TS3012b.story ... done [122.9 sec].\n",
            "Processing file /content/PreSumm/src/extractive/TS3005d.story ... writing to /content/PreSumm/src/TS3005d.story.out\n",
            "Annotating file /content/PreSumm/src/extractive/TS3005d.story ... done [149.9 sec].\n",
            "Processing file /content/PreSumm/src/extractive/ES2005b.story ... writing to /content/PreSumm/src/ES2005b.story.out\n",
            "Annotating file /content/PreSumm/src/extractive/ES2005b.story ... done [90.7 sec].\n",
            "Processing file /content/PreSumm/src/extractive/ES2015b.story ... writing to /content/PreSumm/src/ES2015b.story.out\n",
            "Annotating file /content/PreSumm/src/extractive/ES2015b.story ... done [101.0 sec].\n",
            "Processing file /content/PreSumm/src/extractive/TS3004b.story ... writing to /content/PreSumm/src/TS3004b.story.out\n",
            "Annotating file /content/PreSumm/src/extractive/TS3004b.story ... done [115.4 sec].\n",
            "Processing file /content/PreSumm/src/extractive/ES2006c.story ... writing to /content/PreSumm/src/ES2006c.story.out\n",
            "Annotating file /content/PreSumm/src/extractive/ES2006c.story ... done [113.5 sec].\n",
            "Processing file /content/PreSumm/src/extractive/IS1002d.story ... writing to /content/PreSumm/src/IS1002d.story.out\n",
            "Annotating file /content/PreSumm/src/extractive/IS1002d.story ... done [53.3 sec].\n",
            "Processing file /content/PreSumm/src/extractive/TS3008b.story ... writing to /content/PreSumm/src/TS3008b.story.out\n",
            "Annotating file /content/PreSumm/src/extractive/TS3008b.story ... done [100.6 sec].\n",
            "Processing file /content/PreSumm/src/extractive/IS1007d.story ... writing to /content/PreSumm/src/IS1007d.story.out\n",
            "Annotating file /content/PreSumm/src/extractive/IS1007d.story ... done [99.7 sec].\n",
            "Processing file /content/PreSumm/src/extractive/TS3009a.story ... writing to /content/PreSumm/src/TS3009a.story.out\n",
            "Annotating file /content/PreSumm/src/extractive/TS3009a.story ... done [70.7 sec].\n",
            "Processing file /content/PreSumm/src/extractive/ES2003b.story ... writing to /content/PreSumm/src/ES2003b.story.out\n",
            "Annotating file /content/PreSumm/src/extractive/ES2003b.story ... done [95.2 sec].\n",
            "Processing file /content/PreSumm/src/extractive/ES2015a.story ... writing to /content/PreSumm/src/ES2015a.story.out\n",
            "Annotating file /content/PreSumm/src/extractive/ES2015a.story ... done [38.9 sec].\n",
            "Processing file /content/PreSumm/src/extractive/IS1008d.story ... writing to /content/PreSumm/src/IS1008d.story.out\n",
            "Annotating file /content/PreSumm/src/extractive/IS1008d.story ... done [74.5 sec].\n",
            "Processing file /content/PreSumm/src/extractive/ES2004c.story ... writing to /content/PreSumm/src/ES2004c.story.out\n",
            "Annotating file /content/PreSumm/src/extractive/ES2004c.story ... done [104.5 sec].\n",
            "Processing file /content/PreSumm/src/extractive/ES2016d.story ... writing to /content/PreSumm/src/ES2016d.story.out\n",
            "Annotating file /content/PreSumm/src/extractive/ES2016d.story ... done [52.3 sec].\n",
            "Processing file /content/PreSumm/src/extractive/TS3005a.story ... writing to /content/PreSumm/src/TS3005a.story.out\n",
            "Annotating file /content/PreSumm/src/extractive/TS3005a.story ... done [46.5 sec].\n",
            "Processing file /content/PreSumm/src/extractive/IS1009d.story ... writing to /content/PreSumm/src/IS1009d.story.out\n",
            "Annotating file /content/PreSumm/src/extractive/IS1009d.story ... done [65.8 sec].\n",
            "Processing file /content/PreSumm/src/extractive/IS1006d.story ... writing to /content/PreSumm/src/IS1006d.story.out\n",
            "Annotating file /content/PreSumm/src/extractive/IS1006d.story ... done [68.3 sec].\n",
            "Processing file /content/PreSumm/src/extractive/IS1008b.story ... writing to /content/PreSumm/src/IS1008b.story.out\n",
            "Annotating file /content/PreSumm/src/extractive/IS1008b.story ... done [77.5 sec].\n",
            "Processing file /content/PreSumm/src/extractive/TS3011c.story ... writing to /content/PreSumm/src/TS3011c.story.out\n",
            "Annotating file /content/PreSumm/src/extractive/TS3011c.story ... done [86.9 sec].\n",
            "Processing file /content/PreSumm/src/extractive/ES2004b.story ... writing to /content/PreSumm/src/ES2004b.story.out\n",
            "Annotating file /content/PreSumm/src/extractive/ES2004b.story ... done [111.0 sec].\n",
            "Processing file /content/PreSumm/src/extractive/IS1003c.story ... writing to /content/PreSumm/src/IS1003c.story.out\n",
            "Annotating file /content/PreSumm/src/extractive/IS1003c.story ... done [88.8 sec].\n",
            "Processing file /content/PreSumm/src/extractive/TS3004d.story ... writing to /content/PreSumm/src/TS3004d.story.out\n",
            "Annotating file /content/PreSumm/src/extractive/TS3004d.story ... done [91.9 sec].\n",
            "Processing file /content/PreSumm/src/extractive/ES2015c.story ... writing to /content/PreSumm/src/ES2015c.story.out\n",
            "Annotating file /content/PreSumm/src/extractive/ES2015c.story ... done [90.9 sec].\n",
            "Processing file /content/PreSumm/src/extractive/ES2011c.story ... writing to /content/PreSumm/src/ES2011c.story.out\n",
            "Annotating file /content/PreSumm/src/extractive/ES2011c.story ... done [70.4 sec].\n",
            "Processing file /content/PreSumm/src/extractive/IS1004d.story ... writing to /content/PreSumm/src/IS1004d.story.out\n",
            "Annotating file /content/PreSumm/src/extractive/IS1004d.story ... done [81.2 sec].\n",
            "Processing file /content/PreSumm/src/extractive/ES2016b.story ... writing to /content/PreSumm/src/ES2016b.story.out\n",
            "Annotating file /content/PreSumm/src/extractive/ES2016b.story ... done [89.0 sec].\n",
            "Processing file /content/PreSumm/src/extractive/ES2009d.story ... writing to /content/PreSumm/src/ES2009d.story.out\n",
            "Annotating file /content/PreSumm/src/extractive/ES2009d.story ... done [107.4 sec].\n",
            "Processing file /content/PreSumm/src/extractive/ES2010a.story ... writing to /content/PreSumm/src/ES2010a.story.out\n",
            "Annotating file /content/PreSumm/src/extractive/ES2010a.story ... done [21.8 sec].\n",
            "Processing file /content/PreSumm/src/extractive/ES2013d.story ... writing to /content/PreSumm/src/ES2013d.story.out\n",
            "Annotating file /content/PreSumm/src/extractive/ES2013d.story ... done [74.2 sec].\n",
            "Processing file /content/PreSumm/src/extractive/IS1009a.story ... writing to /content/PreSumm/src/IS1009a.story.out\n",
            "Annotating file /content/PreSumm/src/extractive/IS1009a.story ... done [28.7 sec].\n",
            "Processing file /content/PreSumm/src/extractive/IS1003d.story ... writing to /content/PreSumm/src/IS1003d.story.out\n",
            "Annotating file /content/PreSumm/src/extractive/IS1003d.story ... done [91.2 sec].\n",
            "Processing file /content/PreSumm/src/extractive/TS3012d.story ... writing to /content/PreSumm/src/TS3012d.story.out\n",
            "Annotating file /content/PreSumm/src/extractive/TS3012d.story ... done [95.1 sec].\n",
            "Processing file /content/PreSumm/src/extractive/TS3003c.story ... writing to /content/PreSumm/src/TS3003c.story.out\n",
            "Annotating file /content/PreSumm/src/extractive/TS3003c.story ... done [81.3 sec].\n",
            "Processing file /content/PreSumm/src/extractive/TS3006d.story ... writing to /content/PreSumm/src/TS3006d.story.out\n",
            "Annotating file /content/PreSumm/src/extractive/TS3006d.story ... done [121.3 sec].\n",
            "Processing file /content/PreSumm/src/extractive/TS3005c.story ... writing to /content/PreSumm/src/TS3005c.story.out\n",
            "Annotating file /content/PreSumm/src/extractive/TS3005c.story ... done [112.3 sec].\n",
            "Processing file /content/PreSumm/src/extractive/ES2011b.story ... writing to /content/PreSumm/src/ES2011b.story.out\n",
            "Annotating file /content/PreSumm/src/extractive/ES2011b.story ... done [70.8 sec].\n",
            "Processing file /content/PreSumm/src/extractive/TS3010a.story ... writing to /content/PreSumm/src/TS3010a.story.out\n",
            "Annotating file /content/PreSumm/src/extractive/TS3010a.story ... done [19.5 sec].\n",
            "Processing file /content/PreSumm/src/extractive/IS1007a.story ... writing to /content/PreSumm/src/IS1007a.story.out\n",
            "Annotating file /content/PreSumm/src/extractive/IS1007a.story ... done [36.1 sec].\n",
            "Processing file /content/PreSumm/src/extractive/ES2004a.story ... writing to /content/PreSumm/src/ES2004a.story.out\n",
            "Annotating file /content/PreSumm/src/extractive/ES2004a.story ... done [42.4 sec].\n",
            "Processing file /content/PreSumm/src/extractive/ES2003d.story ... writing to /content/PreSumm/src/ES2003d.story.out\n",
            "Annotating file /content/PreSumm/src/extractive/ES2003d.story ... done [100.9 sec].\n",
            "Processing file /content/PreSumm/src/extractive/ES2014c.story ... writing to /content/PreSumm/src/ES2014c.story.out\n",
            "Annotating file /content/PreSumm/src/extractive/ES2014c.story ... done [100.7 sec].\n",
            "Processing file /content/PreSumm/src/extractive/ES2007a.story ... writing to /content/PreSumm/src/ES2007a.story.out\n",
            "Annotating file /content/PreSumm/src/extractive/ES2007a.story ... done [40.5 sec].\n",
            "Processing file /content/PreSumm/src/extractive/IS1000d.story ... writing to /content/PreSumm/src/IS1000d.story.out\n",
            "Annotating file /content/PreSumm/src/extractive/IS1000d.story ... done [132.5 sec].\n",
            "Processing file /content/PreSumm/src/extractive/IS1007b.story ... writing to /content/PreSumm/src/IS1007b.story.out\n",
            "Annotating file /content/PreSumm/src/extractive/IS1007b.story ... done [59.5 sec].\n",
            "Processing file /content/PreSumm/src/extractive/ES2008d.story ... writing to /content/PreSumm/src/ES2008d.story.out\n",
            "Annotating file /content/PreSumm/src/extractive/ES2008d.story ... done [131.5 sec].\n",
            "Processing file /content/PreSumm/src/extractive/ES2005a.story ... writing to /content/PreSumm/src/ES2005a.story.out\n",
            "Annotating file /content/PreSumm/src/extractive/ES2005a.story ... done [11.1 sec].\n",
            "Processing file /content/PreSumm/src/extractive/IS1002b.story ... writing to /content/PreSumm/src/IS1002b.story.out\n",
            "Annotating file /content/PreSumm/src/extractive/IS1002b.story ... done [139.5 sec].\n",
            "Processing file /content/PreSumm/src/extractive/ES2006d.story ... writing to /content/PreSumm/src/ES2006d.story.out\n",
            "Annotating file /content/PreSumm/src/extractive/ES2006d.story ... done [101.2 sec].\n",
            "Processing file /content/PreSumm/src/extractive/TS3009d.story ... writing to /content/PreSumm/src/TS3009d.story.out\n",
            "Annotating file /content/PreSumm/src/extractive/TS3009d.story ... done [96.7 sec].\n",
            "Processing file /content/PreSumm/src/extractive/ES2005d.story ... writing to /content/PreSumm/src/ES2005d.story.out\n",
            "Annotating file /content/PreSumm/src/extractive/ES2005d.story ... done [58.6 sec].\n",
            "Processing file /content/PreSumm/src/extractive/ES2013a.story ... writing to /content/PreSumm/src/ES2013a.story.out\n",
            "Annotating file /content/PreSumm/src/extractive/ES2013a.story ... done [28.9 sec].\n",
            "Processing file /content/PreSumm/src/extractive/ES2011a.story ... writing to /content/PreSumm/src/ES2011a.story.out\n",
            "Annotating file /content/PreSumm/src/extractive/ES2011a.story ... done [33.9 sec].\n",
            "Processing file /content/PreSumm/src/extractive/ES2012d.story ... writing to /content/PreSumm/src/ES2012d.story.out\n",
            "Annotating file /content/PreSumm/src/extractive/ES2012d.story ... done [40.5 sec].\n",
            "Processing file /content/PreSumm/src/extractive/ES2013c.story ... writing to /content/PreSumm/src/ES2013c.story.out\n",
            "Annotating file /content/PreSumm/src/extractive/ES2013c.story ... done [103.5 sec].\n",
            "Processing file /content/PreSumm/src/extractive/IS1004b.story ... writing to /content/PreSumm/src/IS1004b.story.out\n",
            "Annotating file /content/PreSumm/src/extractive/IS1004b.story ... done [91.7 sec].\n",
            "Processing file /content/PreSumm/src/extractive/IS1005a.story ... writing to /content/PreSumm/src/IS1005a.story.out\n",
            "Annotating file /content/PreSumm/src/extractive/IS1005a.story ... done [25.7 sec].\n",
            "Processing file /content/PreSumm/src/extractive/TS3003d.story ... writing to /content/PreSumm/src/TS3003d.story.out\n",
            "Annotating file /content/PreSumm/src/extractive/TS3003d.story ... done [89.7 sec].\n",
            "Processing file /content/PreSumm/src/extractive/IS1006a.story ... writing to /content/PreSumm/src/IS1006a.story.out\n",
            "Annotating file /content/PreSumm/src/extractive/IS1006a.story ... done [27.9 sec].\n",
            "Processing file /content/PreSumm/src/extractive/IS1009b.story ... writing to /content/PreSumm/src/IS1009b.story.out\n",
            "Annotating file /content/PreSumm/src/extractive/IS1009b.story ... done [92.8 sec].\n",
            "Processing file /content/PreSumm/src/extractive/ES2014d.story ... writing to /content/PreSumm/src/ES2014d.story.out\n",
            "Annotating file /content/PreSumm/src/extractive/ES2014d.story ... done [129.7 sec].\n",
            "Processing file /content/PreSumm/src/extractive/TS3011d.story ... writing to /content/PreSumm/src/TS3011d.story.out\n",
            "Annotating file /content/PreSumm/src/extractive/TS3011d.story ... done [66.6 sec].\n",
            "Processing file /content/PreSumm/src/extractive/IS1001c.story ... writing to /content/PreSumm/src/IS1001c.story.out\n",
            "Annotating file /content/PreSumm/src/extractive/IS1001c.story ... done [49.3 sec].\n",
            "Processing file /content/PreSumm/src/extractive/ES2016a.story ... writing to /content/PreSumm/src/ES2016a.story.out\n",
            "Annotating file /content/PreSumm/src/extractive/ES2016a.story ... done [46.9 sec].\n",
            "Processing file /content/PreSumm/src/extractive/TS3003b.story ... writing to /content/PreSumm/src/TS3003b.story.out\n",
            "Annotating file /content/PreSumm/src/extractive/TS3003b.story ... done [82.9 sec].\n",
            "Processing file /content/PreSumm/src/extractive/TS3011b.story ... writing to /content/PreSumm/src/TS3011b.story.out\n",
            "Annotating file /content/PreSumm/src/extractive/TS3011b.story ... done [88.6 sec].\n",
            "Processing file /content/PreSumm/src/extractive/TS3007a.story ... writing to /content/PreSumm/src/TS3007a.story.out\n",
            "Annotating file /content/PreSumm/src/extractive/TS3007a.story ... done [52.8 sec].\n",
            "Processing file /content/PreSumm/src/extractive/IS1007c.story ... writing to /content/PreSumm/src/IS1007c.story.out\n",
            "Annotating file /content/PreSumm/src/extractive/IS1007c.story ... done [104.4 sec].\n",
            "Processing file /content/PreSumm/src/extractive/TS3007d.story ... writing to /content/PreSumm/src/TS3007d.story.out\n",
            "Annotating file /content/PreSumm/src/extractive/TS3007d.story ... done [123.0 sec].\n",
            "Processing file /content/PreSumm/src/extractive/ES2007b.story ... writing to /content/PreSumm/src/ES2007b.story.out\n",
            "Annotating file /content/PreSumm/src/extractive/ES2007b.story ... done [63.9 sec].\n",
            "Processing file /content/PreSumm/src/extractive/ES2002b.story ... writing to /content/PreSumm/src/ES2002b.story.out\n",
            "Annotating file /content/PreSumm/src/extractive/ES2002b.story ... done [120.0 sec].\n",
            "Processing file /content/PreSumm/src/extractive/TS3004a.story ... writing to /content/PreSumm/src/TS3004a.story.out\n",
            "Annotating file /content/PreSumm/src/extractive/TS3004a.story ... done [54.8 sec].\n",
            "Processing file /content/PreSumm/src/extractive/ES2002d.story ... writing to /content/PreSumm/src/ES2002d.story.out\n",
            "Annotating file /content/PreSumm/src/extractive/ES2002d.story ... done [119.9 sec].\n",
            "Processing file /content/PreSumm/src/extractive/IS1003a.story ... writing to /content/PreSumm/src/IS1003a.story.out\n",
            "Annotating file /content/PreSumm/src/extractive/IS1003a.story ... done [23.3 sec].\n",
            "Processing file /content/PreSumm/src/extractive/ES2010c.story ... writing to /content/PreSumm/src/ES2010c.story.out\n",
            "Annotating file /content/PreSumm/src/extractive/ES2010c.story ... done [77.7 sec].\n",
            "Processing file /content/PreSumm/src/extractive/ES2006a.story ... writing to /content/PreSumm/src/ES2006a.story.out\n",
            "Annotating file /content/PreSumm/src/extractive/ES2006a.story ... done [44.9 sec].\n",
            "Processing file /content/PreSumm/src/extractive/ES2003a.story ... writing to /content/PreSumm/src/ES2003a.story.out\n",
            "Annotating file /content/PreSumm/src/extractive/ES2003a.story ... done [32.2 sec].\n",
            "Processing file /content/PreSumm/src/extractive/ES2005c.story ... writing to /content/PreSumm/src/ES2005c.story.out\n",
            "Annotating file /content/PreSumm/src/extractive/ES2005c.story ... done [100.3 sec].\n",
            "Processing file /content/PreSumm/src/extractive/IS1001b.story ... writing to /content/PreSumm/src/IS1001b.story.out\n",
            "Annotating file /content/PreSumm/src/extractive/IS1001b.story ... done [71.5 sec].\n",
            "Processing file /content/PreSumm/src/extractive/ES2002c.story ... writing to /content/PreSumm/src/ES2002c.story.out\n",
            "Annotating file /content/PreSumm/src/extractive/ES2002c.story ... done [119.0 sec].\n",
            "Processing file /content/PreSumm/src/extractive/TS3006a.story ... writing to /content/PreSumm/src/TS3006a.story.out\n",
            "Annotating file /content/PreSumm/src/extractive/TS3006a.story ... done [47.9 sec].\n",
            "Processing file /content/PreSumm/src/extractive/IS1006b.story ... writing to /content/PreSumm/src/IS1006b.story.out\n",
            "Annotating file /content/PreSumm/src/extractive/IS1006b.story ... done [94.6 sec].\n",
            "Processing file /content/PreSumm/src/extractive/TS3008d.story ... writing to /content/PreSumm/src/TS3008d.story.out\n",
            "Annotating file /content/PreSumm/src/extractive/TS3008d.story ... done [138.0 sec].\n",
            "Processing file /content/PreSumm/src/extractive/ES2014a.story ... writing to /content/PreSumm/src/ES2014a.story.out\n",
            "Annotating file /content/PreSumm/src/extractive/ES2014a.story ... done [34.4 sec].\n",
            "Processing file /content/PreSumm/src/extractive/ES2014b.story ... writing to /content/PreSumm/src/ES2014b.story.out\n",
            "Annotating file /content/PreSumm/src/extractive/ES2014b.story ... done [99.5 sec].\n",
            "Processing file /content/PreSumm/src/extractive/ES2008c.story ... writing to /content/PreSumm/src/ES2008c.story.out\n",
            "Annotating file /content/PreSumm/src/extractive/ES2008c.story ... done [102.0 sec].\n",
            "Processing file /content/PreSumm/src/extractive/ES2004d.story ... writing to /content/PreSumm/src/ES2004d.story.out\n",
            "Annotating file /content/PreSumm/src/extractive/ES2004d.story ... done [108.0 sec].\n",
            "Processing file /content/PreSumm/src/extractive/TS3010b.story ... writing to /content/PreSumm/src/TS3010b.story.out\n",
            "Annotating file /content/PreSumm/src/extractive/TS3010b.story ... done [69.7 sec].\n",
            "Processing file /content/PreSumm/src/extractive/TS3003a.story ... writing to /content/PreSumm/src/TS3003a.story.out\n",
            "Annotating file /content/PreSumm/src/extractive/TS3003a.story ... done [44.1 sec].\n",
            "Processing file /content/PreSumm/src/extractive/IS1005b.story ... writing to /content/PreSumm/src/IS1005b.story.out\n",
            "Annotating file /content/PreSumm/src/extractive/IS1005b.story ... done [78.6 sec].\n",
            "Processing file /content/PreSumm/src/extractive/ES2008a.story ... writing to /content/PreSumm/src/ES2008a.story.out\n",
            "Annotating file /content/PreSumm/src/extractive/ES2008a.story ... done [42.1 sec].\n",
            "Processing file /content/PreSumm/src/extractive/ES2009c.story ... writing to /content/PreSumm/src/ES2009c.story.out\n",
            "Annotating file /content/PreSumm/src/extractive/ES2009c.story ... done [102.2 sec].\n",
            "Processing file /content/PreSumm/src/extractive/IS1009c.story ... writing to /content/PreSumm/src/IS1009c.story.out\n",
            "Annotating file /content/PreSumm/src/extractive/IS1009c.story ... done [68.0 sec].\n",
            "Processing file /content/PreSumm/src/extractive/IS1003b.story ... writing to /content/PreSumm/src/IS1003b.story.out\n",
            "Annotating file /content/PreSumm/src/extractive/IS1003b.story ... done [64.0 sec].\n",
            "Processing file /content/PreSumm/src/extractive/ES2012a.story ... writing to /content/PreSumm/src/ES2012a.story.out\n",
            "Annotating file /content/PreSumm/src/extractive/ES2012a.story ... done [48.3 sec].\n",
            "Processing file /content/PreSumm/src/extractive/TS3009c.story ... writing to /content/PreSumm/src/TS3009c.story.out\n",
            "Annotating file /content/PreSumm/src/extractive/TS3009c.story ... done [94.7 sec].\n",
            "Processing file /content/PreSumm/src/extractive/ES2009b.story ... writing to /content/PreSumm/src/ES2009b.story.out\n",
            "Annotating file /content/PreSumm/src/extractive/ES2009b.story ... done [73.8 sec].\n",
            "Processing file /content/PreSumm/src/extractive/IS1001a.story ... writing to /content/PreSumm/src/IS1001a.story.out\n",
            "Annotating file /content/PreSumm/src/extractive/IS1001a.story ... done [27.8 sec].\n",
            "Processing file /content/PreSumm/src/extractive/ES2006b.story ... writing to /content/PreSumm/src/ES2006b.story.out\n",
            "Annotating file /content/PreSumm/src/extractive/ES2006b.story ... done [106.3 sec].\n",
            "Processing file /content/PreSumm/src/extractive/ES2009a.story ... writing to /content/PreSumm/src/ES2009a.story.out\n",
            "Annotating file /content/PreSumm/src/extractive/ES2009a.story ... done [64.2 sec].\n",
            "Processing file /content/PreSumm/src/extractive/IS1000c.story ... writing to /content/PreSumm/src/IS1000c.story.out\n",
            "Annotating file /content/PreSumm/src/extractive/IS1000c.story ... done [98.0 sec].\n",
            "Processing file /content/PreSumm/src/extractive/ES2002a.story ... writing to /content/PreSumm/src/ES2002a.story.out\n",
            "Annotating file /content/PreSumm/src/extractive/ES2002a.story ... done [38.4 sec].\n",
            "Processing file /content/PreSumm/src/extractive/ES2007d.story ... writing to /content/PreSumm/src/ES2007d.story.out\n",
            "Annotating file /content/PreSumm/src/extractive/ES2007d.story ... done [52.6 sec].\n",
            "Processing file /content/PreSumm/src/extractive/ES2012c.story ... writing to /content/PreSumm/src/ES2012c.story.out\n",
            "Annotating file /content/PreSumm/src/extractive/ES2012c.story ... done [108.6 sec].\n",
            "Processing file /content/PreSumm/src/extractive/TS3008c.story ... writing to /content/PreSumm/src/TS3008c.story.out\n",
            "Annotating file /content/PreSumm/src/extractive/TS3008c.story ... done [105.4 sec].\n",
            "\n",
            "Annotation pipeline timing information:\n",
            "TokenizerAnnotator: 4.1 sec.\n",
            "WordsToSentencesAnnotator: 1.3 sec.\n",
            "POSTaggerAnnotator: 113.0 sec.\n",
            "MorphaAnnotator: 5.0 sec.\n",
            "NERCombinerAnnotator: 4280.9 sec.\n",
            "DependencyParseAnnotator: 715.9 sec.\n",
            "CorefAnnotator: 5647.6 sec.\n",
            "KBPAnnotator: 74.4 sec.\n",
            "TOTAL: 10842.2 sec. for 1113166 tokens at 102.7 tokens/sec.\n",
            "Pipeline setup: 49.9 sec.\n",
            "Total time for StanfordCoreNLP pipeline: 10904.6 sec.\n"
          ],
          "name": "stdout"
        }
      ]
    },
    {
      "cell_type": "code",
      "metadata": {
        "id": "835TC8UURGvG"
      },
      "source": [
        "\n",
        "%load_ext autoreload\n",
        "\n",
        "%autoreload 2"
      ],
      "execution_count": 1,
      "outputs": []
    },
    {
      "cell_type": "code",
      "metadata": {
        "colab": {
          "base_uri": "https://localhost:8080/"
        },
        "id": "MILD_QVRRNmb",
        "outputId": "13144ac2-1398-4127-8770-4aad26e358fd"
      },
      "source": [
        "%cd drive/MyDrive/\n"
      ],
      "execution_count": 2,
      "outputs": [
        {
          "output_type": "stream",
          "text": [
            "/content/drive/MyDrive\n"
          ],
          "name": "stdout"
        }
      ]
    },
    {
      "cell_type": "code",
      "metadata": {
        "colab": {
          "base_uri": "https://localhost:8080/"
        },
        "id": "kxJQQkjqRjXV",
        "outputId": "c0ddf8b1-7e96-42c0-9cc1-7a6f6cc14ca7"
      },
      "source": [
        "!git clone https://github.com/daden-ms/BertSum.git"
      ],
      "execution_count": 3,
      "outputs": [
        {
          "output_type": "stream",
          "text": [
            "Cloning into 'BertSum'...\n",
            "remote: Enumerating objects: 439, done.\u001b[K\n",
            "remote: Total 439 (delta 0), reused 0 (delta 0), pack-reused 439\u001b[K\n",
            "Receiving objects: 100% (439/439), 15.05 MiB | 14.00 MiB/s, done.\n",
            "Resolving deltas: 100% (283/283), done.\n"
          ],
          "name": "stdout"
        }
      ]
    },
    {
      "cell_type": "code",
      "metadata": {
        "colab": {
          "base_uri": "https://localhost:8080/"
        },
        "id": "se-pZPjER8Dz",
        "outputId": "0ffe0a87-f3b1-45fb-9be9-022da02ab0d3"
      },
      "source": [
        "%cd BertSum"
      ],
      "execution_count": 4,
      "outputs": [
        {
          "output_type": "stream",
          "text": [
            "/content/drive/MyDrive/BertSum\n"
          ],
          "name": "stdout"
        }
      ]
    },
    {
      "cell_type": "code",
      "metadata": {
        "colab": {
          "base_uri": "https://localhost:8080/"
        },
        "id": "U8bRdfNaSwzI",
        "outputId": "b5972580-9edc-46e6-c03e-e9ca6cc2e61a"
      },
      "source": [
        ""
      ],
      "execution_count": 6,
      "outputs": [
        {
          "output_type": "stream",
          "text": [
            "Obtaining utils_nlp from git+https://github.com/microsoft/nlp-recipes.git@master#egg=utils_nlp\n",
            "  Cloning https://github.com/microsoft/nlp-recipes.git (to revision master) to ./src/utils-nlp\n",
            "  Running command git clone -q https://github.com/microsoft/nlp-recipes.git '/content/drive/My Drive/BertSum/src/utils-nlp'\n",
            "  Installing build dependencies ... \u001b[?25l\u001b[?25hdone\n",
            "  Getting requirements to build wheel ... \u001b[?25l\u001b[?25hdone\n",
            "    Preparing wheel metadata ... \u001b[?25l\u001b[?25hdone\n",
            "Installing collected packages: utils-nlp\n",
            "  Running setup.py develop for utils-nlp\n",
            "Successfully installed utils-nlp\n"
          ],
          "name": "stdout"
        }
      ]
    },
    {
      "cell_type": "code",
      "metadata": {
        "colab": {
          "base_uri": "https://localhost:8080/"
        },
        "id": "PxdezzWoTjR4",
        "outputId": "2751f6c1-d864-436d-dc4c-98357a8445de"
      },
      "source": [
        "!pip install jsonlines"
      ],
      "execution_count": 3,
      "outputs": [
        {
          "output_type": "stream",
          "text": [
            "Collecting jsonlines\n",
            "  Downloading https://files.pythonhosted.org/packages/d4/58/06f430ff7607a2929f80f07bfd820acbc508a4e977542fefcc522cde9dff/jsonlines-2.0.0-py3-none-any.whl\n",
            "Installing collected packages: jsonlines\n",
            "Successfully installed jsonlines-2.0.0\n"
          ],
          "name": "stdout"
        }
      ]
    },
    {
      "cell_type": "code",
      "metadata": {
        "colab": {
          "base_uri": "https://localhost:8080/"
        },
        "id": "cRN3ZrxbTzqE",
        "outputId": "cf2fd193-e5ae-47b9-a5fa-73c804722ef8"
      },
      "source": [
        "!pip install torch pytorch_transformers tensorboardX multiprocess pyrouge"
      ],
      "execution_count": 5,
      "outputs": [
        {
          "output_type": "stream",
          "text": [
            "Requirement already satisfied: torch in /usr/local/lib/python3.7/dist-packages (1.8.1+cu101)\n",
            "Collecting pytorch_transformers\n",
            "\u001b[?25l  Downloading https://files.pythonhosted.org/packages/a3/b7/d3d18008a67e0b968d1ab93ad444fc05699403fa662f634b2f2c318a508b/pytorch_transformers-1.2.0-py3-none-any.whl (176kB)\n",
            "\u001b[K     |████████████████████████████████| 184kB 21.1MB/s \n",
            "\u001b[?25hCollecting tensorboardX\n",
            "\u001b[?25l  Downloading https://files.pythonhosted.org/packages/07/84/46421bd3e0e89a92682b1a38b40efc22dafb6d8e3d947e4ceefd4a5fabc7/tensorboardX-2.2-py2.py3-none-any.whl (120kB)\n",
            "\u001b[K     |████████████████████████████████| 122kB 41.8MB/s \n",
            "\u001b[?25hRequirement already satisfied: multiprocess in /usr/local/lib/python3.7/dist-packages (0.70.11.1)\n",
            "Collecting pyrouge\n",
            "\u001b[?25l  Downloading https://files.pythonhosted.org/packages/11/85/e522dd6b36880ca19dcf7f262b22365748f56edc6f455e7b6a37d0382c32/pyrouge-0.1.3.tar.gz (60kB)\n",
            "\u001b[K     |████████████████████████████████| 61kB 9.7MB/s \n",
            "\u001b[?25hRequirement already satisfied: numpy in /usr/local/lib/python3.7/dist-packages (from torch) (1.19.5)\n",
            "Requirement already satisfied: typing-extensions in /usr/local/lib/python3.7/dist-packages (from torch) (3.7.4.3)\n",
            "Collecting sacremoses\n",
            "\u001b[?25l  Downloading https://files.pythonhosted.org/packages/75/ee/67241dc87f266093c533a2d4d3d69438e57d7a90abb216fa076e7d475d4a/sacremoses-0.0.45-py3-none-any.whl (895kB)\n",
            "\u001b[K     |████████████████████████████████| 901kB 55.8MB/s \n",
            "\u001b[?25hRequirement already satisfied: requests in /usr/local/lib/python3.7/dist-packages (from pytorch_transformers) (2.23.0)\n",
            "Requirement already satisfied: regex in /usr/local/lib/python3.7/dist-packages (from pytorch_transformers) (2019.12.20)\n",
            "Requirement already satisfied: tqdm in /usr/local/lib/python3.7/dist-packages (from pytorch_transformers) (4.41.1)\n",
            "Collecting sentencepiece\n",
            "\u001b[?25l  Downloading https://files.pythonhosted.org/packages/f5/99/e0808cb947ba10f575839c43e8fafc9cc44e4a7a2c8f79c60db48220a577/sentencepiece-0.1.95-cp37-cp37m-manylinux2014_x86_64.whl (1.2MB)\n",
            "\u001b[K     |████████████████████████████████| 1.2MB 51.7MB/s \n",
            "\u001b[?25hCollecting boto3\n",
            "\u001b[?25l  Downloading https://files.pythonhosted.org/packages/76/f2/52bf45246ad421cdd8c80a5c0f3e8f082e818d0467cde6aa8294258d1b4a/boto3-1.17.55-py2.py3-none-any.whl (131kB)\n",
            "\u001b[K     |████████████████████████████████| 133kB 59.8MB/s \n",
            "\u001b[?25hRequirement already satisfied: protobuf>=3.8.0 in /usr/local/lib/python3.7/dist-packages (from tensorboardX) (3.12.4)\n",
            "Requirement already satisfied: dill>=0.3.3 in /usr/local/lib/python3.7/dist-packages (from multiprocess) (0.3.3)\n",
            "Requirement already satisfied: joblib in /usr/local/lib/python3.7/dist-packages (from sacremoses->pytorch_transformers) (1.0.1)\n",
            "Requirement already satisfied: click in /usr/local/lib/python3.7/dist-packages (from sacremoses->pytorch_transformers) (7.1.2)\n",
            "Requirement already satisfied: six in /usr/local/lib/python3.7/dist-packages (from sacremoses->pytorch_transformers) (1.15.0)\n",
            "Requirement already satisfied: certifi>=2017.4.17 in /usr/local/lib/python3.7/dist-packages (from requests->pytorch_transformers) (2020.12.5)\n",
            "Requirement already satisfied: chardet<4,>=3.0.2 in /usr/local/lib/python3.7/dist-packages (from requests->pytorch_transformers) (3.0.4)\n",
            "Requirement already satisfied: idna<3,>=2.5 in /usr/local/lib/python3.7/dist-packages (from requests->pytorch_transformers) (2.10)\n",
            "Requirement already satisfied: urllib3!=1.25.0,!=1.25.1,<1.26,>=1.21.1 in /usr/local/lib/python3.7/dist-packages (from requests->pytorch_transformers) (1.24.3)\n",
            "Collecting botocore<1.21.0,>=1.20.55\n",
            "\u001b[?25l  Downloading https://files.pythonhosted.org/packages/c5/b0/d382d472989ce23bee0a36f8bd0c326d4694496611a7fe41fae51d71bf46/botocore-1.20.55-py2.py3-none-any.whl (7.4MB)\n",
            "\u001b[K     |████████████████████████████████| 7.4MB 51.1MB/s \n",
            "\u001b[?25hCollecting jmespath<1.0.0,>=0.7.1\n",
            "  Downloading https://files.pythonhosted.org/packages/07/cb/5f001272b6faeb23c1c9e0acc04d48eaaf5c862c17709d20e3469c6e0139/jmespath-0.10.0-py2.py3-none-any.whl\n",
            "Collecting s3transfer<0.5.0,>=0.4.0\n",
            "\u001b[?25l  Downloading https://files.pythonhosted.org/packages/95/95/91a1b99e4ef46bb915167b04aa26aec74dad5356d13d487a90f7d22994ee/s3transfer-0.4.1-py2.py3-none-any.whl (79kB)\n",
            "\u001b[K     |████████████████████████████████| 81kB 12.1MB/s \n",
            "\u001b[?25hRequirement already satisfied: setuptools in /usr/local/lib/python3.7/dist-packages (from protobuf>=3.8.0->tensorboardX) (54.2.0)\n",
            "Requirement already satisfied: python-dateutil<3.0.0,>=2.1 in /usr/local/lib/python3.7/dist-packages (from botocore<1.21.0,>=1.20.55->boto3->pytorch_transformers) (2.8.1)\n",
            "Building wheels for collected packages: pyrouge\n",
            "  Building wheel for pyrouge (setup.py) ... \u001b[?25l\u001b[?25hdone\n",
            "  Created wheel for pyrouge: filename=pyrouge-0.1.3-cp37-none-any.whl size=191613 sha256=868b52f6f0dc7fed5e6a7718798ee36735ada9832caf2803d8375f9f0ec5dae6\n",
            "  Stored in directory: /root/.cache/pip/wheels/75/d3/0c/e5b04e15b6b87c42e980de3931d2686e14d36e045058983599\n",
            "Successfully built pyrouge\n",
            "\u001b[31mERROR: botocore 1.20.55 has requirement urllib3<1.27,>=1.25.4, but you'll have urllib3 1.24.3 which is incompatible.\u001b[0m\n",
            "Installing collected packages: sacremoses, sentencepiece, jmespath, botocore, s3transfer, boto3, pytorch-transformers, tensorboardX, pyrouge\n",
            "Successfully installed boto3-1.17.55 botocore-1.20.55 jmespath-0.10.0 pyrouge-0.1.3 pytorch-transformers-1.2.0 s3transfer-0.4.1 sacremoses-0.0.45 sentencepiece-0.1.95 tensorboardX-2.2\n"
          ],
          "name": "stdout"
        }
      ]
    },
    {
      "cell_type": "code",
      "metadata": {
        "colab": {
          "base_uri": "https://localhost:8080/"
        },
        "id": "f3NLojLJUUPF",
        "outputId": "3892c1f6-807b-44e6-f76d-98a47b0633e1"
      },
      "source": [
        "pip install rouge"
      ],
      "execution_count": 7,
      "outputs": [
        {
          "output_type": "stream",
          "text": [
            "Collecting rouge\n",
            "  Downloading https://files.pythonhosted.org/packages/43/cc/e18e33be20971ff73a056ebdb023476b5a545e744e3fc22acd8c758f1e0d/rouge-1.0.0-py3-none-any.whl\n",
            "Requirement already satisfied: six in /usr/local/lib/python3.7/dist-packages (from rouge) (1.15.0)\n",
            "Installing collected packages: rouge\n",
            "Successfully installed rouge-1.0.0\n"
          ],
          "name": "stdout"
        }
      ]
    },
    {
      "cell_type": "code",
      "metadata": {
        "colab": {
          "base_uri": "https://localhost:8080/"
        },
        "id": "SzdyVnhuUm6b",
        "outputId": "efed31f4-ee0e-41b9-da39-b68d40010f17"
      },
      "source": [
        "\n",
        "!pip install indic-nlp-library\n"
      ],
      "execution_count": 10,
      "outputs": [
        {
          "output_type": "stream",
          "text": [
            "Collecting indic-nlp-library\n",
            "  Downloading https://files.pythonhosted.org/packages/2f/51/f4e4542a226055b73a621ad442c16ae2c913d6b497283c99cae7a9661e6c/indic_nlp_library-0.71-py3-none-any.whl\n",
            "Collecting morfessor\n",
            "  Downloading https://files.pythonhosted.org/packages/39/e6/7afea30be2ee4d29ce9de0fa53acbb033163615f849515c0b1956ad074ee/Morfessor-2.0.6-py3-none-any.whl\n",
            "Requirement already satisfied: numpy in /usr/local/lib/python3.7/dist-packages (from indic-nlp-library) (1.19.5)\n",
            "Requirement already satisfied: pandas in /usr/local/lib/python3.7/dist-packages (from indic-nlp-library) (1.1.5)\n",
            "Requirement already satisfied: python-dateutil>=2.7.3 in /usr/local/lib/python3.7/dist-packages (from pandas->indic-nlp-library) (2.8.1)\n",
            "Requirement already satisfied: pytz>=2017.2 in /usr/local/lib/python3.7/dist-packages (from pandas->indic-nlp-library) (2018.9)\n",
            "Requirement already satisfied: six>=1.5 in /usr/local/lib/python3.7/dist-packages (from python-dateutil>=2.7.3->pandas->indic-nlp-library) (1.15.0)\n",
            "Installing collected packages: morfessor, indic-nlp-library\n",
            "Successfully installed indic-nlp-library-0.71 morfessor-2.0.6\n"
          ],
          "name": "stdout"
        }
      ]
    },
    {
      "cell_type": "code",
      "metadata": {
        "colab": {
          "base_uri": "https://localhost:8080/"
        },
        "id": "SUwabflVVrWq",
        "outputId": "43acafb4-115a-4f49-978b-9b450e5102a8"
      },
      "source": [
        "!pip install transformers"
      ],
      "execution_count": 12,
      "outputs": [
        {
          "output_type": "stream",
          "text": [
            "Collecting transformers\n",
            "\u001b[?25l  Downloading https://files.pythonhosted.org/packages/d8/b2/57495b5309f09fa501866e225c84532d1fd89536ea62406b2181933fb418/transformers-4.5.1-py3-none-any.whl (2.1MB)\n",
            "\r\u001b[K     |▏                               | 10kB 19.7MB/s eta 0:00:01\r\u001b[K     |▎                               | 20kB 26.1MB/s eta 0:00:01\r\u001b[K     |▌                               | 30kB 21.6MB/s eta 0:00:01\r\u001b[K     |▋                               | 40kB 24.0MB/s eta 0:00:01\r\u001b[K     |▉                               | 51kB 24.3MB/s eta 0:00:01\r\u001b[K     |█                               | 61kB 17.1MB/s eta 0:00:01\r\u001b[K     |█▏                              | 71kB 17.5MB/s eta 0:00:01\r\u001b[K     |█▎                              | 81kB 18.7MB/s eta 0:00:01\r\u001b[K     |█▍                              | 92kB 17.6MB/s eta 0:00:01\r\u001b[K     |█▋                              | 102kB 17.3MB/s eta 0:00:01\r\u001b[K     |█▊                              | 112kB 17.3MB/s eta 0:00:01\r\u001b[K     |██                              | 122kB 17.3MB/s eta 0:00:01\r\u001b[K     |██                              | 133kB 17.3MB/s eta 0:00:01\r\u001b[K     |██▎                             | 143kB 17.3MB/s eta 0:00:01\r\u001b[K     |██▍                             | 153kB 17.3MB/s eta 0:00:01\r\u001b[K     |██▌                             | 163kB 17.3MB/s eta 0:00:01\r\u001b[K     |██▊                             | 174kB 17.3MB/s eta 0:00:01\r\u001b[K     |██▉                             | 184kB 17.3MB/s eta 0:00:01\r\u001b[K     |███                             | 194kB 17.3MB/s eta 0:00:01\r\u001b[K     |███▏                            | 204kB 17.3MB/s eta 0:00:01\r\u001b[K     |███▍                            | 215kB 17.3MB/s eta 0:00:01\r\u001b[K     |███▌                            | 225kB 17.3MB/s eta 0:00:01\r\u001b[K     |███▋                            | 235kB 17.3MB/s eta 0:00:01\r\u001b[K     |███▉                            | 245kB 17.3MB/s eta 0:00:01\r\u001b[K     |████                            | 256kB 17.3MB/s eta 0:00:01\r\u001b[K     |████▏                           | 266kB 17.3MB/s eta 0:00:01\r\u001b[K     |████▎                           | 276kB 17.3MB/s eta 0:00:01\r\u001b[K     |████▌                           | 286kB 17.3MB/s eta 0:00:01\r\u001b[K     |████▋                           | 296kB 17.3MB/s eta 0:00:01\r\u001b[K     |████▊                           | 307kB 17.3MB/s eta 0:00:01\r\u001b[K     |█████                           | 317kB 17.3MB/s eta 0:00:01\r\u001b[K     |█████                           | 327kB 17.3MB/s eta 0:00:01\r\u001b[K     |█████▎                          | 337kB 17.3MB/s eta 0:00:01\r\u001b[K     |█████▍                          | 348kB 17.3MB/s eta 0:00:01\r\u001b[K     |█████▋                          | 358kB 17.3MB/s eta 0:00:01\r\u001b[K     |█████▊                          | 368kB 17.3MB/s eta 0:00:01\r\u001b[K     |█████▉                          | 378kB 17.3MB/s eta 0:00:01\r\u001b[K     |██████                          | 389kB 17.3MB/s eta 0:00:01\r\u001b[K     |██████▏                         | 399kB 17.3MB/s eta 0:00:01\r\u001b[K     |██████▍                         | 409kB 17.3MB/s eta 0:00:01\r\u001b[K     |██████▌                         | 419kB 17.3MB/s eta 0:00:01\r\u001b[K     |██████▊                         | 430kB 17.3MB/s eta 0:00:01\r\u001b[K     |██████▉                         | 440kB 17.3MB/s eta 0:00:01\r\u001b[K     |███████                         | 450kB 17.3MB/s eta 0:00:01\r\u001b[K     |███████▏                        | 460kB 17.3MB/s eta 0:00:01\r\u001b[K     |███████▎                        | 471kB 17.3MB/s eta 0:00:01\r\u001b[K     |███████▌                        | 481kB 17.3MB/s eta 0:00:01\r\u001b[K     |███████▋                        | 491kB 17.3MB/s eta 0:00:01\r\u001b[K     |███████▉                        | 501kB 17.3MB/s eta 0:00:01\r\u001b[K     |████████                        | 512kB 17.3MB/s eta 0:00:01\r\u001b[K     |████████                        | 522kB 17.3MB/s eta 0:00:01\r\u001b[K     |████████▎                       | 532kB 17.3MB/s eta 0:00:01\r\u001b[K     |████████▍                       | 542kB 17.3MB/s eta 0:00:01\r\u001b[K     |████████▋                       | 552kB 17.3MB/s eta 0:00:01\r\u001b[K     |████████▊                       | 563kB 17.3MB/s eta 0:00:01\r\u001b[K     |█████████                       | 573kB 17.3MB/s eta 0:00:01\r\u001b[K     |█████████                       | 583kB 17.3MB/s eta 0:00:01\r\u001b[K     |█████████▎                      | 593kB 17.3MB/s eta 0:00:01\r\u001b[K     |█████████▍                      | 604kB 17.3MB/s eta 0:00:01\r\u001b[K     |█████████▌                      | 614kB 17.3MB/s eta 0:00:01\r\u001b[K     |█████████▊                      | 624kB 17.3MB/s eta 0:00:01\r\u001b[K     |█████████▉                      | 634kB 17.3MB/s eta 0:00:01\r\u001b[K     |██████████                      | 645kB 17.3MB/s eta 0:00:01\r\u001b[K     |██████████▏                     | 655kB 17.3MB/s eta 0:00:01\r\u001b[K     |██████████▍                     | 665kB 17.3MB/s eta 0:00:01\r\u001b[K     |██████████▌                     | 675kB 17.3MB/s eta 0:00:01\r\u001b[K     |██████████▋                     | 686kB 17.3MB/s eta 0:00:01\r\u001b[K     |██████████▉                     | 696kB 17.3MB/s eta 0:00:01\r\u001b[K     |███████████                     | 706kB 17.3MB/s eta 0:00:01\r\u001b[K     |███████████▏                    | 716kB 17.3MB/s eta 0:00:01\r\u001b[K     |███████████▎                    | 727kB 17.3MB/s eta 0:00:01\r\u001b[K     |███████████▌                    | 737kB 17.3MB/s eta 0:00:01\r\u001b[K     |███████████▋                    | 747kB 17.3MB/s eta 0:00:01\r\u001b[K     |███████████▊                    | 757kB 17.3MB/s eta 0:00:01\r\u001b[K     |████████████                    | 768kB 17.3MB/s eta 0:00:01\r\u001b[K     |████████████                    | 778kB 17.3MB/s eta 0:00:01\r\u001b[K     |████████████▎                   | 788kB 17.3MB/s eta 0:00:01\r\u001b[K     |████████████▍                   | 798kB 17.3MB/s eta 0:00:01\r\u001b[K     |████████████▋                   | 808kB 17.3MB/s eta 0:00:01\r\u001b[K     |████████████▊                   | 819kB 17.3MB/s eta 0:00:01\r\u001b[K     |████████████▉                   | 829kB 17.3MB/s eta 0:00:01\r\u001b[K     |█████████████                   | 839kB 17.3MB/s eta 0:00:01\r\u001b[K     |█████████████▏                  | 849kB 17.3MB/s eta 0:00:01\r\u001b[K     |█████████████▍                  | 860kB 17.3MB/s eta 0:00:01\r\u001b[K     |█████████████▌                  | 870kB 17.3MB/s eta 0:00:01\r\u001b[K     |█████████████▊                  | 880kB 17.3MB/s eta 0:00:01\r\u001b[K     |█████████████▉                  | 890kB 17.3MB/s eta 0:00:01\r\u001b[K     |██████████████                  | 901kB 17.3MB/s eta 0:00:01\r\u001b[K     |██████████████▏                 | 911kB 17.3MB/s eta 0:00:01\r\u001b[K     |██████████████▎                 | 921kB 17.3MB/s eta 0:00:01\r\u001b[K     |██████████████▌                 | 931kB 17.3MB/s eta 0:00:01\r\u001b[K     |██████████████▋                 | 942kB 17.3MB/s eta 0:00:01\r\u001b[K     |██████████████▉                 | 952kB 17.3MB/s eta 0:00:01\r\u001b[K     |███████████████                 | 962kB 17.3MB/s eta 0:00:01\r\u001b[K     |███████████████                 | 972kB 17.3MB/s eta 0:00:01\r\u001b[K     |███████████████▎                | 983kB 17.3MB/s eta 0:00:01\r\u001b[K     |███████████████▍                | 993kB 17.3MB/s eta 0:00:01\r\u001b[K     |███████████████▋                | 1.0MB 17.3MB/s eta 0:00:01\r\u001b[K     |███████████████▊                | 1.0MB 17.3MB/s eta 0:00:01\r\u001b[K     |████████████████                | 1.0MB 17.3MB/s eta 0:00:01\r\u001b[K     |████████████████                | 1.0MB 17.3MB/s eta 0:00:01\r\u001b[K     |████████████████▏               | 1.0MB 17.3MB/s eta 0:00:01\r\u001b[K     |████████████████▍               | 1.1MB 17.3MB/s eta 0:00:01\r\u001b[K     |████████████████▌               | 1.1MB 17.3MB/s eta 0:00:01\r\u001b[K     |████████████████▊               | 1.1MB 17.3MB/s eta 0:00:01\r\u001b[K     |████████████████▉               | 1.1MB 17.3MB/s eta 0:00:01\r\u001b[K     |█████████████████               | 1.1MB 17.3MB/s eta 0:00:01\r\u001b[K     |█████████████████▏              | 1.1MB 17.3MB/s eta 0:00:01\r\u001b[K     |█████████████████▍              | 1.1MB 17.3MB/s eta 0:00:01\r\u001b[K     |█████████████████▌              | 1.1MB 17.3MB/s eta 0:00:01\r\u001b[K     |█████████████████▋              | 1.1MB 17.3MB/s eta 0:00:01\r\u001b[K     |█████████████████▉              | 1.1MB 17.3MB/s eta 0:00:01\r\u001b[K     |██████████████████              | 1.2MB 17.3MB/s eta 0:00:01\r\u001b[K     |██████████████████▏             | 1.2MB 17.3MB/s eta 0:00:01\r\u001b[K     |██████████████████▎             | 1.2MB 17.3MB/s eta 0:00:01\r\u001b[K     |██████████████████▌             | 1.2MB 17.3MB/s eta 0:00:01\r\u001b[K     |██████████████████▋             | 1.2MB 17.3MB/s eta 0:00:01\r\u001b[K     |██████████████████▊             | 1.2MB 17.3MB/s eta 0:00:01\r\u001b[K     |███████████████████             | 1.2MB 17.3MB/s eta 0:00:01\r\u001b[K     |███████████████████             | 1.2MB 17.3MB/s eta 0:00:01\r\u001b[K     |███████████████████▎            | 1.2MB 17.3MB/s eta 0:00:01\r\u001b[K     |███████████████████▍            | 1.2MB 17.3MB/s eta 0:00:01\r\u001b[K     |███████████████████▋            | 1.3MB 17.3MB/s eta 0:00:01\r\u001b[K     |███████████████████▊            | 1.3MB 17.3MB/s eta 0:00:01\r\u001b[K     |███████████████████▉            | 1.3MB 17.3MB/s eta 0:00:01\r\u001b[K     |████████████████████            | 1.3MB 17.3MB/s eta 0:00:01\r\u001b[K     |████████████████████▏           | 1.3MB 17.3MB/s eta 0:00:01\r\u001b[K     |████████████████████▍           | 1.3MB 17.3MB/s eta 0:00:01\r\u001b[K     |████████████████████▌           | 1.3MB 17.3MB/s eta 0:00:01\r\u001b[K     |████████████████████▊           | 1.3MB 17.3MB/s eta 0:00:01\r\u001b[K     |████████████████████▉           | 1.3MB 17.3MB/s eta 0:00:01\r\u001b[K     |█████████████████████           | 1.4MB 17.3MB/s eta 0:00:01\r\u001b[K     |█████████████████████▏          | 1.4MB 17.3MB/s eta 0:00:01\r\u001b[K     |█████████████████████▎          | 1.4MB 17.3MB/s eta 0:00:01\r\u001b[K     |█████████████████████▌          | 1.4MB 17.3MB/s eta 0:00:01\r\u001b[K     |█████████████████████▋          | 1.4MB 17.3MB/s eta 0:00:01\r\u001b[K     |█████████████████████▉          | 1.4MB 17.3MB/s eta 0:00:01\r\u001b[K     |██████████████████████          | 1.4MB 17.3MB/s eta 0:00:01\r\u001b[K     |██████████████████████          | 1.4MB 17.3MB/s eta 0:00:01\r\u001b[K     |██████████████████████▎         | 1.4MB 17.3MB/s eta 0:00:01\r\u001b[K     |██████████████████████▍         | 1.4MB 17.3MB/s eta 0:00:01\r\u001b[K     |██████████████████████▋         | 1.5MB 17.3MB/s eta 0:00:01\r\u001b[K     |██████████████████████▊         | 1.5MB 17.3MB/s eta 0:00:01\r\u001b[K     |███████████████████████         | 1.5MB 17.3MB/s eta 0:00:01\r\u001b[K     |███████████████████████         | 1.5MB 17.3MB/s eta 0:00:01\r\u001b[K     |███████████████████████▏        | 1.5MB 17.3MB/s eta 0:00:01\r\u001b[K     |███████████████████████▍        | 1.5MB 17.3MB/s eta 0:00:01\r\u001b[K     |███████████████████████▌        | 1.5MB 17.3MB/s eta 0:00:01\r\u001b[K     |███████████████████████▊        | 1.5MB 17.3MB/s eta 0:00:01\r\u001b[K     |███████████████████████▉        | 1.5MB 17.3MB/s eta 0:00:01\r\u001b[K     |████████████████████████        | 1.5MB 17.3MB/s eta 0:00:01\r\u001b[K     |████████████████████████▏       | 1.6MB 17.3MB/s eta 0:00:01\r\u001b[K     |████████████████████████▎       | 1.6MB 17.3MB/s eta 0:00:01\r\u001b[K     |████████████████████████▌       | 1.6MB 17.3MB/s eta 0:00:01\r\u001b[K     |████████████████████████▋       | 1.6MB 17.3MB/s eta 0:00:01\r\u001b[K     |████████████████████████▉       | 1.6MB 17.3MB/s eta 0:00:01\r\u001b[K     |█████████████████████████       | 1.6MB 17.3MB/s eta 0:00:01\r\u001b[K     |█████████████████████████▏      | 1.6MB 17.3MB/s eta 0:00:01\r\u001b[K     |█████████████████████████▎      | 1.6MB 17.3MB/s eta 0:00:01\r\u001b[K     |█████████████████████████▍      | 1.6MB 17.3MB/s eta 0:00:01\r\u001b[K     |█████████████████████████▋      | 1.6MB 17.3MB/s eta 0:00:01\r\u001b[K     |█████████████████████████▊      | 1.7MB 17.3MB/s eta 0:00:01\r\u001b[K     |██████████████████████████      | 1.7MB 17.3MB/s eta 0:00:01\r\u001b[K     |██████████████████████████      | 1.7MB 17.3MB/s eta 0:00:01\r\u001b[K     |██████████████████████████▎     | 1.7MB 17.3MB/s eta 0:00:01\r\u001b[K     |██████████████████████████▍     | 1.7MB 17.3MB/s eta 0:00:01\r\u001b[K     |██████████████████████████▋     | 1.7MB 17.3MB/s eta 0:00:01\r\u001b[K     |██████████████████████████▊     | 1.7MB 17.3MB/s eta 0:00:01\r\u001b[K     |██████████████████████████▉     | 1.7MB 17.3MB/s eta 0:00:01\r\u001b[K     |███████████████████████████     | 1.7MB 17.3MB/s eta 0:00:01\r\u001b[K     |███████████████████████████▏    | 1.8MB 17.3MB/s eta 0:00:01\r\u001b[K     |███████████████████████████▍    | 1.8MB 17.3MB/s eta 0:00:01\r\u001b[K     |███████████████████████████▌    | 1.8MB 17.3MB/s eta 0:00:01\r\u001b[K     |███████████████████████████▊    | 1.8MB 17.3MB/s eta 0:00:01\r\u001b[K     |███████████████████████████▉    | 1.8MB 17.3MB/s eta 0:00:01\r\u001b[K     |████████████████████████████    | 1.8MB 17.3MB/s eta 0:00:01\r\u001b[K     |████████████████████████████▏   | 1.8MB 17.3MB/s eta 0:00:01\r\u001b[K     |████████████████████████████▎   | 1.8MB 17.3MB/s eta 0:00:01\r\u001b[K     |████████████████████████████▌   | 1.8MB 17.3MB/s eta 0:00:01\r\u001b[K     |████████████████████████████▋   | 1.8MB 17.3MB/s eta 0:00:01\r\u001b[K     |████████████████████████████▉   | 1.9MB 17.3MB/s eta 0:00:01\r\u001b[K     |█████████████████████████████   | 1.9MB 17.3MB/s eta 0:00:01\r\u001b[K     |█████████████████████████████   | 1.9MB 17.3MB/s eta 0:00:01\r\u001b[K     |█████████████████████████████▎  | 1.9MB 17.3MB/s eta 0:00:01\r\u001b[K     |█████████████████████████████▍  | 1.9MB 17.3MB/s eta 0:00:01\r\u001b[K     |█████████████████████████████▋  | 1.9MB 17.3MB/s eta 0:00:01\r\u001b[K     |█████████████████████████████▊  | 1.9MB 17.3MB/s eta 0:00:01\r\u001b[K     |██████████████████████████████  | 1.9MB 17.3MB/s eta 0:00:01\r\u001b[K     |██████████████████████████████  | 1.9MB 17.3MB/s eta 0:00:01\r\u001b[K     |██████████████████████████████▏ | 1.9MB 17.3MB/s eta 0:00:01\r\u001b[K     |██████████████████████████████▍ | 2.0MB 17.3MB/s eta 0:00:01\r\u001b[K     |██████████████████████████████▌ | 2.0MB 17.3MB/s eta 0:00:01\r\u001b[K     |██████████████████████████████▊ | 2.0MB 17.3MB/s eta 0:00:01\r\u001b[K     |██████████████████████████████▉ | 2.0MB 17.3MB/s eta 0:00:01\r\u001b[K     |███████████████████████████████ | 2.0MB 17.3MB/s eta 0:00:01\r\u001b[K     |███████████████████████████████▏| 2.0MB 17.3MB/s eta 0:00:01\r\u001b[K     |███████████████████████████████▎| 2.0MB 17.3MB/s eta 0:00:01\r\u001b[K     |███████████████████████████████▌| 2.0MB 17.3MB/s eta 0:00:01\r\u001b[K     |███████████████████████████████▋| 2.0MB 17.3MB/s eta 0:00:01\r\u001b[K     |███████████████████████████████▉| 2.0MB 17.3MB/s eta 0:00:01\r\u001b[K     |████████████████████████████████| 2.1MB 17.3MB/s eta 0:00:01\r\u001b[K     |████████████████████████████████| 2.1MB 17.3MB/s \n",
            "\u001b[?25hRequirement already satisfied: packaging in /usr/local/lib/python3.7/dist-packages (from transformers) (20.9)\n",
            "Requirement already satisfied: numpy>=1.17 in /usr/local/lib/python3.7/dist-packages (from transformers) (1.19.5)\n",
            "Requirement already satisfied: filelock in /usr/local/lib/python3.7/dist-packages (from transformers) (3.0.12)\n",
            "Requirement already satisfied: requests in /usr/local/lib/python3.7/dist-packages (from transformers) (2.23.0)\n",
            "Requirement already satisfied: importlib-metadata; python_version < \"3.8\" in /usr/local/lib/python3.7/dist-packages (from transformers) (3.10.1)\n",
            "Collecting tokenizers<0.11,>=0.10.1\n",
            "\u001b[?25l  Downloading https://files.pythonhosted.org/packages/ae/04/5b870f26a858552025a62f1649c20d29d2672c02ff3c3fb4c688ca46467a/tokenizers-0.10.2-cp37-cp37m-manylinux2010_x86_64.whl (3.3MB)\n",
            "\u001b[K     |████████████████████████████████| 3.3MB 49.2MB/s \n",
            "\u001b[?25hRequirement already satisfied: regex!=2019.12.17 in /usr/local/lib/python3.7/dist-packages (from transformers) (2019.12.20)\n",
            "Requirement already satisfied: sacremoses in /usr/local/lib/python3.7/dist-packages (from transformers) (0.0.45)\n",
            "Requirement already satisfied: tqdm>=4.27 in /usr/local/lib/python3.7/dist-packages (from transformers) (4.41.1)\n",
            "Requirement already satisfied: pyparsing>=2.0.2 in /usr/local/lib/python3.7/dist-packages (from packaging->transformers) (2.4.7)\n",
            "Requirement already satisfied: chardet<4,>=3.0.2 in /usr/local/lib/python3.7/dist-packages (from requests->transformers) (3.0.4)\n",
            "Requirement already satisfied: certifi>=2017.4.17 in /usr/local/lib/python3.7/dist-packages (from requests->transformers) (2020.12.5)\n",
            "Requirement already satisfied: urllib3!=1.25.0,!=1.25.1,<1.26,>=1.21.1 in /usr/local/lib/python3.7/dist-packages (from requests->transformers) (1.24.3)\n",
            "Requirement already satisfied: idna<3,>=2.5 in /usr/local/lib/python3.7/dist-packages (from requests->transformers) (2.10)\n",
            "Requirement already satisfied: typing-extensions>=3.6.4; python_version < \"3.8\" in /usr/local/lib/python3.7/dist-packages (from importlib-metadata; python_version < \"3.8\"->transformers) (3.7.4.3)\n",
            "Requirement already satisfied: zipp>=0.5 in /usr/local/lib/python3.7/dist-packages (from importlib-metadata; python_version < \"3.8\"->transformers) (3.4.1)\n",
            "Requirement already satisfied: click in /usr/local/lib/python3.7/dist-packages (from sacremoses->transformers) (7.1.2)\n",
            "Requirement already satisfied: six in /usr/local/lib/python3.7/dist-packages (from sacremoses->transformers) (1.15.0)\n",
            "Requirement already satisfied: joblib in /usr/local/lib/python3.7/dist-packages (from sacremoses->transformers) (1.0.1)\n",
            "Installing collected packages: tokenizers, transformers\n",
            "Successfully installed tokenizers-0.10.2 transformers-4.5.1\n"
          ],
          "name": "stdout"
        }
      ]
    },
    {
      "cell_type": "code",
      "metadata": {
        "colab": {
          "base_uri": "https://localhost:8080/",
          "height": 1000
        },
        "id": "TMMU50FrW2km",
        "outputId": "187712ba-c7ea-4730-9aec-3e062896ead1"
      },
      "source": [
        "!pip install scrapbook"
      ],
      "execution_count": 14,
      "outputs": [
        {
          "output_type": "stream",
          "text": [
            "Collecting scrapbook\n",
            "  Downloading https://files.pythonhosted.org/packages/27/dc/68f9c96997dffbf3632bebe0d88077a519aa2a74585834e84d6690243825/scrapbook-0.5.0-py3-none-any.whl\n",
            "Requirement already satisfied: ipython in /usr/local/lib/python3.7/dist-packages (from scrapbook) (5.5.0)\n",
            "Requirement already satisfied: jsonschema in /usr/local/lib/python3.7/dist-packages (from scrapbook) (2.6.0)\n",
            "Requirement already satisfied: pyarrow in /usr/local/lib/python3.7/dist-packages (from scrapbook) (3.0.0)\n",
            "Collecting papermill\n",
            "  Downloading https://files.pythonhosted.org/packages/ec/3b/55dbb2017142340a57937f1fad78c7d9373552540b42740e37fd6c40d761/papermill-2.3.3-py3-none-any.whl\n",
            "Requirement already satisfied: pandas in /usr/local/lib/python3.7/dist-packages (from scrapbook) (1.1.5)\n",
            "Requirement already satisfied: prompt-toolkit<2.0.0,>=1.0.4 in /usr/local/lib/python3.7/dist-packages (from ipython->scrapbook) (1.0.18)\n",
            "Requirement already satisfied: decorator in /usr/local/lib/python3.7/dist-packages (from ipython->scrapbook) (4.4.2)\n",
            "Requirement already satisfied: pexpect; sys_platform != \"win32\" in /usr/local/lib/python3.7/dist-packages (from ipython->scrapbook) (4.8.0)\n",
            "Requirement already satisfied: pygments in /usr/local/lib/python3.7/dist-packages (from ipython->scrapbook) (2.6.1)\n",
            "Requirement already satisfied: simplegeneric>0.8 in /usr/local/lib/python3.7/dist-packages (from ipython->scrapbook) (0.8.1)\n",
            "Requirement already satisfied: setuptools>=18.5 in /usr/local/lib/python3.7/dist-packages (from ipython->scrapbook) (54.2.0)\n",
            "Requirement already satisfied: traitlets>=4.2 in /usr/local/lib/python3.7/dist-packages (from ipython->scrapbook) (5.0.5)\n",
            "Requirement already satisfied: pickleshare in /usr/local/lib/python3.7/dist-packages (from ipython->scrapbook) (0.7.5)\n",
            "Requirement already satisfied: numpy>=1.16.6 in /usr/local/lib/python3.7/dist-packages (from pyarrow->scrapbook) (1.19.5)\n",
            "Collecting black\n",
            "\u001b[?25l  Downloading https://files.pythonhosted.org/packages/dc/7b/5a6bbe89de849f28d7c109f5ea87b65afa5124ad615f3419e71beb29dc96/black-20.8b1.tar.gz (1.1MB)\n",
            "\u001b[K     |████████████████████████████████| 1.1MB 15.2MB/s \n",
            "\u001b[?25h  Installing build dependencies ... \u001b[?25l\u001b[?25hdone\n",
            "  Getting requirements to build wheel ... \u001b[?25l\u001b[?25hdone\n",
            "    Preparing wheel metadata ... \u001b[?25l\u001b[?25hdone\n",
            "Requirement already satisfied: tqdm>=4.32.2 in /usr/local/lib/python3.7/dist-packages (from papermill->scrapbook) (4.41.1)\n",
            "Requirement already satisfied: nbformat>=5.1.2 in /usr/local/lib/python3.7/dist-packages (from papermill->scrapbook) (5.1.3)\n",
            "Requirement already satisfied: nbclient>=0.2.0 in /usr/local/lib/python3.7/dist-packages (from papermill->scrapbook) (0.5.3)\n",
            "Collecting tenacity\n",
            "  Downloading https://files.pythonhosted.org/packages/41/ee/d6eddff86161c6a3a1753af4a66b06cbc508d3b77ca4698cd0374cd66531/tenacity-7.0.0-py2.py3-none-any.whl\n",
            "Requirement already satisfied: requests in /usr/local/lib/python3.7/dist-packages (from papermill->scrapbook) (2.23.0)\n",
            "Collecting ansiwrap\n",
            "  Downloading https://files.pythonhosted.org/packages/03/50/43e775a63e0d632d9be3b3fa1c9b2cbaf3b7870d203655710a3426f47c26/ansiwrap-0.8.4-py2.py3-none-any.whl\n",
            "Requirement already satisfied: click in /usr/local/lib/python3.7/dist-packages (from papermill->scrapbook) (7.1.2)\n",
            "Requirement already satisfied: entrypoints in /usr/local/lib/python3.7/dist-packages (from papermill->scrapbook) (0.3)\n",
            "Requirement already satisfied: pyyaml in /usr/local/lib/python3.7/dist-packages (from papermill->scrapbook) (3.13)\n",
            "Requirement already satisfied: python-dateutil>=2.7.3 in /usr/local/lib/python3.7/dist-packages (from pandas->scrapbook) (2.8.1)\n",
            "Requirement already satisfied: pytz>=2017.2 in /usr/local/lib/python3.7/dist-packages (from pandas->scrapbook) (2018.9)\n",
            "Requirement already satisfied: wcwidth in /usr/local/lib/python3.7/dist-packages (from prompt-toolkit<2.0.0,>=1.0.4->ipython->scrapbook) (0.2.5)\n",
            "Requirement already satisfied: six>=1.9.0 in /usr/local/lib/python3.7/dist-packages (from prompt-toolkit<2.0.0,>=1.0.4->ipython->scrapbook) (1.15.0)\n",
            "Requirement already satisfied: ptyprocess>=0.5 in /usr/local/lib/python3.7/dist-packages (from pexpect; sys_platform != \"win32\"->ipython->scrapbook) (0.7.0)\n",
            "Requirement already satisfied: ipython-genutils in /usr/local/lib/python3.7/dist-packages (from traitlets>=4.2->ipython->scrapbook) (0.2.0)\n",
            "Collecting mypy-extensions>=0.4.3\n",
            "  Downloading https://files.pythonhosted.org/packages/5c/eb/975c7c080f3223a5cdaff09612f3a5221e4ba534f7039db34c35d95fa6a5/mypy_extensions-0.4.3-py2.py3-none-any.whl\n",
            "Requirement already satisfied: appdirs in /usr/local/lib/python3.7/dist-packages (from black->papermill->scrapbook) (1.4.4)\n",
            "Collecting regex>=2020.1.8\n",
            "\u001b[?25l  Downloading https://files.pythonhosted.org/packages/c4/28/5f08d8841013ccf72cd95dfff2500fe7fb39467af12c5e7b802d8381d811/regex-2021.4.4-cp37-cp37m-manylinux2014_x86_64.whl (720kB)\n",
            "\u001b[K     |████████████████████████████████| 727kB 51.6MB/s \n",
            "\u001b[?25hRequirement already satisfied: typing-extensions>=3.7.4 in /usr/local/lib/python3.7/dist-packages (from black->papermill->scrapbook) (3.7.4.3)\n",
            "Collecting typed-ast>=1.4.0\n",
            "\u001b[?25l  Downloading https://files.pythonhosted.org/packages/65/b3/573d2f1fecbbe8f82a8d08172e938c247f99abe1be3bef3da2efaa3810bf/typed_ast-1.4.3-cp37-cp37m-manylinux1_x86_64.whl (743kB)\n",
            "\u001b[K     |████████████████████████████████| 747kB 52.4MB/s \n",
            "\u001b[?25hRequirement already satisfied: toml>=0.10.1 in /usr/local/lib/python3.7/dist-packages (from black->papermill->scrapbook) (0.10.2)\n",
            "Collecting pathspec<1,>=0.6\n",
            "  Downloading https://files.pythonhosted.org/packages/29/29/a465741a3d97ea3c17d21eaad4c64205428bde56742360876c4391f930d4/pathspec-0.8.1-py2.py3-none-any.whl\n",
            "Requirement already satisfied: jupyter-core in /usr/local/lib/python3.7/dist-packages (from nbformat>=5.1.2->papermill->scrapbook) (4.7.1)\n",
            "Collecting jupyter-client>=6.1.5\n",
            "\u001b[?25l  Downloading https://files.pythonhosted.org/packages/77/e8/c3cf72a32a697256608d5fa96360c431adec6e1c6709ba7f13f99ff5ee04/jupyter_client-6.1.12-py3-none-any.whl (112kB)\n",
            "\u001b[K     |████████████████████████████████| 122kB 58.7MB/s \n",
            "\u001b[?25hRequirement already satisfied: async-generator in /usr/local/lib/python3.7/dist-packages (from nbclient>=0.2.0->papermill->scrapbook) (1.10)\n",
            "Requirement already satisfied: nest-asyncio in /usr/local/lib/python3.7/dist-packages (from nbclient>=0.2.0->papermill->scrapbook) (1.5.1)\n",
            "Requirement already satisfied: idna<3,>=2.5 in /usr/local/lib/python3.7/dist-packages (from requests->papermill->scrapbook) (2.10)\n",
            "Requirement already satisfied: certifi>=2017.4.17 in /usr/local/lib/python3.7/dist-packages (from requests->papermill->scrapbook) (2020.12.5)\n",
            "Requirement already satisfied: urllib3!=1.25.0,!=1.25.1,<1.26,>=1.21.1 in /usr/local/lib/python3.7/dist-packages (from requests->papermill->scrapbook) (1.24.3)\n",
            "Requirement already satisfied: chardet<4,>=3.0.2 in /usr/local/lib/python3.7/dist-packages (from requests->papermill->scrapbook) (3.0.4)\n",
            "Collecting textwrap3>=0.9.2\n",
            "  Downloading https://files.pythonhosted.org/packages/77/9c/a53e561d496ee5866bbeea4d3a850b3b545ed854f8a21007c1e0d872e94d/textwrap3-0.9.2-py2.py3-none-any.whl\n",
            "Requirement already satisfied: pyzmq>=13 in /usr/local/lib/python3.7/dist-packages (from jupyter-client>=6.1.5->nbclient>=0.2.0->papermill->scrapbook) (22.0.3)\n",
            "Requirement already satisfied: tornado>=4.1 in /usr/local/lib/python3.7/dist-packages (from jupyter-client>=6.1.5->nbclient>=0.2.0->papermill->scrapbook) (5.1.1)\n",
            "Building wheels for collected packages: black\n",
            "  Building wheel for black (PEP 517) ... \u001b[?25l\u001b[?25hdone\n",
            "  Created wheel for black: filename=black-20.8b1-cp37-none-any.whl size=124184 sha256=58bd51b3fbf5e099e7bc7361e0e042cd2af0158ae7de05b896a74080a068c9de\n",
            "  Stored in directory: /root/.cache/pip/wheels/6e/10/b5/edf7359c2edd0305cce7e3f96e07daf7ce55dceac9d3ce3373\n",
            "Successfully built black\n",
            "Installing collected packages: mypy-extensions, regex, typed-ast, pathspec, black, tenacity, textwrap3, ansiwrap, papermill, scrapbook, jupyter-client\n",
            "  Found existing installation: regex 2019.12.20\n",
            "    Uninstalling regex-2019.12.20:\n",
            "      Successfully uninstalled regex-2019.12.20\n",
            "  Found existing installation: jupyter-client 5.3.5\n",
            "    Uninstalling jupyter-client-5.3.5:\n",
            "      Successfully uninstalled jupyter-client-5.3.5\n",
            "Successfully installed ansiwrap-0.8.4 black-20.8b1 jupyter-client-6.1.12 mypy-extensions-0.4.3 papermill-2.3.3 pathspec-0.8.1 regex-2021.4.4 scrapbook-0.5.0 tenacity-7.0.0 textwrap3-0.9.2 typed-ast-1.4.3\n"
          ],
          "name": "stdout"
        },
        {
          "output_type": "display_data",
          "data": {
            "application/vnd.colab-display-data+json": {
              "pip_warning": {
                "packages": [
                  "jupyter_client",
                  "regex"
                ]
              }
            }
          },
          "metadata": {
            "tags": []
          }
        }
      ]
    },
    {
      "cell_type": "code",
      "metadata": {
        "id": "5zzYiidjTcNY"
      },
      "source": [
        "import os\n",
        "import shutil\n",
        "import sys\n",
        "from tempfile import TemporaryDirectory\n",
        "import torch\n",
        "\n",
        "nlp_path = os.path.abspath(\"../../\")\n",
        "if nlp_path not in sys.path:\n",
        "    sys.path.insert(0, nlp_path)\n",
        "\n",
        "from utils_nlp.dataset.cnndm import CNNDMBertSumProcessedData, CNNDMSummarizationDataset\n",
        "from utils_nlp.eval import compute_rouge_python, compute_rouge_perl\n",
        "from utils_nlp.models.transformers.extractive_summarization import (\n",
        "    ExtractiveSummarizer,\n",
        "    ExtSumProcessedData,\n",
        "    ExtSumProcessor,\n",
        ")\n",
        "\n",
        "from utils_nlp.models.transformers.datasets import SummarizationDataset\n",
        "import nltk\n",
        "from nltk import tokenize\n",
        "\n",
        "import pandas as pd\n",
        "import scrapbook as sb\n",
        "import pprint"
      ],
      "execution_count": 1,
      "outputs": []
    },
    {
      "cell_type": "code",
      "metadata": {
        "colab": {
          "base_uri": "https://localhost:8080/",
          "height": 111
        },
        "id": "UfUUZ8uCh0Cc",
        "outputId": "622bb14e-a26e-43ca-b6b9-88143bfe209a"
      },
      "source": [
        "pd.DataFrame({\"model_name\": ExtractiveSummarizer.list_supported_models()})\n"
      ],
      "execution_count": 2,
      "outputs": [
        {
          "output_type": "execute_result",
          "data": {
            "text/html": [
              "<div>\n",
              "<style scoped>\n",
              "    .dataframe tbody tr th:only-of-type {\n",
              "        vertical-align: middle;\n",
              "    }\n",
              "\n",
              "    .dataframe tbody tr th {\n",
              "        vertical-align: top;\n",
              "    }\n",
              "\n",
              "    .dataframe thead th {\n",
              "        text-align: right;\n",
              "    }\n",
              "</style>\n",
              "<table border=\"1\" class=\"dataframe\">\n",
              "  <thead>\n",
              "    <tr style=\"text-align: right;\">\n",
              "      <th></th>\n",
              "      <th>model_name</th>\n",
              "    </tr>\n",
              "  </thead>\n",
              "  <tbody>\n",
              "    <tr>\n",
              "      <th>0</th>\n",
              "      <td>bert-base-uncased</td>\n",
              "    </tr>\n",
              "    <tr>\n",
              "      <th>1</th>\n",
              "      <td>distilbert-base-uncased</td>\n",
              "    </tr>\n",
              "  </tbody>\n",
              "</table>\n",
              "</div>"
            ],
            "text/plain": [
              "                model_name\n",
              "0        bert-base-uncased\n",
              "1  distilbert-base-uncased"
            ]
          },
          "metadata": {
            "tags": []
          },
          "execution_count": 2
        }
      ]
    },
    {
      "cell_type": "code",
      "metadata": {
        "id": "6l_BS7U6h9Pt"
      },
      "source": [
        "MODEL_NAME = \"distilbert-base-uncased\""
      ],
      "execution_count": 3,
      "outputs": []
    },
    {
      "cell_type": "code",
      "metadata": {
        "colab": {
          "base_uri": "https://localhost:8080/",
          "height": 213,
          "referenced_widgets": [
            "8ce4b71331e1463590de4bfb18ac98ec",
            "0bbed81f6812402a84656ee191d0adc0",
            "377c01d60f884a728d311bc699431378",
            "2b5ecf05f1d74be7ae4f3944aa2fbf42",
            "88be25528aa64ce2ac02b5f23fbbe02d",
            "ae772626dca74b1e9582fea894d553b7",
            "859b282f913543179e58ddf70d78c77d",
            "ea1171a2aa4b4b69bc1806604b9fcc00",
            "69e3393e54a442d89fa5f5f0b5555201",
            "b91ea707b4d041e78ad065c160d7cb27",
            "996dada4d2ee4ad48fb678a7b59a9880",
            "f2cde87948874c34911d558ad9013cf6",
            "b8ff139194464385bee00242115dbfce",
            "9b5062e4498f40b8ac95e663a43f1ea1",
            "3eb8956635734eafaef21e8e9efe16d9",
            "acf13c5daff64ed3ae7465db35f575cc",
            "4bc866e3cdb646f58d0ba4f65baec89a",
            "86d30377ae714403b3f5fca287e09711",
            "c8383b88647f4fa581beb179c604715f",
            "be979d369773431093de84b2aafd190a",
            "7d2ffabc880340d1ab494b020c014c96",
            "64d2bd83a2854374ad3fc6fdf207f4d5",
            "cb0a589e35844404aaf1d25d240d65aa",
            "8281ee9e90a749168dcb92c5781192b8",
            "f1d79cb0c8b042a2a2e40fcdb344801f",
            "cf6c51ad6dee46bdba17b40d046acdc6",
            "d9746ce6066b4db78722af911f6c81ef",
            "ef10dee4ffad4ed0af7207a007567284",
            "3692259a75d84001856546af34bdd4cf",
            "20b9a477352e40f4ba087197c851e235",
            "97bf3e3e85af4a44a0df12e6b2d2c306",
            "e014e870e4f3424c9a63700be56257e3"
          ]
        },
        "id": "vKVFvMv9iB_W",
        "outputId": "acb45500-41f9-4e8a-c8f0-4f64fb4b4d1d"
      },
      "source": [
        "# the cache data path during find tuning\n",
        "CACHE_DIR = TemporaryDirectory().name\n",
        "processor = ExtSumProcessor(model_name=MODEL_NAME, cache_dir=CACHE_DIR)\n"
      ],
      "execution_count": 4,
      "outputs": [
        {
          "output_type": "display_data",
          "data": {
            "application/vnd.jupyter.widget-view+json": {
              "model_id": "8ce4b71331e1463590de4bfb18ac98ec",
              "version_minor": 0,
              "version_major": 2
            },
            "text/plain": [
              "HBox(children=(FloatProgress(value=0.0, description='Downloading', max=442.0, style=ProgressStyle(description_…"
            ]
          },
          "metadata": {
            "tags": []
          }
        },
        {
          "output_type": "stream",
          "text": [
            "\n"
          ],
          "name": "stdout"
        },
        {
          "output_type": "display_data",
          "data": {
            "application/vnd.jupyter.widget-view+json": {
              "model_id": "69e3393e54a442d89fa5f5f0b5555201",
              "version_minor": 0,
              "version_major": 2
            },
            "text/plain": [
              "HBox(children=(FloatProgress(value=0.0, description='Downloading', max=231508.0, style=ProgressStyle(descripti…"
            ]
          },
          "metadata": {
            "tags": []
          }
        },
        {
          "output_type": "stream",
          "text": [
            "\n"
          ],
          "name": "stdout"
        },
        {
          "output_type": "display_data",
          "data": {
            "application/vnd.jupyter.widget-view+json": {
              "model_id": "4bc866e3cdb646f58d0ba4f65baec89a",
              "version_minor": 0,
              "version_major": 2
            },
            "text/plain": [
              "HBox(children=(FloatProgress(value=0.0, description='Downloading', max=466062.0, style=ProgressStyle(descripti…"
            ]
          },
          "metadata": {
            "tags": []
          }
        },
        {
          "output_type": "stream",
          "text": [
            "\n"
          ],
          "name": "stdout"
        },
        {
          "output_type": "display_data",
          "data": {
            "application/vnd.jupyter.widget-view+json": {
              "model_id": "f1d79cb0c8b042a2a2e40fcdb344801f",
              "version_minor": 0,
              "version_major": 2
            },
            "text/plain": [
              "HBox(children=(FloatProgress(value=0.0, description='Downloading', max=28.0, style=ProgressStyle(description_w…"
            ]
          },
          "metadata": {
            "tags": []
          }
        },
        {
          "output_type": "stream",
          "text": [
            "\n"
          ],
          "name": "stdout"
        }
      ]
    },
    {
      "cell_type": "code",
      "metadata": {
        "id": "56PPPFe3iI2u"
      },
      "source": [
        "PROCESSED_DATA_PATH = TemporaryDirectory().name\n",
        "os.makedirs(PROCESSED_DATA_PATH, exist_ok=True)"
      ],
      "execution_count": 5,
      "outputs": []
    },
    {
      "cell_type": "code",
      "metadata": {
        "colab": {
          "base_uri": "https://localhost:8080/",
          "height": 231
        },
        "id": "3nhe5SLMifnY",
        "outputId": "69512db6-28f9-4e2a-b85e-8bfad9d7ee74"
      },
      "source": [
        "\n",
        "BATCH_SIZE = 5 # batch size, unit is the number of samples\n",
        "MAX_POS_LENGTH = 512\n",
        "if USE_PREPROCSSED_DATA: #if bertsum published data is used\n",
        "    BATCH_SIZE = 3000 # batch size, unit is the number of tokens\n",
        "    MAX_POS_LENGTH = 512\n",
        "    \n",
        "\n",
        "\n",
        "# GPU used for training\n",
        "NUM_GPUS = torch.cuda.device_count()\n",
        "\n",
        "# Encoder name. Options are: 1. baseline, classifier, transformer, rnn.\n",
        "ENCODER = \"transformer\"\n",
        "\n",
        "# Learning rate\n",
        "LEARNING_RATE=2e-3\n",
        "\n",
        "# How often the statistics reports show up in training, unit is step.\n",
        "REPORT_EVERY=100\n",
        "\n",
        "# total number of steps for training\n",
        "MAX_STEPS=1e2\n",
        "# number of steps for warm up\n",
        "WARMUP_STEPS=5e2\n",
        "    \n",
        "if not QUICK_RUN:\n",
        "    MAX_STEPS=5e4\n",
        "    WARMUP_STEPS=5e3"
      ],
      "execution_count": 6,
      "outputs": [
        {
          "output_type": "error",
          "ename": "NameError",
          "evalue": "ignored",
          "traceback": [
            "\u001b[0;31m---------------------------------------------------------------------------\u001b[0m",
            "\u001b[0;31mNameError\u001b[0m                                 Traceback (most recent call last)",
            "\u001b[0;32m<ipython-input-6-74c08db6d3a0>\u001b[0m in \u001b[0;36m<module>\u001b[0;34m()\u001b[0m\n\u001b[1;32m      2\u001b[0m \u001b[0mBATCH_SIZE\u001b[0m \u001b[0;34m=\u001b[0m \u001b[0;36m5\u001b[0m \u001b[0;31m# batch size, unit is the number of samples\u001b[0m\u001b[0;34m\u001b[0m\u001b[0;34m\u001b[0m\u001b[0m\n\u001b[1;32m      3\u001b[0m \u001b[0mMAX_POS_LENGTH\u001b[0m \u001b[0;34m=\u001b[0m \u001b[0;36m512\u001b[0m\u001b[0;34m\u001b[0m\u001b[0;34m\u001b[0m\u001b[0m\n\u001b[0;32m----> 4\u001b[0;31m \u001b[0;32mif\u001b[0m \u001b[0mUSE_PREPROCSSED_DATA\u001b[0m\u001b[0;34m:\u001b[0m \u001b[0;31m#if bertsum published data is used\u001b[0m\u001b[0;34m\u001b[0m\u001b[0;34m\u001b[0m\u001b[0m\n\u001b[0m\u001b[1;32m      5\u001b[0m     \u001b[0mBATCH_SIZE\u001b[0m \u001b[0;34m=\u001b[0m \u001b[0;36m3000\u001b[0m \u001b[0;31m# batch size, unit is the number of tokens\u001b[0m\u001b[0;34m\u001b[0m\u001b[0;34m\u001b[0m\u001b[0m\n\u001b[1;32m      6\u001b[0m     \u001b[0mMAX_POS_LENGTH\u001b[0m \u001b[0;34m=\u001b[0m \u001b[0;36m512\u001b[0m\u001b[0;34m\u001b[0m\u001b[0;34m\u001b[0m\u001b[0m\n",
            "\u001b[0;31mNameError\u001b[0m: name 'USE_PREPROCSSED_DATA' is not defined"
          ]
        }
      ]
    }
  ]
}